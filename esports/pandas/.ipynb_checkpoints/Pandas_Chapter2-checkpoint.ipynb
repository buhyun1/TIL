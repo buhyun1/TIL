{
 "cells": [
  {
   "cell_type": "markdown",
   "metadata": {},
   "source": [
    "# 1. csv to df"
   ]
  },
  {
   "cell_type": "code",
   "execution_count": 14,
   "metadata": {
    "scrolled": true
   },
   "outputs": [
    {
     "name": "stdout",
     "output_type": "stream",
     "text": [
      "Requirement already satisfied: pandas in c:\\users\\hwang\\appdata\\local\\programs\\python\\python311\\lib\\site-packages (1.5.2)\n",
      "Requirement already satisfied: python-dateutil>=2.8.1 in c:\\users\\hwang\\appdata\\local\\programs\\python\\python311\\lib\\site-packages (from pandas) (2.8.2)\n",
      "Requirement already satisfied: pytz>=2020.1 in c:\\users\\hwang\\appdata\\local\\programs\\python\\python311\\lib\\site-packages (from pandas) (2022.6)\n",
      "Requirement already satisfied: numpy>=1.21.0 in c:\\users\\hwang\\appdata\\local\\programs\\python\\python311\\lib\\site-packages (from pandas) (1.23.5)\n",
      "Requirement already satisfied: six>=1.5 in c:\\users\\hwang\\appdata\\local\\programs\\python\\python311\\lib\\site-packages (from python-dateutil>=2.8.1->pandas) (1.16.0)\n",
      "Note: you may need to restart the kernel to use updated packages.\n"
     ]
    },
    {
     "name": "stderr",
     "output_type": "stream",
     "text": [
      "\n",
      "[notice] A new release of pip is available: 23.1.2 -> 23.2.1\n",
      "[notice] To update, run: C:\\Users\\hwang\\AppData\\Local\\Programs\\Python\\Python311\\python.exe -m pip install --upgrade pip\n"
     ]
    },
    {
     "name": "stdout",
     "output_type": "stream",
     "text": [
      "Requirement already satisfied: openpyxl in c:\\users\\hwang\\appdata\\local\\programs\\python\\python311\\lib\\site-packages (3.1.0)\n",
      "Requirement already satisfied: et-xmlfile in c:\\users\\hwang\\appdata\\local\\programs\\python\\python311\\lib\\site-packages (from openpyxl) (1.1.0)\n",
      "Note: you may need to restart the kernel to use updated packages.\n"
     ]
    },
    {
     "name": "stderr",
     "output_type": "stream",
     "text": [
      "\n",
      "[notice] A new release of pip is available: 23.1.2 -> 23.2.1\n",
      "[notice] To update, run: C:\\Users\\hwang\\AppData\\Local\\Programs\\Python\\Python311\\python.exe -m pip install --upgrade pip\n"
     ]
    },
    {
     "name": "stdout",
     "output_type": "stream",
     "text": [
      "Requirement already satisfied: requests in c:\\users\\hwang\\appdata\\local\\programs\\python\\python311\\lib\\site-packages (2.31.0)Note: you may need to restart the kernel to use updated packages.\n",
      "\n",
      "Requirement already satisfied: charset-normalizer<4,>=2 in c:\\users\\hwang\\appdata\\local\\programs\\python\\python311\\lib\\site-packages (from requests) (3.2.0)\n",
      "Requirement already satisfied: idna<4,>=2.5 in c:\\users\\hwang\\appdata\\local\\programs\\python\\python311\\lib\\site-packages (from requests) (3.4)\n",
      "Requirement already satisfied: urllib3<3,>=1.21.1 in c:\\users\\hwang\\appdata\\local\\programs\\python\\python311\\lib\\site-packages (from requests) (2.0.4)\n",
      "Requirement already satisfied: certifi>=2017.4.17 in c:\\users\\hwang\\appdata\\local\\programs\\python\\python311\\lib\\site-packages (from requests) (2023.7.22)\n"
     ]
    },
    {
     "name": "stderr",
     "output_type": "stream",
     "text": [
      "\n",
      "[notice] A new release of pip is available: 23.1.2 -> 23.2.1\n",
      "[notice] To update, run: C:\\Users\\hwang\\AppData\\Local\\Programs\\Python\\Python311\\python.exe -m pip install --upgrade pip\n"
     ]
    },
    {
     "name": "stdout",
     "output_type": "stream",
     "text": [
      "Requirement already satisfied: googlemaps in c:\\users\\hwang\\appdata\\local\\programs\\python\\python311\\lib\\site-packages (4.10.0)\n",
      "Requirement already satisfied: requests<3.0,>=2.20.0 in c:\\users\\hwang\\appdata\\local\\programs\\python\\python311\\lib\\site-packages (from googlemaps) (2.31.0)\n",
      "Requirement already satisfied: charset-normalizer<4,>=2 in c:\\users\\hwang\\appdata\\local\\programs\\python\\python311\\lib\\site-packages (from requests<3.0,>=2.20.0->googlemaps) (3.2.0)\n",
      "Requirement already satisfied: idna<4,>=2.5 in c:\\users\\hwang\\appdata\\local\\programs\\python\\python311\\lib\\site-packages (from requests<3.0,>=2.20.0->googlemaps) (3.4)\n",
      "Requirement already satisfied: urllib3<3,>=1.21.1 in c:\\users\\hwang\\appdata\\local\\programs\\python\\python311\\lib\\site-packages (from requests<3.0,>=2.20.0->googlemaps) (2.0.4)\n",
      "Requirement already satisfied: certifi>=2017.4.17 in c:\\users\\hwang\\appdata\\local\\programs\\python\\python311\\lib\\site-packages (from requests<3.0,>=2.20.0->googlemaps) (2023.7.22)\n",
      "Note: you may need to restart the kernel to use updated packages.\n"
     ]
    },
    {
     "name": "stderr",
     "output_type": "stream",
     "text": [
      "\n",
      "[notice] A new release of pip is available: 23.1.2 -> 23.2.1\n",
      "[notice] To update, run: C:\\Users\\hwang\\AppData\\Local\\Programs\\Python\\Python311\\python.exe -m pip install --upgrade pip\n"
     ]
    }
   ],
   "source": [
    "%pip install pandas\n",
    "%pip install openpyxl\n",
    "%pip install requests\n",
    "%pip install googlemaps"
   ]
  },
  {
   "cell_type": "code",
   "execution_count": 15,
   "metadata": {},
   "outputs": [],
   "source": [
    "import pandas as pd"
   ]
  },
  {
   "cell_type": "code",
   "execution_count": 16,
   "metadata": {},
   "outputs": [],
   "source": [
    "file_path = './read_csv_sample.csv'"
   ]
  },
  {
   "cell_type": "code",
   "execution_count": 17,
   "metadata": {},
   "outputs": [
    {
     "name": "stdout",
     "output_type": "stream",
     "text": [
      "   c0  c1  c2  c3\n",
      "0   0   1   4   7\n",
      "1   1   2   5   8\n",
      "2   2   3   6   9\n",
      "\n"
     ]
    }
   ],
   "source": [
    "df1 = pd.read_csv(file_path)\n",
    "print(df1)\n",
    "print()"
   ]
  },
  {
   "cell_type": "code",
   "execution_count": 18,
   "metadata": {},
   "outputs": [
    {
     "name": "stdout",
     "output_type": "stream",
     "text": [
      "    0   1   2   3\n",
      "0  c0  c1  c2  c3\n",
      "1   0   1   4   7\n",
      "2   1   2   5   8\n",
      "3   2   3   6   9\n",
      "\n"
     ]
    }
   ],
   "source": [
    "df2 = pd.read_csv(file_path, header=None)\n",
    "print(df2)\n",
    "print()"
   ]
  },
  {
   "cell_type": "code",
   "execution_count": 19,
   "metadata": {},
   "outputs": [
    {
     "name": "stdout",
     "output_type": "stream",
     "text": [
      "   c0  c1  c2  c3\n",
      "0   0   1   4   7\n",
      "1   1   2   5   8\n",
      "2   2   3   6   9\n",
      "\n"
     ]
    }
   ],
   "source": [
    "df3 = pd.read_csv(file_path, index_col=None)\n",
    "print(df3)\n",
    "print()"
   ]
  },
  {
   "cell_type": "code",
   "execution_count": 20,
   "metadata": {},
   "outputs": [
    {
     "name": "stdout",
     "output_type": "stream",
     "text": [
      "    c1  c2  c3\n",
      "c0            \n",
      "0    1   4   7\n",
      "1    2   5   8\n",
      "2    3   6   9\n"
     ]
    }
   ],
   "source": [
    "df4 = pd.read_csv(file_path, index_col='c0')\n",
    "print(df4)"
   ]
  },
  {
   "cell_type": "markdown",
   "metadata": {},
   "source": [
    "# 2. read excel"
   ]
  },
  {
   "cell_type": "code",
   "execution_count": 21,
   "metadata": {},
   "outputs": [],
   "source": [
    "import pandas as pd"
   ]
  },
  {
   "cell_type": "code",
   "execution_count": 22,
   "metadata": {},
   "outputs": [],
   "source": [
    "df1 = pd.read_excel('./남북한발전전력량.xlsx')\n",
    "df2 = pd.read_excel('./남북한발전전력량.xlsx',header=None)"
   ]
  },
  {
   "cell_type": "code",
   "execution_count": 23,
   "metadata": {},
   "outputs": [
    {
     "name": "stdout",
     "output_type": "stream",
     "text": [
      "  전력량 (억㎾h) 발전 전력별  1990  1991  1992  1993  1994  1995  1996  1997  ...  2007  \\\n",
      "0        남한     합계  1077  1186  1310  1444  1650  1847  2055  2244  ...  4031   \n",
      "1       NaN     수력    64    51    49    60    41    55    52    54  ...    50   \n",
      "2       NaN     화력   484   573   696   803  1022  1122  1264  1420  ...  2551   \n",
      "3       NaN    원자력   529   563   565   581   587   670   739   771  ...  1429   \n",
      "4       NaN    신재생     -     -     -     -     -     -     -     -  ...     -   \n",
      "5        북한     합계   277   263   247   221   231   230   213   193  ...   236   \n",
      "6       NaN     수력   156   150   142   133   138   142   125   107  ...   133   \n",
      "7       NaN     화력   121   113   105    88    93    88    88    86  ...   103   \n",
      "8       NaN    원자력     -     -     -     -     -     -     -     -  ...     -   \n",
      "\n",
      "   2008  2009  2010  2011  2012  2013  2014  2015  2016  \n",
      "0  4224  4336  4747  4969  5096  5171  5220  5281  5404  \n",
      "1    56    56    65    78    77    84    78    58    66  \n",
      "2  2658  2802  3196  3343  3430  3581  3427  3402  3523  \n",
      "3  1510  1478  1486  1547  1503  1388  1564  1648  1620  \n",
      "4     -     -     -     -    86   118   151   173   195  \n",
      "5   255   235   237   211   215   221   216   190   239  \n",
      "6   141   125   134   132   135   139   130   100   128  \n",
      "7   114   110   103    79    80    82    86    90   111  \n",
      "8     -     -     -     -     -     -     -     -     -  \n",
      "\n",
      "[9 rows x 29 columns]\n",
      "\n",
      "          0       1     2     3     4     5     6     7     8     9   ...  \\\n",
      "0  전력량 (억㎾h)  발전 전력별  1990  1991  1992  1993  1994  1995  1996  1997  ...   \n",
      "1         남한      합계  1077  1186  1310  1444  1650  1847  2055  2244  ...   \n",
      "2        NaN      수력    64    51    49    60    41    55    52    54  ...   \n",
      "3        NaN      화력   484   573   696   803  1022  1122  1264  1420  ...   \n",
      "4        NaN     원자력   529   563   565   581   587   670   739   771  ...   \n",
      "5        NaN     신재생     -     -     -     -     -     -     -     -  ...   \n",
      "6         북한      합계   277   263   247   221   231   230   213   193  ...   \n",
      "7        NaN      수력   156   150   142   133   138   142   125   107  ...   \n",
      "8        NaN      화력   121   113   105    88    93    88    88    86  ...   \n",
      "9        NaN     원자력     -     -     -     -     -     -     -     -  ...   \n",
      "\n",
      "     19    20    21    22    23    24    25    26    27    28  \n",
      "0  2007  2008  2009  2010  2011  2012  2013  2014  2015  2016  \n",
      "1  4031  4224  4336  4747  4969  5096  5171  5220  5281  5404  \n",
      "2    50    56    56    65    78    77    84    78    58    66  \n",
      "3  2551  2658  2802  3196  3343  3430  3581  3427  3402  3523  \n",
      "4  1429  1510  1478  1486  1547  1503  1388  1564  1648  1620  \n",
      "5     -     -     -     -     -    86   118   151   173   195  \n",
      "6   236   255   235   237   211   215   221   216   190   239  \n",
      "7   133   141   125   134   132   135   139   130   100   128  \n",
      "8   103   114   110   103    79    80    82    86    90   111  \n",
      "9     -     -     -     -     -     -     -     -     -     -  \n",
      "\n",
      "[10 rows x 29 columns]\n"
     ]
    }
   ],
   "source": [
    "print(df1)\n",
    "print()\n",
    "print(df2)"
   ]
  },
  {
   "cell_type": "markdown",
   "metadata": {},
   "source": [
    "# 3. read json"
   ]
  },
  {
   "cell_type": "code",
   "execution_count": 24,
   "metadata": {},
   "outputs": [],
   "source": [
    "import pandas as pd"
   ]
  },
  {
   "cell_type": "code",
   "execution_count": 25,
   "metadata": {},
   "outputs": [
    {
     "name": "stdout",
     "output_type": "stream",
     "text": [
      "           name  year        developer opensource\n",
      "pandas           2008    Wes Mckinneye       True\n",
      "NumPy            2006  Travis Oliphant       True\n",
      "matplotlib       2003   John D. Hunter       True\n",
      "\n",
      "Index(['pandas', 'NumPy', 'matplotlib'], dtype='object')\n"
     ]
    }
   ],
   "source": [
    "df = pd.read_json('./read_json_sample.json')\n",
    "print(df)\n",
    "print()\n",
    "print(df.index)"
   ]
  },
  {
   "cell_type": "markdown",
   "metadata": {},
   "source": [
    "# 4. read html"
   ]
  },
  {
   "cell_type": "code",
   "execution_count": 26,
   "metadata": {},
   "outputs": [],
   "source": [
    "import pandas as pd"
   ]
  },
  {
   "cell_type": "code",
   "execution_count": 27,
   "metadata": {},
   "outputs": [],
   "source": [
    "url ='./sample.html'"
   ]
  },
  {
   "cell_type": "code",
   "execution_count": 28,
   "metadata": {},
   "outputs": [
    {
     "ename": "ImportError",
     "evalue": "lxml not found, please install it",
     "output_type": "error",
     "traceback": [
      "\u001b[1;31m---------------------------------------------------------------------------\u001b[0m",
      "\u001b[1;31mImportError\u001b[0m                               Traceback (most recent call last)",
      "Cell \u001b[1;32mIn [28], line 1\u001b[0m\n\u001b[1;32m----> 1\u001b[0m tables \u001b[38;5;241m=\u001b[39m \u001b[43mpd\u001b[49m\u001b[38;5;241;43m.\u001b[39;49m\u001b[43mread_html\u001b[49m\u001b[43m(\u001b[49m\u001b[43murl\u001b[49m\u001b[43m)\u001b[49m\n",
      "File \u001b[1;32m~\\AppData\\Local\\Programs\\Python\\Python311\\Lib\\site-packages\\pandas\\util\\_decorators.py:331\u001b[0m, in \u001b[0;36mdeprecate_nonkeyword_arguments.<locals>.decorate.<locals>.wrapper\u001b[1;34m(*args, **kwargs)\u001b[0m\n\u001b[0;32m    325\u001b[0m \u001b[38;5;28;01mif\u001b[39;00m \u001b[38;5;28mlen\u001b[39m(args) \u001b[38;5;241m>\u001b[39m num_allow_args:\n\u001b[0;32m    326\u001b[0m     warnings\u001b[38;5;241m.\u001b[39mwarn(\n\u001b[0;32m    327\u001b[0m         msg\u001b[38;5;241m.\u001b[39mformat(arguments\u001b[38;5;241m=\u001b[39m_format_argument_list(allow_args)),\n\u001b[0;32m    328\u001b[0m         \u001b[38;5;167;01mFutureWarning\u001b[39;00m,\n\u001b[0;32m    329\u001b[0m         stacklevel\u001b[38;5;241m=\u001b[39mfind_stack_level(),\n\u001b[0;32m    330\u001b[0m     )\n\u001b[1;32m--> 331\u001b[0m \u001b[38;5;28;01mreturn\u001b[39;00m \u001b[43mfunc\u001b[49m\u001b[43m(\u001b[49m\u001b[38;5;241;43m*\u001b[39;49m\u001b[43margs\u001b[49m\u001b[43m,\u001b[49m\u001b[43m \u001b[49m\u001b[38;5;241;43m*\u001b[39;49m\u001b[38;5;241;43m*\u001b[39;49m\u001b[43mkwargs\u001b[49m\u001b[43m)\u001b[49m\n",
      "File \u001b[1;32m~\\AppData\\Local\\Programs\\Python\\Python311\\Lib\\site-packages\\pandas\\io\\html.py:1205\u001b[0m, in \u001b[0;36mread_html\u001b[1;34m(io, match, flavor, header, index_col, skiprows, attrs, parse_dates, thousands, encoding, decimal, converters, na_values, keep_default_na, displayed_only, extract_links)\u001b[0m\n\u001b[0;32m   1201\u001b[0m validate_header_arg(header)\n\u001b[0;32m   1203\u001b[0m io \u001b[38;5;241m=\u001b[39m stringify_path(io)\n\u001b[1;32m-> 1205\u001b[0m \u001b[38;5;28;01mreturn\u001b[39;00m \u001b[43m_parse\u001b[49m\u001b[43m(\u001b[49m\n\u001b[0;32m   1206\u001b[0m \u001b[43m    \u001b[49m\u001b[43mflavor\u001b[49m\u001b[38;5;241;43m=\u001b[39;49m\u001b[43mflavor\u001b[49m\u001b[43m,\u001b[49m\n\u001b[0;32m   1207\u001b[0m \u001b[43m    \u001b[49m\u001b[43mio\u001b[49m\u001b[38;5;241;43m=\u001b[39;49m\u001b[43mio\u001b[49m\u001b[43m,\u001b[49m\n\u001b[0;32m   1208\u001b[0m \u001b[43m    \u001b[49m\u001b[43mmatch\u001b[49m\u001b[38;5;241;43m=\u001b[39;49m\u001b[43mmatch\u001b[49m\u001b[43m,\u001b[49m\n\u001b[0;32m   1209\u001b[0m \u001b[43m    \u001b[49m\u001b[43mheader\u001b[49m\u001b[38;5;241;43m=\u001b[39;49m\u001b[43mheader\u001b[49m\u001b[43m,\u001b[49m\n\u001b[0;32m   1210\u001b[0m \u001b[43m    \u001b[49m\u001b[43mindex_col\u001b[49m\u001b[38;5;241;43m=\u001b[39;49m\u001b[43mindex_col\u001b[49m\u001b[43m,\u001b[49m\n\u001b[0;32m   1211\u001b[0m \u001b[43m    \u001b[49m\u001b[43mskiprows\u001b[49m\u001b[38;5;241;43m=\u001b[39;49m\u001b[43mskiprows\u001b[49m\u001b[43m,\u001b[49m\n\u001b[0;32m   1212\u001b[0m \u001b[43m    \u001b[49m\u001b[43mparse_dates\u001b[49m\u001b[38;5;241;43m=\u001b[39;49m\u001b[43mparse_dates\u001b[49m\u001b[43m,\u001b[49m\n\u001b[0;32m   1213\u001b[0m \u001b[43m    \u001b[49m\u001b[43mthousands\u001b[49m\u001b[38;5;241;43m=\u001b[39;49m\u001b[43mthousands\u001b[49m\u001b[43m,\u001b[49m\n\u001b[0;32m   1214\u001b[0m \u001b[43m    \u001b[49m\u001b[43mattrs\u001b[49m\u001b[38;5;241;43m=\u001b[39;49m\u001b[43mattrs\u001b[49m\u001b[43m,\u001b[49m\n\u001b[0;32m   1215\u001b[0m \u001b[43m    \u001b[49m\u001b[43mencoding\u001b[49m\u001b[38;5;241;43m=\u001b[39;49m\u001b[43mencoding\u001b[49m\u001b[43m,\u001b[49m\n\u001b[0;32m   1216\u001b[0m \u001b[43m    \u001b[49m\u001b[43mdecimal\u001b[49m\u001b[38;5;241;43m=\u001b[39;49m\u001b[43mdecimal\u001b[49m\u001b[43m,\u001b[49m\n\u001b[0;32m   1217\u001b[0m \u001b[43m    \u001b[49m\u001b[43mconverters\u001b[49m\u001b[38;5;241;43m=\u001b[39;49m\u001b[43mconverters\u001b[49m\u001b[43m,\u001b[49m\n\u001b[0;32m   1218\u001b[0m \u001b[43m    \u001b[49m\u001b[43mna_values\u001b[49m\u001b[38;5;241;43m=\u001b[39;49m\u001b[43mna_values\u001b[49m\u001b[43m,\u001b[49m\n\u001b[0;32m   1219\u001b[0m \u001b[43m    \u001b[49m\u001b[43mkeep_default_na\u001b[49m\u001b[38;5;241;43m=\u001b[39;49m\u001b[43mkeep_default_na\u001b[49m\u001b[43m,\u001b[49m\n\u001b[0;32m   1220\u001b[0m \u001b[43m    \u001b[49m\u001b[43mdisplayed_only\u001b[49m\u001b[38;5;241;43m=\u001b[39;49m\u001b[43mdisplayed_only\u001b[49m\u001b[43m,\u001b[49m\n\u001b[0;32m   1221\u001b[0m \u001b[43m    \u001b[49m\u001b[43mextract_links\u001b[49m\u001b[38;5;241;43m=\u001b[39;49m\u001b[43mextract_links\u001b[49m\u001b[43m,\u001b[49m\n\u001b[0;32m   1222\u001b[0m \u001b[43m\u001b[49m\u001b[43m)\u001b[49m\n",
      "File \u001b[1;32m~\\AppData\\Local\\Programs\\Python\\Python311\\Lib\\site-packages\\pandas\\io\\html.py:982\u001b[0m, in \u001b[0;36m_parse\u001b[1;34m(flavor, io, match, attrs, encoding, displayed_only, extract_links, **kwargs)\u001b[0m\n\u001b[0;32m    980\u001b[0m retained \u001b[38;5;241m=\u001b[39m \u001b[38;5;28;01mNone\u001b[39;00m\n\u001b[0;32m    981\u001b[0m \u001b[38;5;28;01mfor\u001b[39;00m flav \u001b[38;5;129;01min\u001b[39;00m flavor:\n\u001b[1;32m--> 982\u001b[0m     parser \u001b[38;5;241m=\u001b[39m \u001b[43m_parser_dispatch\u001b[49m\u001b[43m(\u001b[49m\u001b[43mflav\u001b[49m\u001b[43m)\u001b[49m\n\u001b[0;32m    983\u001b[0m     p \u001b[38;5;241m=\u001b[39m parser(io, compiled_match, attrs, encoding, displayed_only, extract_links)\n\u001b[0;32m    985\u001b[0m     \u001b[38;5;28;01mtry\u001b[39;00m:\n",
      "File \u001b[1;32m~\\AppData\\Local\\Programs\\Python\\Python311\\Lib\\site-packages\\pandas\\io\\html.py:939\u001b[0m, in \u001b[0;36m_parser_dispatch\u001b[1;34m(flavor)\u001b[0m\n\u001b[0;32m    937\u001b[0m \u001b[38;5;28;01melse\u001b[39;00m:\n\u001b[0;32m    938\u001b[0m     \u001b[38;5;28;01mif\u001b[39;00m \u001b[38;5;129;01mnot\u001b[39;00m _HAS_LXML:\n\u001b[1;32m--> 939\u001b[0m         \u001b[38;5;28;01mraise\u001b[39;00m \u001b[38;5;167;01mImportError\u001b[39;00m(\u001b[38;5;124m\"\u001b[39m\u001b[38;5;124mlxml not found, please install it\u001b[39m\u001b[38;5;124m\"\u001b[39m)\n\u001b[0;32m    940\u001b[0m \u001b[38;5;28;01mreturn\u001b[39;00m _valid_parsers[flavor]\n",
      "\u001b[1;31mImportError\u001b[0m: lxml not found, please install it"
     ]
    }
   ],
   "source": [
    "tables = pd.read_html(url)"
   ]
  },
  {
   "cell_type": "code",
   "execution_count": null,
   "metadata": {},
   "outputs": [],
   "source": [
    "print(len(tables))\n",
    "print()"
   ]
  },
  {
   "cell_type": "code",
   "execution_count": null,
   "metadata": {},
   "outputs": [],
   "source": [
    "for i in range(len(tables)):\n",
    "    print('tables[%s]' % i)\n",
    "    print(tables[i])\n",
    "    print()"
   ]
  },
  {
   "cell_type": "code",
   "execution_count": null,
   "metadata": {},
   "outputs": [],
   "source": [
    "df = tables[1]"
   ]
  },
  {
   "cell_type": "code",
   "execution_count": null,
   "metadata": {},
   "outputs": [],
   "source": [
    "df.set_index(['name'],inplace=True)\n",
    "print(df)"
   ]
  },
  {
   "cell_type": "markdown",
   "metadata": {},
   "source": [
    "# 5. us etf list"
   ]
  },
  {
   "cell_type": "code",
   "execution_count": 29,
   "metadata": {},
   "outputs": [],
   "source": [
    "from bs4 import BeautifulSoup\n",
    "import requests\n",
    "import re\n",
    "import pandas as pd"
   ]
  },
  {
   "cell_type": "code",
   "execution_count": 31,
   "metadata": {},
   "outputs": [
    {
     "name": "stdout",
     "output_type": "stream",
     "text": [
      "Note: you may need to restart the kernel to use updated packages.\n"
     ]
    },
    {
     "name": "stderr",
     "output_type": "stream",
     "text": [
      "\n",
      "[notice] A new release of pip is available: 23.1.2 -> 23.2.1\n",
      "[notice] To update, run: C:\\Users\\hwang\\AppData\\Local\\Programs\\Python\\Python311\\python.exe -m pip install --upgrade pip\n"
     ]
    },
    {
     "name": "stdout",
     "output_type": "stream",
     "text": [
      "Requirement already satisfied: BeautifulSoup4 in c:\\users\\hwang\\appdata\\local\\programs\\python\\python311\\lib\\site-packages (4.11.1)\n",
      "Requirement already satisfied: soupsieve>1.2 in c:\\users\\hwang\\appdata\\local\\programs\\python\\python311\\lib\\site-packages (from BeautifulSoup4) (2.3.2.post1)\n"
     ]
    }
   ],
   "source": [
    "%pip install BeautifulSoup4"
   ]
  },
  {
   "cell_type": "code",
   "execution_count": 32,
   "metadata": {},
   "outputs": [
    {
     "ename": "FeatureNotFound",
     "evalue": "Couldn't find a tree builder with the features you requested: lxml. Do you need to install a parser library?",
     "output_type": "error",
     "traceback": [
      "\u001b[1;31m---------------------------------------------------------------------------\u001b[0m",
      "\u001b[1;31mFeatureNotFound\u001b[0m                           Traceback (most recent call last)",
      "Cell \u001b[1;32mIn [32], line 3\u001b[0m\n\u001b[0;32m      1\u001b[0m url \u001b[38;5;241m=\u001b[39m \u001b[38;5;124m\"\u001b[39m\u001b[38;5;124mhttps://en.wikipedia.org/wiki/List_of_American_exchange-traded_funds\u001b[39m\u001b[38;5;124m\"\u001b[39m\n\u001b[0;32m      2\u001b[0m resp \u001b[38;5;241m=\u001b[39m requests\u001b[38;5;241m.\u001b[39mget(url)\n\u001b[1;32m----> 3\u001b[0m soup \u001b[38;5;241m=\u001b[39m \u001b[43mBeautifulSoup\u001b[49m\u001b[43m(\u001b[49m\u001b[43mresp\u001b[49m\u001b[38;5;241;43m.\u001b[39;49m\u001b[43mtext\u001b[49m\u001b[43m,\u001b[49m\u001b[38;5;124;43m'\u001b[39;49m\u001b[38;5;124;43mlxml\u001b[39;49m\u001b[38;5;124;43m'\u001b[39;49m\u001b[43m)\u001b[49m\n\u001b[0;32m      4\u001b[0m rows \u001b[38;5;241m=\u001b[39m soup\u001b[38;5;241m.\u001b[39mselect(\u001b[38;5;124m'\u001b[39m\u001b[38;5;124mdiv > ul > li\u001b[39m\u001b[38;5;124m'\u001b[39m)\n",
      "File \u001b[1;32m~\\AppData\\Local\\Programs\\Python\\Python311\\Lib\\site-packages\\bs4\\__init__.py:248\u001b[0m, in \u001b[0;36mBeautifulSoup.__init__\u001b[1;34m(self, markup, features, builder, parse_only, from_encoding, exclude_encodings, element_classes, **kwargs)\u001b[0m\n\u001b[0;32m    246\u001b[0m     builder_class \u001b[38;5;241m=\u001b[39m builder_registry\u001b[38;5;241m.\u001b[39mlookup(\u001b[38;5;241m*\u001b[39mfeatures)\n\u001b[0;32m    247\u001b[0m     \u001b[38;5;28;01mif\u001b[39;00m builder_class \u001b[38;5;129;01mis\u001b[39;00m \u001b[38;5;28;01mNone\u001b[39;00m:\n\u001b[1;32m--> 248\u001b[0m         \u001b[38;5;28;01mraise\u001b[39;00m FeatureNotFound(\n\u001b[0;32m    249\u001b[0m             \u001b[38;5;124m\"\u001b[39m\u001b[38;5;124mCouldn\u001b[39m\u001b[38;5;124m'\u001b[39m\u001b[38;5;124mt find a tree builder with the features you \u001b[39m\u001b[38;5;124m\"\u001b[39m\n\u001b[0;32m    250\u001b[0m             \u001b[38;5;124m\"\u001b[39m\u001b[38;5;124mrequested: \u001b[39m\u001b[38;5;132;01m%s\u001b[39;00m\u001b[38;5;124m. Do you need to install a parser library?\u001b[39m\u001b[38;5;124m\"\u001b[39m\n\u001b[0;32m    251\u001b[0m             \u001b[38;5;241m%\u001b[39m \u001b[38;5;124m\"\u001b[39m\u001b[38;5;124m,\u001b[39m\u001b[38;5;124m\"\u001b[39m\u001b[38;5;241m.\u001b[39mjoin(features))\n\u001b[0;32m    253\u001b[0m \u001b[38;5;66;03m# At this point either we have a TreeBuilder instance in\u001b[39;00m\n\u001b[0;32m    254\u001b[0m \u001b[38;5;66;03m# builder, or we have a builder_class that we can instantiate\u001b[39;00m\n\u001b[0;32m    255\u001b[0m \u001b[38;5;66;03m# with the remaining **kwargs.\u001b[39;00m\n\u001b[0;32m    256\u001b[0m \u001b[38;5;28;01mif\u001b[39;00m builder \u001b[38;5;129;01mis\u001b[39;00m \u001b[38;5;28;01mNone\u001b[39;00m:\n",
      "\u001b[1;31mFeatureNotFound\u001b[0m: Couldn't find a tree builder with the features you requested: lxml. Do you need to install a parser library?"
     ]
    }
   ],
   "source": [
    "url = \"https://en.wikipedia.org/wiki/List_of_American_exchange-traded_funds\"\n",
    "resp = requests.get(url)\n",
    "soup = BeautifulSoup(resp.text,'lxml')\n",
    "rows = soup.select('div > ul > li')"
   ]
  },
  {
   "cell_type": "code",
   "execution_count": 12,
   "metadata": {},
   "outputs": [
    {
     "ename": "NameError",
     "evalue": "name 'rows' is not defined",
     "output_type": "error",
     "traceback": [
      "\u001b[1;31m---------------------------------------------------------------------------\u001b[0m",
      "\u001b[1;31mNameError\u001b[0m                                 Traceback (most recent call last)",
      "Cell \u001b[1;32mIn [12], line 2\u001b[0m\n\u001b[0;32m      1\u001b[0m etfs \u001b[38;5;241m=\u001b[39m {}\n\u001b[1;32m----> 2\u001b[0m \u001b[38;5;28;01mfor\u001b[39;00m row \u001b[38;5;129;01min\u001b[39;00m \u001b[43mrows\u001b[49m:\n\u001b[0;32m      4\u001b[0m     \u001b[38;5;28;01mtry\u001b[39;00m:\n\u001b[0;32m      5\u001b[0m         etf_name \u001b[38;5;241m=\u001b[39m re\u001b[38;5;241m.\u001b[39mfindall(\u001b[38;5;124m'\u001b[39m\u001b[38;5;124m^(.*) \u001b[39m\u001b[38;5;124m\\\u001b[39m\u001b[38;5;124m(NYSE\u001b[39m\u001b[38;5;124m'\u001b[39m,row\u001b[38;5;241m.\u001b[39mtext)\n",
      "\u001b[1;31mNameError\u001b[0m: name 'rows' is not defined"
     ]
    }
   ],
   "source": [
    "etfs = {}\n",
    "for row in rows:\n",
    "    \n",
    "    try:\n",
    "        etf_name = re.findall('^(.*) \\(NYSE',row.text)\n",
    "        etf_market = re.findall('\\((.*)\\|',row.text)\n",
    "        etf_ticker = re.findall('NYSE Arca\\|(.*)\\)',row.text)\n",
    "        \n",
    "        # if (len(etf_ticker) > 0) & (len(etf_market) > 0):\n",
    "        # 위키피디아에 새로운 데이터가 추가되어 etf_name또한 확인해줘야 된다.\n",
    "        if(len(etf_ticker) > 0) & (len(etf_market) > 0) & (len(etf_name) > 0):\n",
    "            etfs[etf_ticker[0]] = [etf_market[0], etf_name[0]]\n",
    "        \n",
    "            \n",
    "    except AttributeError as err:\n",
    "        pass"
   ]
  },
  {
   "cell_type": "code",
   "execution_count": 11,
   "metadata": {},
   "outputs": [
    {
     "ename": "NameError",
     "evalue": "name 'etfs' is not defined",
     "output_type": "error",
     "traceback": [
      "\u001b[1;31m---------------------------------------------------------------------------\u001b[0m",
      "\u001b[1;31mNameError\u001b[0m                                 Traceback (most recent call last)",
      "Cell \u001b[1;32mIn [11], line 1\u001b[0m\n\u001b[1;32m----> 1\u001b[0m \u001b[38;5;28mprint\u001b[39m(\u001b[43metfs\u001b[49m)\n\u001b[0;32m      2\u001b[0m \u001b[38;5;28mprint\u001b[39m()\n",
      "\u001b[1;31mNameError\u001b[0m: name 'etfs' is not defined"
     ]
    }
   ],
   "source": [
    "print(etfs)\n",
    "print()"
   ]
  },
  {
   "cell_type": "code",
   "execution_count": 29,
   "metadata": {},
   "outputs": [
    {
     "name": "stdout",
     "output_type": "stream",
     "text": [
      "Empty DataFrame\n",
      "Columns: []\n",
      "Index: []\n"
     ]
    }
   ],
   "source": [
    "df = pd.DataFrame(etfs)\n",
    "print(df)"
   ]
  },
  {
   "cell_type": "markdown",
   "metadata": {},
   "source": [
    "# 6. geocoding_api"
   ]
  },
  {
   "cell_type": "code",
   "execution_count": 32,
   "metadata": {},
   "outputs": [],
   "source": [
    "import googlemaps\n",
    "import pandas as pd"
   ]
  },
  {
   "cell_type": "code",
   "execution_count": 33,
   "metadata": {},
   "outputs": [
    {
     "ename": "ValueError",
     "evalue": "Must provide API key or enterprise credentials when creating client.",
     "output_type": "error",
     "traceback": [
      "\u001b[1;31m---------------------------------------------------------------------------\u001b[0m",
      "\u001b[1;31mValueError\u001b[0m                                Traceback (most recent call last)",
      "\u001b[1;32mc:\\Users\\shain\\Desktop\\0814 가보자고\\Esports_데이터분석\\1. Numpy&Pandas\\Pandas\\Chapter2\\Pandas_Chapter2.ipynb Cell 32\u001b[0m in \u001b[0;36m3\n\u001b[0;32m      <a href='vscode-notebook-cell:/c%3A/Users/shain/Desktop/0814%20%EA%B0%80%EB%B3%B4%EC%9E%90%EA%B3%A0/Esports_%EB%8D%B0%EC%9D%B4%ED%84%B0%EB%B6%84%EC%84%9D/1.%20Numpy%26Pandas/Pandas/Chapter2/Pandas_Chapter2.ipynb#X43sZmlsZQ%3D%3D?line=0'>1</a>\u001b[0m my_key \u001b[39m=\u001b[39m \u001b[39m\"\u001b[39m\u001b[39m\"\u001b[39m\n\u001b[1;32m----> <a href='vscode-notebook-cell:/c%3A/Users/shain/Desktop/0814%20%EA%B0%80%EB%B3%B4%EC%9E%90%EA%B3%A0/Esports_%EB%8D%B0%EC%9D%B4%ED%84%B0%EB%B6%84%EC%84%9D/1.%20Numpy%26Pandas/Pandas/Chapter2/Pandas_Chapter2.ipynb#X43sZmlsZQ%3D%3D?line=2'>3</a>\u001b[0m maps \u001b[39m=\u001b[39m googlemaps\u001b[39m.\u001b[39;49mClient(key\u001b[39m=\u001b[39;49mmy_key)\n\u001b[0;32m      <a href='vscode-notebook-cell:/c%3A/Users/shain/Desktop/0814%20%EA%B0%80%EB%B3%B4%EC%9E%90%EA%B3%A0/Esports_%EB%8D%B0%EC%9D%B4%ED%84%B0%EB%B6%84%EC%84%9D/1.%20Numpy%26Pandas/Pandas/Chapter2/Pandas_Chapter2.ipynb#X43sZmlsZQ%3D%3D?line=4'>5</a>\u001b[0m lat \u001b[39m=\u001b[39m []\n\u001b[0;32m      <a href='vscode-notebook-cell:/c%3A/Users/shain/Desktop/0814%20%EA%B0%80%EB%B3%B4%EC%9E%90%EA%B3%A0/Esports_%EB%8D%B0%EC%9D%B4%ED%84%B0%EB%B6%84%EC%84%9D/1.%20Numpy%26Pandas/Pandas/Chapter2/Pandas_Chapter2.ipynb#X43sZmlsZQ%3D%3D?line=5'>6</a>\u001b[0m lng \u001b[39m=\u001b[39m []\n",
      "File \u001b[1;32mc:\\Users\\shain\\AppData\\Local\\Programs\\Python\\Python310\\lib\\site-packages\\googlemaps\\client.py:140\u001b[0m, in \u001b[0;36mClient.__init__\u001b[1;34m(self, key, client_id, client_secret, timeout, connect_timeout, read_timeout, retry_timeout, requests_kwargs, queries_per_second, queries_per_minute, channel, retry_over_query_limit, experience_id, requests_session, base_url)\u001b[0m\n\u001b[0;32m     64\u001b[0m \u001b[39m\"\"\"\u001b[39;00m\n\u001b[0;32m     65\u001b[0m \u001b[39m:param key: Maps API key. Required, unless \"client_id\" and\u001b[39;00m\n\u001b[0;32m     66\u001b[0m \u001b[39m    \"client_secret\" are set. Most users should use an API key.\u001b[39;00m\n\u001b[1;32m   (...)\u001b[0m\n\u001b[0;32m    137\u001b[0m \n\u001b[0;32m    138\u001b[0m \u001b[39m\"\"\"\u001b[39;00m\n\u001b[0;32m    139\u001b[0m \u001b[39mif\u001b[39;00m \u001b[39mnot\u001b[39;00m key \u001b[39mand\u001b[39;00m \u001b[39mnot\u001b[39;00m (client_secret \u001b[39mand\u001b[39;00m client_id):\n\u001b[1;32m--> 140\u001b[0m     \u001b[39mraise\u001b[39;00m \u001b[39mValueError\u001b[39;00m(\u001b[39m\"\u001b[39m\u001b[39mMust provide API key or enterprise credentials \u001b[39m\u001b[39m\"\u001b[39m\n\u001b[0;32m    141\u001b[0m                      \u001b[39m\"\u001b[39m\u001b[39mwhen creating client.\u001b[39m\u001b[39m\"\u001b[39m)\n\u001b[0;32m    143\u001b[0m \u001b[39mif\u001b[39;00m key \u001b[39mand\u001b[39;00m \u001b[39mnot\u001b[39;00m key\u001b[39m.\u001b[39mstartswith(\u001b[39m\"\u001b[39m\u001b[39mAIza\u001b[39m\u001b[39m\"\u001b[39m):\n\u001b[0;32m    144\u001b[0m     \u001b[39mraise\u001b[39;00m \u001b[39mValueError\u001b[39;00m(\u001b[39m\"\u001b[39m\u001b[39mInvalid API key provided.\u001b[39m\u001b[39m\"\u001b[39m)\n",
      "\u001b[1;31mValueError\u001b[0m: Must provide API key or enterprise credentials when creating client."
     ]
    }
   ],
   "source": [
    "my_key = \"\"\n",
    "\n",
    "maps = googlemaps.Client(key=my_key)\n",
    "\n",
    "lat = []\n",
    "lng = []\n",
    "\n",
    "places = ['seoul','busan']"
   ]
  },
  {
   "cell_type": "code",
   "execution_count": null,
   "metadata": {},
   "outputs": [],
   "source": [
    "i =0\n",
    "for place in places:\n",
    "    i = i + 1\n",
    "    try:\n",
    "        print(i, place)\n",
    "        \n",
    "        geo_location = maps.geocode(place)[0].get('geometry')\n",
    "        lat.append(geo_location['location']['lat'])\n",
    "        lng.append(geo_location['location']['lng'])\n",
    "        \n",
    "    except:\n",
    "        lat.append('')\n",
    "        lng.append('')\n",
    "        print(i)"
   ]
  },
  {
   "cell_type": "code",
   "execution_count": null,
   "metadata": {},
   "outputs": [],
   "source": [
    "df = pd.DataFrame({'위도':lat, '경도':lng}, index=places)\n",
    "print()\n",
    "print(df)"
   ]
  },
  {
   "cell_type": "markdown",
   "metadata": {},
   "source": [
    "# 7. to csv"
   ]
  },
  {
   "cell_type": "code",
   "execution_count": 34,
   "metadata": {},
   "outputs": [],
   "source": [
    "import pandas as pd"
   ]
  },
  {
   "cell_type": "code",
   "execution_count": 35,
   "metadata": {},
   "outputs": [],
   "source": [
    "data = {'name' : [ 'Jerry', 'Riah', 'Paul'],\n",
    "        'algol' : [ \"A\", \"A+\", \"B\"],\n",
    "        'basic' : [ \"C\", \"B\", \"B+\"],\n",
    "        'c++' : [ \"B+\", \"C\", \"C+\"],\n",
    "        }"
   ]
  },
  {
   "cell_type": "code",
   "execution_count": 36,
   "metadata": {},
   "outputs": [
    {
     "name": "stdout",
     "output_type": "stream",
     "text": [
      "      algol basic c++\n",
      "name                 \n",
      "Jerry     A     C  B+\n",
      "Riah     A+     B   C\n",
      "Paul      B    B+  C+\n"
     ]
    }
   ],
   "source": [
    "df = pd.DataFrame(data)\n",
    "df.set_index('name', inplace=True)   #name 열을 인덱스로 지정\n",
    "print(df)"
   ]
  },
  {
   "cell_type": "code",
   "execution_count": 37,
   "metadata": {},
   "outputs": [],
   "source": [
    "df.to_csv(\"./df_to_csv.csv\")"
   ]
  },
  {
   "cell_type": "markdown",
   "metadata": {},
   "source": [
    "# 8. to json"
   ]
  },
  {
   "cell_type": "code",
   "execution_count": 38,
   "metadata": {},
   "outputs": [],
   "source": [
    "import pandas as pd"
   ]
  },
  {
   "cell_type": "code",
   "execution_count": 39,
   "metadata": {},
   "outputs": [],
   "source": [
    "data = {'name' : [ 'Jerry', 'Riah', 'Paul'],\n",
    "        'algol' : [ \"A\", \"A+\", \"B\"],\n",
    "        'basic' : [ \"C\", \"B\", \"B+\"],\n",
    "        'c++' : [ \"B+\", \"C\", \"C+\"],\n",
    "        }"
   ]
  },
  {
   "cell_type": "code",
   "execution_count": 40,
   "metadata": {},
   "outputs": [
    {
     "name": "stdout",
     "output_type": "stream",
     "text": [
      "      algol basic c++\n",
      "name                 \n",
      "Jerry     A     C  B+\n",
      "Riah     A+     B   C\n",
      "Paul      B    B+  C+\n"
     ]
    }
   ],
   "source": [
    "df = pd.DataFrame(data)\n",
    "df.set_index('name', inplace=True)   #name 열을 인덱스로 지정\n",
    "print(df)"
   ]
  },
  {
   "cell_type": "code",
   "execution_count": 41,
   "metadata": {},
   "outputs": [],
   "source": [
    "df.to_json(\"./df_json.json\")"
   ]
  },
  {
   "cell_type": "markdown",
   "metadata": {},
   "source": [
    "# 9. to excel"
   ]
  },
  {
   "cell_type": "code",
   "execution_count": 42,
   "metadata": {},
   "outputs": [],
   "source": [
    "import pandas as pd"
   ]
  },
  {
   "cell_type": "code",
   "execution_count": 43,
   "metadata": {},
   "outputs": [],
   "source": [
    "data = {'name' : [ 'Jerry', 'Riah', 'Paul'],\n",
    "        'algol' : [ \"A\", \"A+\", \"B\"],\n",
    "        'basic' : [ \"C\", \"B\", \"B+\"],\n",
    "        'c++' : [ \"B+\", \"C\", \"C+\"],\n",
    "        }"
   ]
  },
  {
   "cell_type": "code",
   "execution_count": 44,
   "metadata": {},
   "outputs": [
    {
     "name": "stdout",
     "output_type": "stream",
     "text": [
      "      algol basic c++\n",
      "name                 \n",
      "Jerry     A     C  B+\n",
      "Riah     A+     B   C\n",
      "Paul      B    B+  C+\n"
     ]
    }
   ],
   "source": [
    "df = pd.DataFrame(data)\n",
    "df.set_index('name', inplace=True)   #name 열을 인덱스로 지정\n",
    "print(df)"
   ]
  },
  {
   "cell_type": "code",
   "execution_count": 45,
   "metadata": {},
   "outputs": [],
   "source": [
    "df.to_excel(\"./df_excel.xlsx\")"
   ]
  },
  {
   "cell_type": "markdown",
   "metadata": {},
   "source": [
    "# 10. excewriter"
   ]
  },
  {
   "cell_type": "code",
   "execution_count": 52,
   "metadata": {},
   "outputs": [],
   "source": [
    "import pandas as pd"
   ]
  },
  {
   "cell_type": "code",
   "execution_count": 53,
   "metadata": {},
   "outputs": [],
   "source": [
    "data1 = {'name' : [ 'Jerry', 'Riah', 'Paul'],\n",
    "        'algol' : [ \"A\", \"A+\", \"B\"],\n",
    "        'basic' : [ \"C\", \"B\", \"B+\"],\n",
    "        'c++' : [ \"B+\", \"C\", \"C+\"],\n",
    "        }"
   ]
  },
  {
   "cell_type": "code",
   "execution_count": 54,
   "metadata": {},
   "outputs": [],
   "source": [
    "data2 = {'c0':[1,2,3],\n",
    "         'c1':[4,5,6],\n",
    "         'c2':[7,8,9],\n",
    "         'c3':[10,11,12],\n",
    "         'c4':[13,14,15]}"
   ]
  },
  {
   "cell_type": "code",
   "execution_count": 55,
   "metadata": {},
   "outputs": [
    {
     "name": "stdout",
     "output_type": "stream",
     "text": [
      "      algol basic c++\n",
      "name                 \n",
      "Jerry     A     C  B+\n",
      "Riah     A+     B   C\n",
      "Paul      B    B+  C+\n",
      "\n"
     ]
    }
   ],
   "source": [
    "df1 = pd.DataFrame(data1)\n",
    "df1.set_index('name', inplace=True)   #name 열을 인덱스로 지정\n",
    "print(df1)\n",
    "print()"
   ]
  },
  {
   "cell_type": "code",
   "execution_count": 56,
   "metadata": {},
   "outputs": [
    {
     "name": "stdout",
     "output_type": "stream",
     "text": [
      "    c1  c2  c3  c4\n",
      "c0                \n",
      "1    4   7  10  13\n",
      "2    5   8  11  14\n",
      "3    6   9  12  15\n"
     ]
    }
   ],
   "source": [
    "df2 = pd.DataFrame(data2)\n",
    "df2.set_index('c0',inplace=True)\n",
    "print(df2)"
   ]
  },
  {
   "cell_type": "code",
   "execution_count": 57,
   "metadata": {},
   "outputs": [
    {
     "ename": "AttributeError",
     "evalue": "'OpenpyxlWriter' object has no attribute 'save'",
     "output_type": "error",
     "traceback": [
      "\u001b[1;31m---------------------------------------------------------------------------\u001b[0m",
      "\u001b[1;31mAttributeError\u001b[0m                            Traceback (most recent call last)",
      "\u001b[1;32mc:\\Users\\shain\\Desktop\\0814 가보자고\\Esports_데이터분석\\1. Numpy&Pandas\\Pandas\\Chapter2\\Pandas_Chapter2.ipynb Cell 56\u001b[0m in \u001b[0;36m4\n\u001b[0;32m      <a href='vscode-notebook-cell:/c%3A/Users/shain/Desktop/0814%20%EA%B0%80%EB%B3%B4%EC%9E%90%EA%B3%A0/Esports_%EB%8D%B0%EC%9D%B4%ED%84%B0%EB%B6%84%EC%84%9D/1.%20Numpy%26Pandas/Pandas/Chapter2/Pandas_Chapter2.ipynb#Y106sZmlsZQ%3D%3D?line=1'>2</a>\u001b[0m df1\u001b[39m.\u001b[39mto_excel(writer, sheet_name\u001b[39m=\u001b[39m\u001b[39m\"\u001b[39m\u001b[39msheet1\u001b[39m\u001b[39m\"\u001b[39m)\n\u001b[0;32m      <a href='vscode-notebook-cell:/c%3A/Users/shain/Desktop/0814%20%EA%B0%80%EB%B3%B4%EC%9E%90%EA%B3%A0/Esports_%EB%8D%B0%EC%9D%B4%ED%84%B0%EB%B6%84%EC%84%9D/1.%20Numpy%26Pandas/Pandas/Chapter2/Pandas_Chapter2.ipynb#Y106sZmlsZQ%3D%3D?line=2'>3</a>\u001b[0m df2\u001b[39m.\u001b[39mto_excel(writer, sheet_name\u001b[39m=\u001b[39m\u001b[39m\"\u001b[39m\u001b[39msheet2\u001b[39m\u001b[39m\"\u001b[39m)\n\u001b[1;32m----> <a href='vscode-notebook-cell:/c%3A/Users/shain/Desktop/0814%20%EA%B0%80%EB%B3%B4%EC%9E%90%EA%B3%A0/Esports_%EB%8D%B0%EC%9D%B4%ED%84%B0%EB%B6%84%EC%84%9D/1.%20Numpy%26Pandas/Pandas/Chapter2/Pandas_Chapter2.ipynb#Y106sZmlsZQ%3D%3D?line=3'>4</a>\u001b[0m writer\u001b[39m.\u001b[39;49msave()\n",
      "\u001b[1;31mAttributeError\u001b[0m: 'OpenpyxlWriter' object has no attribute 'save'"
     ]
    }
   ],
   "source": [
    "writer = pd.ExcelWriter(\"./df_excelwriter.xlsx\")\n",
    "df1.to_excel(writer, sheet_name=\"sheet1\")\n",
    "df2.to_excel(writer, sheet_name=\"sheet2\")\n",
    "writer.save()"
   ]
  }
 ],
 "metadata": {
  "kernelspec": {
   "display_name": "Python 3 (ipykernel)",
   "language": "python",
   "name": "python3"
  },
  "language_info": {
   "codemirror_mode": {
    "name": "ipython",
    "version": 3
   },
   "file_extension": ".py",
   "mimetype": "text/x-python",
   "name": "python",
   "nbconvert_exporter": "python",
   "pygments_lexer": "ipython3",
   "version": "3.11.0"
  }
 },
 "nbformat": 4,
 "nbformat_minor": 2
}
