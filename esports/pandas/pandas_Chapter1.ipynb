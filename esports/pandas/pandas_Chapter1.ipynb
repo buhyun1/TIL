{
 "cells": [
  {
   "cell_type": "code",
   "execution_count": 12,
   "metadata": {},
   "outputs": [
    {
     "name": "stdout",
     "output_type": "stream",
     "text": [
      "Requirement already satisfied: pandas in c:\\users\\hwang\\miniconda3\\envs\\esports\\lib\\site-packages (2.0.3)\n",
      "Requirement already satisfied: python-dateutil>=2.8.2 in c:\\users\\hwang\\miniconda3\\envs\\esports\\lib\\site-packages (from pandas) (2.8.2)\n",
      "Requirement already satisfied: pytz>=2020.1 in c:\\users\\hwang\\miniconda3\\envs\\esports\\lib\\site-packages (from pandas) (2023.3)\n",
      "Requirement already satisfied: tzdata>=2022.1 in c:\\users\\hwang\\miniconda3\\envs\\esports\\lib\\site-packages (from pandas) (2023.3)\n",
      "Requirement already satisfied: numpy>=1.21.0 in c:\\users\\hwang\\miniconda3\\envs\\esports\\lib\\site-packages (from pandas) (1.25.2)\n",
      "Requirement already satisfied: six>=1.5 in c:\\users\\hwang\\miniconda3\\envs\\esports\\lib\\site-packages (from python-dateutil>=2.8.2->pandas) (1.16.0)\n"
     ]
    }
   ],
   "source": [
    "!pip install pandas"
   ]
  },
  {
   "cell_type": "code",
   "execution_count": 13,
   "metadata": {},
   "outputs": [],
   "source": [
    "import pandas as pd "
   ]
  },
  {
   "cell_type": "markdown",
   "metadata": {},
   "source": [
    "## dict to series"
   ]
  },
  {
   "cell_type": "code",
   "execution_count": 14,
   "metadata": {},
   "outputs": [
    {
     "name": "stdout",
     "output_type": "stream",
     "text": [
      "<class 'pandas.core.series.Series'>\n",
      "\n",
      "\n"
     ]
    }
   ],
   "source": [
    "dict_data = {'a':1,'b':2,'c':3}\n",
    "sr = pd.Series(dict_data)\n",
    "print(type(sr))\n",
    "print(\"\\n\")"
   ]
  },
  {
   "cell_type": "code",
   "execution_count": 15,
   "metadata": {},
   "outputs": [
    {
     "name": "stdout",
     "output_type": "stream",
     "text": [
      "a    1\n",
      "b    2\n",
      "c    3\n",
      "dtype: int64\n"
     ]
    }
   ],
   "source": [
    "print(sr)"
   ]
  },
  {
   "cell_type": "markdown",
   "metadata": {},
   "source": [
    "# Series index"
   ]
  },
  {
   "cell_type": "code",
   "execution_count": 16,
   "metadata": {},
   "outputs": [
    {
     "name": "stdout",
     "output_type": "stream",
     "text": [
      "0    2019-01-02\n",
      "1          3.14\n",
      "2           ABC\n",
      "3           100\n",
      "4          True\n",
      "dtype: object\n"
     ]
    }
   ],
   "source": [
    "list_data = [\"2019-01-02\",3.14,'ABC',100,True]\n",
    "sr = pd.Series(list_data)\n",
    "print(sr)"
   ]
  },
  {
   "cell_type": "markdown",
   "metadata": {},
   "source": [
    "# series element"
   ]
  },
  {
   "cell_type": "code",
   "execution_count": 17,
   "metadata": {},
   "outputs": [
    {
     "name": "stdout",
     "output_type": "stream",
     "text": [
      "이름              준원\n",
      "생년월일    2002-05-13\n",
      "성별               남\n",
      "학생여부          True\n",
      "dtype: object\n"
     ]
    }
   ],
   "source": [
    "tup_data = (\"준원\",\"2002-05-13\",\"남\",True)\n",
    "sr = pd.Series(tup_data,index = [\"이름\",\"생년월일\",\"성별\",\"학생여부\"])\n",
    "print(sr)"
   ]
  },
  {
   "cell_type": "code",
   "execution_count": 18,
   "metadata": {},
   "outputs": [
    {
     "name": "stdout",
     "output_type": "stream",
     "text": [
      "준원\n",
      "준원\n"
     ]
    }
   ],
   "source": [
    "#원소를 1개 선택\n",
    "print(sr[0])\n",
    "print(sr['이름'])"
   ]
  },
  {
   "cell_type": "code",
   "execution_count": 19,
   "metadata": {},
   "outputs": [
    {
     "name": "stdout",
     "output_type": "stream",
     "text": [
      "이름    준원\n",
      "성별     남\n",
      "dtype: object\n",
      "\n",
      "\n",
      "생년월일    2002-05-13\n",
      "성별               남\n",
      "dtype: object\n"
     ]
    }
   ],
   "source": [
    "#여러개의 원소선택(인덱스 리스트 사용)\n",
    "print(sr[[0,2]])\n",
    "print(\"\\n\")\n",
    "print(sr[['생년월일','성별']])"
   ]
  },
  {
   "cell_type": "code",
   "execution_count": 20,
   "metadata": {},
   "outputs": [
    {
     "name": "stdout",
     "output_type": "stream",
     "text": [
      "생년월일    2002-05-13\n",
      "dtype: object\n",
      "\n",
      "\n",
      "생년월일    2002-05-13\n",
      "성별               남\n",
      "학생여부          True\n",
      "dtype: object\n"
     ]
    }
   ],
   "source": [
    "#여러개의 원소선택(인덱스 범위지정)\n",
    "print(sr[1 : 2])\n",
    "#정수형 위치 인덱스 사용시 범위의 끝(2)이 포함되지 않는\n",
    "print(\"\\n\")\n",
    "print(sr['생년월일':'학생여부'])"
   ]
  },
  {
   "cell_type": "markdown",
   "metadata": {},
   "source": [
    "# dict to dataframe"
   ]
  },
  {
   "cell_type": "code",
   "execution_count": 21,
   "metadata": {},
   "outputs": [
    {
     "name": "stdout",
     "output_type": "stream",
     "text": [
      "<class 'pandas.core.frame.DataFrame'>\n",
      "\n",
      "\n"
     ]
    }
   ],
   "source": [
    "dict_data = {'c0':[1,2,3],'c1':[4,5,6],'c2':[7,8,9],'c3':[10,11,12],'c4':[13,14,15]}\n",
    "df=pd.DataFrame(dict_data)\n",
    "print(type(df))\n",
    "print(\"\\n\")"
   ]
  },
  {
   "cell_type": "code",
   "execution_count": 22,
   "metadata": {},
   "outputs": [
    {
     "name": "stdout",
     "output_type": "stream",
     "text": [
      "   c0  c1  c2  c3  c4\n",
      "0   1   4   7  10  13\n",
      "1   2   5   8  11  14\n",
      "2   3   6   9  12  15\n"
     ]
    }
   ],
   "source": [
    "print(df)"
   ]
  },
  {
   "cell_type": "markdown",
   "metadata": {},
   "source": [
    "# change df idx col"
   ]
  },
  {
   "cell_type": "code",
   "execution_count": 23,
   "metadata": {},
   "outputs": [
    {
     "name": "stdout",
     "output_type": "stream",
     "text": [
      "    나이 성별    학교\n",
      "준원  19  남  사대부고\n",
      "윤영  19  여  사대부고\n",
      "\n",
      "\n",
      "Index(['준원', '윤영'], dtype='object')\n",
      "\n",
      "\n",
      "Index(['나이', '성별', '학교'], dtype='object')\n"
     ]
    }
   ],
   "source": [
    "df = pd.DataFrame([[19,'남','사대부고'],[19,'여',\"사대부고\"]],\n",
    "                  index = ['준원','윤영'],\n",
    "                  columns=['나이','성별','학교'])\n",
    "\n",
    "print(df)\n",
    "print('\\n')\n",
    "print(df.index)\n",
    "print('\\n')\n",
    "print(df.columns)"
   ]
  },
  {
   "cell_type": "code",
   "execution_count": 24,
   "metadata": {},
   "outputs": [
    {
     "name": "stdout",
     "output_type": "stream",
     "text": [
      "     연령 남녀    소속\n",
      "학생1  19  남  사대부고\n",
      "학생2  19  여  사대부고\n",
      "\n",
      "\n",
      "Index(['학생1', '학생2'], dtype='object')\n",
      "\n",
      "\n",
      "Index(['연령', '남녀', '소속'], dtype='object')\n"
     ]
    }
   ],
   "source": [
    "#행 인덱스, 열 이름 변경하기\n",
    "df.index=['학생1','학생2']\n",
    "df.columns = ['연령','남녀','소속']\n",
    "\n",
    "print(df)\n",
    "print(\"\\n\")\n",
    "print(df.index)\n",
    "print(\"\\n\")\n",
    "print(df.columns)"
   ]
  },
  {
   "cell_type": "code",
   "execution_count": 25,
   "metadata": {},
   "outputs": [
    {
     "name": "stdout",
     "output_type": "stream",
     "text": [
      "     age sex group\n",
      "학생1   19   남  사대부고\n",
      "학생2   19   여  사대부고\n"
     ]
    }
   ],
   "source": [
    "df.rename(columns={'연령' : 'age','남녀' : 'sex','소속' : 'group'}, inplace=True)\n",
    "df.rename(index={'준원' : 'std1','윤영' : 'std2'}, inplace=True) \n",
    "#True는 원본 데이터를 수정, False는 새로운 데이터로 생성\n",
    "\n",
    "print(df)"
   ]
  },
  {
   "cell_type": "code",
   "execution_count": 26,
   "metadata": {},
   "outputs": [
    {
     "name": "stdout",
     "output_type": "stream",
     "text": [
      "    수학  영어   음악   체육\n",
      "준원  90  98   85  100\n",
      "준서  80  89   95   90\n",
      "전어  70  95  100   90\n"
     ]
    }
   ],
   "source": [
    "exam_data = {'수학' : [90,80,70], '영어' : [98,89,95], \n",
    "             '음악' : [85,95,100], '체육' : [100,90,90]}\n",
    "df = pd.DataFrame(exam_data, index = ['준원','준서','전어'])\n",
    "print(df) "
   ]
  },
  {
   "cell_type": "code",
   "execution_count": 27,
   "metadata": {},
   "outputs": [
    {
     "name": "stdout",
     "output_type": "stream",
     "text": [
      "    수학  영어   음악   체육\n",
      "준원  90  98   85  100\n",
      "전어  70  95  100   90\n",
      "\n"
     ]
    },
    {
     "name": "stderr",
     "output_type": "stream",
     "text": [
      "C:\\Users\\hwang\\AppData\\Local\\Temp\\ipykernel_11560\\3920591656.py:2: SettingWithCopyWarning: \n",
      "A value is trying to be set on a copy of a slice from a DataFrame\n",
      "\n",
      "See the caveats in the documentation: https://pandas.pydata.org/pandas-docs/stable/user_guide/indexing.html#returning-a-view-versus-a-copy\n",
      "  df2.drop('준서',inplace=True)\n"
     ]
    }
   ],
   "source": [
    "df2 = df[:]\n",
    "df2.drop('준서',inplace=True)\n",
    "print(df2)\n",
    "print()"
   ]
  },
  {
   "cell_type": "code",
   "execution_count": 28,
   "metadata": {},
   "outputs": [
    {
     "name": "stdout",
     "output_type": "stream",
     "text": [
      "    수학  영어  음악   체육\n",
      "준원  90  98  85  100\n"
     ]
    },
    {
     "name": "stderr",
     "output_type": "stream",
     "text": [
      "C:\\Users\\hwang\\AppData\\Local\\Temp\\ipykernel_11560\\725846507.py:2: SettingWithCopyWarning: \n",
      "A value is trying to be set on a copy of a slice from a DataFrame\n",
      "\n",
      "See the caveats in the documentation: https://pandas.pydata.org/pandas-docs/stable/user_guide/indexing.html#returning-a-view-versus-a-copy\n",
      "  df3.drop(['준서','전어'],axis=0, inplace=True)\n"
     ]
    }
   ],
   "source": [
    "df3 = df[:]\n",
    "df3.drop(['준서','전어'],axis=0, inplace=True)\n",
    "print(df3)"
   ]
  },
  {
   "cell_type": "markdown",
   "metadata": {},
   "source": [
    "# remove row"
   ]
  },
  {
   "cell_type": "code",
   "execution_count": 29,
   "metadata": {},
   "outputs": [
    {
     "name": "stdout",
     "output_type": "stream",
     "text": [
      "    수학  영어   음악   체육\n",
      "준원  90  98   85  100\n",
      "준서  80  89   95   90\n",
      "전어  70  95  100   90\n",
      "\n",
      "    수학  영어   음악   체육\n",
      "준원  90  98   85  100\n",
      "전어  70  95  100   90\n",
      "\n",
      "    수학  영어  음악   체육\n",
      "준원  90  98  85  100\n"
     ]
    },
    {
     "name": "stderr",
     "output_type": "stream",
     "text": [
      "C:\\Users\\hwang\\AppData\\Local\\Temp\\ipykernel_11560\\315462544.py:10: SettingWithCopyWarning: \n",
      "A value is trying to be set on a copy of a slice from a DataFrame\n",
      "\n",
      "See the caveats in the documentation: https://pandas.pydata.org/pandas-docs/stable/user_guide/indexing.html#returning-a-view-versus-a-copy\n",
      "  df2.drop('준서',inplace=True)\n",
      "C:\\Users\\hwang\\AppData\\Local\\Temp\\ipykernel_11560\\315462544.py:16: SettingWithCopyWarning: \n",
      "A value is trying to be set on a copy of a slice from a DataFrame\n",
      "\n",
      "See the caveats in the documentation: https://pandas.pydata.org/pandas-docs/stable/user_guide/indexing.html#returning-a-view-versus-a-copy\n",
      "  df3.drop(['준서','전어'],axis=0, inplace=True)\n"
     ]
    }
   ],
   "source": [
    "exam_data = {'수학' : [90,80,70], '영어' : [98,89,95], \n",
    "             '음악' : [85,95,100], '체육' : [100,90,90]}\n",
    "\n",
    "df = pd.DataFrame(exam_data, index = ['준원','준서','전어'])\n",
    "print(df)\n",
    "print()\n",
    "\n",
    "\n",
    "df2 = df[:]\n",
    "df2.drop('준서',inplace=True)\n",
    "print(df2)\n",
    "print()\n",
    "\n",
    "\n",
    "df3 = df[:]\n",
    "df3.drop(['준서','전어'],axis=0, inplace=True)\n",
    "print(df3)"
   ]
  },
  {
   "cell_type": "markdown",
   "metadata": {},
   "source": [
    "# remove column"
   ]
  },
  {
   "cell_type": "code",
   "execution_count": 30,
   "metadata": {},
   "outputs": [
    {
     "name": "stdout",
     "output_type": "stream",
     "text": [
      "    수학  영어   음악   체육\n",
      "준원  90  98   85  100\n",
      "준서  80  89   95   90\n",
      "전어  70  95  100   90\n",
      "\n",
      "    영어   음악   체육\n",
      "준원  98   85  100\n",
      "준서  89   95   90\n",
      "전어  95  100   90\n",
      "\n",
      "    수학   체육\n",
      "준원  90  100\n",
      "준서  80   90\n",
      "전어  70   90\n"
     ]
    },
    {
     "name": "stderr",
     "output_type": "stream",
     "text": [
      "C:\\Users\\hwang\\AppData\\Local\\Temp\\ipykernel_11560\\2146406440.py:10: SettingWithCopyWarning: \n",
      "A value is trying to be set on a copy of a slice from a DataFrame\n",
      "\n",
      "See the caveats in the documentation: https://pandas.pydata.org/pandas-docs/stable/user_guide/indexing.html#returning-a-view-versus-a-copy\n",
      "  df4.drop('수학',axis=1,inplace=True)\n",
      "C:\\Users\\hwang\\AppData\\Local\\Temp\\ipykernel_11560\\2146406440.py:16: SettingWithCopyWarning: \n",
      "A value is trying to be set on a copy of a slice from a DataFrame\n",
      "\n",
      "See the caveats in the documentation: https://pandas.pydata.org/pandas-docs/stable/user_guide/indexing.html#returning-a-view-versus-a-copy\n",
      "  df5.drop(['영어','음악'],axis=1,inplace=True) #0일때는 행 삭제, 1일때는 열 삭제\n"
     ]
    }
   ],
   "source": [
    "exam_data = {'수학' : [90,80,70], '영어' : [98,89,95], \n",
    "             '음악' : [85,95,100], '체육' : [100,90,90]}\n",
    "\n",
    "df = pd.DataFrame(exam_data, index = ['준원','준서','전어'])\n",
    "print(df)\n",
    "print()\n",
    "\n",
    "\n",
    "df4 = df[:]\n",
    "df4.drop('수학',axis=1,inplace=True)\n",
    "print(df4)\n",
    "print()\n",
    "\n",
    "\n",
    "df5 = df[:]\n",
    "df5.drop(['영어','음악'],axis=1,inplace=True) #0일때는 행 삭제, 1일때는 열 삭제\n",
    "print(df5)"
   ]
  },
  {
   "cell_type": "markdown",
   "metadata": {},
   "source": [
    "# select row"
   ]
  },
  {
   "cell_type": "code",
   "execution_count": 31,
   "metadata": {},
   "outputs": [
    {
     "name": "stdout",
     "output_type": "stream",
     "text": [
      "    수학  영어   음악   체육\n",
      "준원  90  98   85  100\n",
      "준서  80  89   95   90\n",
      "전어  70  95  100   90\n",
      "\n"
     ]
    }
   ],
   "source": [
    "exam_data = {'수학' : [90,80,70], '영어' : [98,89,95], \n",
    "             '음악' : [85,95,100], '체육' : [100,90,90]}\n",
    "\n",
    "df = pd.DataFrame(exam_data, index = ['준원','준서','전어'])\n",
    "print(df)\n",
    "print()"
   ]
  },
  {
   "cell_type": "code",
   "execution_count": 32,
   "metadata": {},
   "outputs": [
    {
     "name": "stdout",
     "output_type": "stream",
     "text": [
      "수학     90\n",
      "영어     98\n",
      "음악     85\n",
      "체육    100\n",
      "Name: 준원, dtype: int64\n",
      "\n",
      "수학     90\n",
      "영어     98\n",
      "음악     85\n",
      "체육    100\n",
      "Name: 준원, dtype: int64\n"
     ]
    }
   ],
   "source": [
    "label1 = df.loc['준원']\n",
    "position1 = df.iloc[0]\n",
    "print(label1)\n",
    "print()\n",
    "print(position1)"
   ]
  },
  {
   "cell_type": "code",
   "execution_count": 33,
   "metadata": {},
   "outputs": [
    {
     "name": "stdout",
     "output_type": "stream",
     "text": [
      "    수학  영어   음악  체육\n",
      "준서  80  89   95  90\n",
      "전어  70  95  100  90\n",
      "\n",
      "    수학  영어   음악  체육\n",
      "준서  80  89   95  90\n",
      "전어  70  95  100  90\n"
     ]
    }
   ],
   "source": [
    "label2 = df.loc[['준서','전어']]\n",
    "position2 = df.iloc[[1,2]]\n",
    "print(label2)\n",
    "print()\n",
    "print(position2) # 결과는 같음"
   ]
  },
  {
   "cell_type": "code",
   "execution_count": 34,
   "metadata": {},
   "outputs": [
    {
     "name": "stdout",
     "output_type": "stream",
     "text": [
      "    수학  영어  음악   체육\n",
      "준원  90  98  85  100\n",
      "준서  80  89  95   90\n",
      "\n",
      "    수학  영어  음악   체육\n",
      "준원  90  98  85  100\n"
     ]
    }
   ],
   "source": [
    "label3 = df.loc[\"준원\":'준서']\n",
    "position3 = df.iloc[0:1]\n",
    "print(label3)\n",
    "print()\n",
    "print(position3)"
   ]
  },
  {
   "cell_type": "markdown",
   "metadata": {},
   "source": [
    "# select column"
   ]
  },
  {
   "cell_type": "code",
   "execution_count": 35,
   "metadata": {},
   "outputs": [
    {
     "name": "stdout",
     "output_type": "stream",
     "text": [
      "  name  math  eng  music   pe\n",
      "0  seo    90   98     85  100\n",
      "1  woo    80   89     95   90\n",
      "2  lna    70   95    100   90\n",
      "<class 'pandas.core.frame.DataFrame'>\n",
      "\n"
     ]
    }
   ],
   "source": [
    "exam_data = {'name' : ['seo','woo','lna'],\n",
    "             'math' : [90,80,70], \n",
    "             'eng' : [98,89,95], \n",
    "             'music' : [85,95,100], \n",
    "             'pe' : [100,90,90]}\n",
    "df = pd.DataFrame(exam_data)\n",
    "print(df)\n",
    "print(type(df))\n",
    "print()"
   ]
  },
  {
   "cell_type": "code",
   "execution_count": 36,
   "metadata": {},
   "outputs": [
    {
     "name": "stdout",
     "output_type": "stream",
     "text": [
      "0    90\n",
      "1    80\n",
      "2    70\n",
      "Name: math, dtype: int64\n",
      "<class 'pandas.core.series.Series'>\n",
      "\n"
     ]
    }
   ],
   "source": [
    "math1 = df['math']\n",
    "print(math1)\n",
    "print(type(math1))\n",
    "print()\n"
   ]
  },
  {
   "cell_type": "code",
   "execution_count": 37,
   "metadata": {},
   "outputs": [
    {
     "name": "stdout",
     "output_type": "stream",
     "text": [
      "0    98\n",
      "1    89\n",
      "2    95\n",
      "Name: eng, dtype: int64\n",
      "<class 'pandas.core.series.Series'>\n"
     ]
    }
   ],
   "source": [
    "english = df.eng\n",
    "print(english)\n",
    "print(type(english))"
   ]
  },
  {
   "cell_type": "code",
   "execution_count": 38,
   "metadata": {},
   "outputs": [
    {
     "name": "stdout",
     "output_type": "stream",
     "text": [
      "   music   pe\n",
      "0     85  100\n",
      "1     95   90\n",
      "2    100   90\n",
      "\n"
     ]
    }
   ],
   "source": [
    "music_gym = df[['music','pe']]\n",
    "print(music_gym)\n",
    "print()"
   ]
  },
  {
   "cell_type": "code",
   "execution_count": 39,
   "metadata": {},
   "outputs": [
    {
     "name": "stdout",
     "output_type": "stream",
     "text": [
      "   math\n",
      "0    90\n",
      "1    80\n",
      "2    70\n",
      "<class 'pandas.core.frame.DataFrame'>\n"
     ]
    }
   ],
   "source": [
    "math2 = df[['math']]\n",
    "print(math2)\n",
    "print(type(math2)) # 데이터 프레임 형태"
   ]
  },
  {
   "cell_type": "markdown",
   "metadata": {},
   "source": [
    "# select element"
   ]
  },
  {
   "cell_type": "code",
   "execution_count": 76,
   "metadata": {},
   "outputs": [
    {
     "name": "stdout",
     "output_type": "stream",
     "text": [
      "  name  math  eng  music   pe\n",
      "0  seo    90   98     85  100\n",
      "1  woo    80   89     95   90\n",
      "2  lna    70   95    100   90\n",
      "      math  eng  music   pe\n",
      "name                       \n",
      "seo     90   98     85  100\n",
      "woo     80   89     95   90\n",
      "lna     70   95    100   90\n"
     ]
    }
   ],
   "source": [
    "exam_data = {'name' : ['seo','woo','lna'],\n",
    "             'math' : [90,80,70], \n",
    "             'eng' : [98,89,95], \n",
    "             'music' : [85,95,100], \n",
    "             'pe' : [100,90,90]}\n",
    "df = pd.DataFrame(exam_data)\n",
    "print(df)\n",
    "\n",
    "df.set_index('name',inplace=True)\n",
    "print(df)\n"
   ]
  },
  {
   "cell_type": "code",
   "execution_count": 41,
   "metadata": {},
   "outputs": [
    {
     "name": "stdout",
     "output_type": "stream",
     "text": [
      "85\n",
      "85\n"
     ]
    }
   ],
   "source": [
    "a = df.loc['seo','music']\n",
    "print(a)\n",
    "b=df.iloc[0,2]\n",
    "print(b)\n"
   ]
  },
  {
   "cell_type": "code",
   "execution_count": 42,
   "metadata": {},
   "outputs": [
    {
     "name": "stdout",
     "output_type": "stream",
     "text": [
      "music     85\n",
      "pe       100\n",
      "Name: seo, dtype: int64\n",
      "music     85\n",
      "pe       100\n",
      "Name: seo, dtype: int64\n",
      "music     85\n",
      "pe       100\n",
      "Name: seo, dtype: int64\n",
      "music     85\n",
      "pe       100\n",
      "Name: seo, dtype: int64\n"
     ]
    }
   ],
   "source": [
    "c=df.loc['seo',['music','pe']]\n",
    "print(c)\n",
    "d=df.iloc[0,[2,3]]\n",
    "print(d)\n",
    "e=df.loc['seo','music':'pe']\n",
    "print(e)\n",
    "f=df.iloc[0,2:]\n",
    "print(f)"
   ]
  },
  {
   "cell_type": "code",
   "execution_count": 43,
   "metadata": {},
   "outputs": [
    {
     "name": "stdout",
     "output_type": "stream",
     "text": [
      "      music   pe\n",
      "name            \n",
      "seo      85  100\n",
      "woo      95   90\n",
      "      music   pe\n",
      "name            \n",
      "seo      85  100\n",
      "lna     100   90\n",
      "      music   pe\n",
      "name            \n",
      "seo      85  100\n",
      "woo      95   90\n",
      "      music   pe\n",
      "name            \n",
      "seo      85  100\n",
      "woo      95   90\n"
     ]
    }
   ],
   "source": [
    "g=df.loc[['seo','woo'],['music','pe']]\n",
    "print(g)\n",
    "h=df.iloc[[0,2],[2,3]]\n",
    "print(h)\n",
    "i=df.loc['seo':'woo','music':'pe']\n",
    "print(i)\n",
    "j=df.iloc[0:2,2:]\n",
    "print(j)"
   ]
  },
  {
   "cell_type": "markdown",
   "metadata": {},
   "source": [
    "# add column"
   ]
  },
  {
   "cell_type": "code",
   "execution_count": 44,
   "metadata": {},
   "outputs": [
    {
     "name": "stdout",
     "output_type": "stream",
     "text": [
      "  name  math  eng  music   pe\n",
      "0  seo    90   98     85  100\n",
      "1  woo    80   89     95   90\n",
      "2  lna    70   95    100   90\n",
      "\n"
     ]
    }
   ],
   "source": [
    "exam_data = {'name' : ['seo','woo','lna'],\n",
    "             'math' : [90,80,70], \n",
    "             'eng' : [98,89,95], \n",
    "             'music' : [85,95,100], \n",
    "             'pe' : [100,90,90]}\n",
    "df = pd.DataFrame(exam_data)\n",
    "print(df)\n",
    "print()"
   ]
  },
  {
   "cell_type": "code",
   "execution_count": 45,
   "metadata": {},
   "outputs": [
    {
     "name": "stdout",
     "output_type": "stream",
     "text": [
      "  name  math  eng  music   pe  korean\n",
      "0  seo    90   98     85  100      80\n",
      "1  woo    80   89     95   90      80\n",
      "2  lna    70   95    100   90      80\n"
     ]
    }
   ],
   "source": [
    "df['korean']=80\n",
    "print(df)"
   ]
  },
  {
   "cell_type": "markdown",
   "metadata": {},
   "source": [
    "# add row"
   ]
  },
  {
   "cell_type": "code",
   "execution_count": 46,
   "metadata": {},
   "outputs": [
    {
     "name": "stdout",
     "output_type": "stream",
     "text": [
      "  name  math  eng  music   pe\n",
      "0  seo    90   98     85  100\n",
      "1  woo    80   89     95   90\n",
      "2  lna    70   95    100   90\n",
      "\n"
     ]
    }
   ],
   "source": [
    "exam_data = {'name' : ['seo','woo','lna'],\n",
    "             'math' : [90,80,70], \n",
    "             'eng' : [98,89,95], \n",
    "             'music' : [85,95,100], \n",
    "             'pe' : [100,90,90]}\n",
    "df = pd.DataFrame(exam_data)\n",
    "print(df)\n",
    "print()"
   ]
  },
  {
   "cell_type": "code",
   "execution_count": 47,
   "metadata": {},
   "outputs": [
    {
     "name": "stdout",
     "output_type": "stream",
     "text": [
      "  name  math  eng  music   pe\n",
      "0  seo    90   98     85  100\n",
      "1  woo    80   89     95   90\n",
      "2  lna    70   95    100   90\n",
      "3    0     0    0      0    0\n",
      "\n"
     ]
    }
   ],
   "source": [
    "df.loc[3] = 0\n",
    "print(df)\n",
    "print()\n"
   ]
  },
  {
   "cell_type": "code",
   "execution_count": 48,
   "metadata": {},
   "outputs": [
    {
     "name": "stdout",
     "output_type": "stream",
     "text": [
      "   name  math  eng  music   pe\n",
      "0   seo    90   98     85  100\n",
      "1   woo    80   89     95   90\n",
      "2   lna    70   95    100   90\n",
      "3     0     0    0      0    0\n",
      "4  dong    90   80     70   60\n",
      "\n"
     ]
    }
   ],
   "source": [
    "df.loc[4]=[\"dong\",90,80,70,60]\n",
    "print(df)\n",
    "print()"
   ]
  },
  {
   "cell_type": "code",
   "execution_count": 49,
   "metadata": {},
   "outputs": [
    {
     "name": "stdout",
     "output_type": "stream",
     "text": [
      "     name  math  eng  music   pe\n",
      "0     seo    90   98     85  100\n",
      "1     woo    80   89     95   90\n",
      "2     lna    70   95    100   90\n",
      "3       0     0    0      0    0\n",
      "4    dong    90   80     70   60\n",
      "row     0     0    0      0    0\n"
     ]
    }
   ],
   "source": [
    "df.loc['row'] = df.loc[3]\n",
    "print(df)"
   ]
  },
  {
   "cell_type": "markdown",
   "metadata": {},
   "source": [
    "# modify dataframe element"
   ]
  },
  {
   "cell_type": "code",
   "execution_count": 50,
   "metadata": {},
   "outputs": [],
   "source": [
    "exam_data = {'name' : ['seo','woo','lna'],\n",
    "             'math' : [90,80,70], \n",
    "             'eng' : [98,89,95], \n",
    "             'music' : [85,95,100], \n",
    "             'pe' : [100,90,90]}\n",
    "df = pd.DataFrame(exam_data)"
   ]
  },
  {
   "cell_type": "code",
   "execution_count": 51,
   "metadata": {},
   "outputs": [
    {
     "name": "stdout",
     "output_type": "stream",
     "text": [
      "      math  eng  music   pe\n",
      "name                       \n",
      "seo     90   98     85  100\n",
      "woo     80   89     95   90\n",
      "lna     70   95    100   90\n",
      "\n"
     ]
    }
   ],
   "source": [
    "df.set_index('name',inplace=True)\n",
    "print(df)\n",
    "print()"
   ]
  },
  {
   "cell_type": "code",
   "execution_count": 52,
   "metadata": {},
   "outputs": [
    {
     "name": "stdout",
     "output_type": "stream",
     "text": [
      "      math  eng  music  pe\n",
      "name                      \n",
      "seo     90   98     85  80\n",
      "woo     80   89     95  90\n",
      "lna     70   95    100  90\n"
     ]
    }
   ],
   "source": [
    "df.iloc[0][3] = 80\n",
    "print(df)"
   ]
  },
  {
   "cell_type": "code",
   "execution_count": 53,
   "metadata": {},
   "outputs": [
    {
     "name": "stdout",
     "output_type": "stream",
     "text": [
      "      math  eng  music  pe\n",
      "name                      \n",
      "seo     90   98     85  90\n",
      "woo     80   89     95  90\n",
      "lna     70   95    100  90\n"
     ]
    }
   ],
   "source": [
    "df.loc['seo']['pe']= 90\n",
    "print(df)"
   ]
  },
  {
   "cell_type": "code",
   "execution_count": 54,
   "metadata": {},
   "outputs": [
    {
     "name": "stdout",
     "output_type": "stream",
     "text": [
      "      math  eng  music   pe\n",
      "name                       \n",
      "seo     90   98     85  100\n",
      "woo     80   89     95   90\n",
      "lna     70   95    100   90\n"
     ]
    }
   ],
   "source": [
    "df.loc['seo','pe'] = 100\n",
    "print(df)"
   ]
  },
  {
   "cell_type": "code",
   "execution_count": 55,
   "metadata": {},
   "outputs": [
    {
     "name": "stdout",
     "output_type": "stream",
     "text": [
      "      math  eng  music  pe\n",
      "name                      \n",
      "seo     90   98     50  50\n",
      "woo     80   89     95  90\n",
      "lna     70   95    100  90\n"
     ]
    }
   ],
   "source": [
    "df.loc['seo',['music','pe']] = 50\n",
    "print(df)"
   ]
  },
  {
   "cell_type": "code",
   "execution_count": 56,
   "metadata": {},
   "outputs": [
    {
     "name": "stdout",
     "output_type": "stream",
     "text": [
      "      math  eng  music  pe\n",
      "name                      \n",
      "seo     90   98    100  50\n",
      "woo     80   89     95  90\n",
      "lna     70   95    100  90\n"
     ]
    }
   ],
   "source": [
    "df.loc['seo',['music','pe']] = 100,50\n",
    "print(df)"
   ]
  },
  {
   "cell_type": "markdown",
   "metadata": {},
   "source": [
    "# transpose"
   ]
  },
  {
   "cell_type": "code",
   "execution_count": 57,
   "metadata": {},
   "outputs": [
    {
     "name": "stdout",
     "output_type": "stream",
     "text": [
      "  name  math  eng  music   pe\n",
      "0  seo    90   98     85  100\n",
      "1  woo    80   89     95   90\n",
      "2  lna    70   95    100   90\n",
      "\n"
     ]
    }
   ],
   "source": [
    "exam_data = {'name' : ['seo','woo','lna'],\n",
    "             'math' : [90,80,70], \n",
    "             'eng' : [98,89,95], \n",
    "             'music' : [85,95,100], \n",
    "             'pe' : [100,90,90]}\n",
    "df = pd.DataFrame(exam_data)\n",
    "print(df)\n",
    "print()"
   ]
  },
  {
   "cell_type": "code",
   "execution_count": 58,
   "metadata": {},
   "outputs": [
    {
     "name": "stdout",
     "output_type": "stream",
     "text": [
      "         0    1    2\n",
      "name   seo  woo  lna\n",
      "math    90   80   70\n",
      "eng     98   89   95\n",
      "music   85   95  100\n",
      "pe     100   90   90\n",
      "\n"
     ]
    }
   ],
   "source": [
    "df = df.transpose()\n",
    "print(df)\n",
    "print()"
   ]
  },
  {
   "cell_type": "code",
   "execution_count": 59,
   "metadata": {},
   "outputs": [
    {
     "name": "stdout",
     "output_type": "stream",
     "text": [
      "  name math eng music   pe\n",
      "0  seo   90  98    85  100\n",
      "1  woo   80  89    95   90\n",
      "2  lna   70  95   100   90\n"
     ]
    }
   ],
   "source": [
    "df = df.T\n",
    "print(df)"
   ]
  },
  {
   "cell_type": "markdown",
   "metadata": {},
   "source": [
    "# set index"
   ]
  },
  {
   "cell_type": "code",
   "execution_count": 60,
   "metadata": {},
   "outputs": [
    {
     "name": "stdout",
     "output_type": "stream",
     "text": [
      "  name  math  eng  music   pe\n",
      "0  seo    90   98     85  100\n",
      "1  woo    80   89     95   90\n",
      "2  lna    70   95    100   90\n",
      "\n"
     ]
    }
   ],
   "source": [
    "exam_data = {'name' : ['seo','woo','lna'],\n",
    "             'math' : [90,80,70], \n",
    "             'eng' : [98,89,95], \n",
    "             'music' : [85,95,100], \n",
    "             'pe' : [100,90,90]}\n",
    "df = pd.DataFrame(exam_data)\n",
    "print(df)\n",
    "print()"
   ]
  },
  {
   "cell_type": "code",
   "execution_count": 61,
   "metadata": {},
   "outputs": [
    {
     "name": "stdout",
     "output_type": "stream",
     "text": [
      "      math  eng  music   pe\n",
      "name                       \n",
      "seo     90   98     85  100\n",
      "woo     80   89     95   90\n",
      "lna     70   95    100   90\n",
      "\n",
      "       math  eng   pe\n",
      "music                \n",
      "85       90   98  100\n",
      "95       80   89   90\n",
      "100      70   95   90\n",
      "\n",
      "            eng   pe\n",
      "math music          \n",
      "90   85      98  100\n",
      "80   95      89   90\n",
      "70   100     95   90\n"
     ]
    }
   ],
   "source": [
    "ndf = df.set_index(['name'])\n",
    "print(ndf)\n",
    "print()\n",
    "ndf2 = ndf.set_index('music')\n",
    "print(ndf2)\n",
    "print()\n",
    "ndf3 = ndf.set_index(['math','music'])\n",
    "print(ndf3)"
   ]
  },
  {
   "cell_type": "markdown",
   "metadata": {},
   "source": [
    "# reindex"
   ]
  },
  {
   "cell_type": "code",
   "execution_count": 62,
   "metadata": {},
   "outputs": [
    {
     "name": "stdout",
     "output_type": "stream",
     "text": [
      "    c0  c1  c2  c3  c4\n",
      "r0   1   4   7  10  13\n",
      "r1   2   5   8  11  14\n",
      "r2   3   6   9  12  15\n",
      "\n"
     ]
    }
   ],
   "source": [
    "dict_data = {'c0':[1,2,3],'c1':[4,5,6],'c2':[7,8,9],'c3':[10,11,12],'c4':[13,14,15]}\n",
    "df = pd.DataFrame(dict_data, index=['r0','r1','r2'])\n",
    "print(df)\n",
    "print()"
   ]
  },
  {
   "cell_type": "code",
   "execution_count": 63,
   "metadata": {},
   "outputs": [
    {
     "name": "stdout",
     "output_type": "stream",
     "text": [
      "     c0   c1   c2    c3    c4\n",
      "r0  1.0  4.0  7.0  10.0  13.0\n",
      "r1  2.0  5.0  8.0  11.0  14.0\n",
      "r2  3.0  6.0  9.0  12.0  15.0\n",
      "r3  NaN  NaN  NaN   NaN   NaN\n",
      "r4  NaN  NaN  NaN   NaN   NaN\n",
      "\n"
     ]
    }
   ],
   "source": [
    "new_index = ['r0','r1','r2','r3','r4']\n",
    "ndf = df.reindex(new_index)\n",
    "print(ndf)\n",
    "print()"
   ]
  },
  {
   "cell_type": "code",
   "execution_count": 64,
   "metadata": {},
   "outputs": [
    {
     "name": "stdout",
     "output_type": "stream",
     "text": [
      "    c0  c1  c2  c3  c4\n",
      "r0   1   4   7  10  13\n",
      "r1   2   5   8  11  14\n",
      "r2   3   6   9  12  15\n",
      "r3   0   0   0   0   0\n",
      "r4   0   0   0   0   0\n"
     ]
    }
   ],
   "source": [
    "new_index = ['r0','r1','r2','r3','r4']\n",
    "ndf2 = df.reindex(new_index,fill_value=0) #null값 대신 0을 채움\n",
    "print(ndf2)"
   ]
  },
  {
   "cell_type": "markdown",
   "metadata": {},
   "source": [
    "\n",
    "# reset index"
   ]
  },
  {
   "cell_type": "code",
   "execution_count": 65,
   "metadata": {},
   "outputs": [
    {
     "name": "stdout",
     "output_type": "stream",
     "text": [
      "    c0  c1  c2  c3  c4\n",
      "r0   1   4   7  10  13\n",
      "r1   2   5   8  11  14\n",
      "r2   3   6   9  12  15\n",
      "\n"
     ]
    }
   ],
   "source": [
    "dict_data = {'c0':[1,2,3],'c1':[4,5,6],'c2':[7,8,9],'c3':[10,11,12],'c4':[13,14,15]}\n",
    "\n",
    "\n",
    "df = pd.DataFrame(dict_data, index=['r0','r1','r2'])\n",
    "print(df)\n",
    "print()"
   ]
  },
  {
   "cell_type": "code",
   "execution_count": 66,
   "metadata": {},
   "outputs": [
    {
     "name": "stdout",
     "output_type": "stream",
     "text": [
      "  index  c0  c1  c2  c3  c4\n",
      "0    r0   1   4   7  10  13\n",
      "1    r1   2   5   8  11  14\n",
      "2    r2   3   6   9  12  15\n"
     ]
    }
   ],
   "source": [
    "ndf = df.reset_index()\n",
    "print(ndf)\n"
   ]
  },
  {
   "cell_type": "markdown",
   "metadata": {},
   "source": [
    "# sort index"
   ]
  },
  {
   "cell_type": "code",
   "execution_count": 67,
   "metadata": {},
   "outputs": [
    {
     "name": "stdout",
     "output_type": "stream",
     "text": [
      "    c0  c1  c2  c3  c4\n",
      "r0   1   4   7  10  13\n",
      "r1   2   5   8  11  14\n",
      "r2   3   6   9  12  15\n",
      "\n"
     ]
    }
   ],
   "source": [
    "dict_data = {'c0':[1,2,3],'c1':[4,5,6],'c2':[7,8,9],'c3':[10,11,12],'c4':[13,14,15]}\n",
    "df = pd.DataFrame(dict_data, index = ['r0','r1','r2'])\n",
    "print(df)\n",
    "print()"
   ]
  },
  {
   "cell_type": "code",
   "execution_count": 68,
   "metadata": {},
   "outputs": [
    {
     "name": "stdout",
     "output_type": "stream",
     "text": [
      "    c0  c1  c2  c3  c4\n",
      "r2   3   6   9  12  15\n",
      "r1   2   5   8  11  14\n",
      "r0   1   4   7  10  13\n"
     ]
    }
   ],
   "source": [
    "ndf = df.sort_index(ascending=False) #True는 오름차순\n",
    "print(ndf)"
   ]
  },
  {
   "cell_type": "markdown",
   "metadata": {},
   "source": [
    "# series to number"
   ]
  },
  {
   "cell_type": "code",
   "execution_count": 69,
   "metadata": {},
   "outputs": [
    {
     "name": "stdout",
     "output_type": "stream",
     "text": [
      "kor     100\n",
      "en       80\n",
      "math     90\n",
      "dtype: int64\n",
      "\n",
      "kor     0.50\n",
      "en      0.40\n",
      "math    0.45\n",
      "dtype: float64\n",
      "\n",
      "<class 'pandas.core.series.Series'>\n"
     ]
    }
   ],
   "source": [
    "student1 = pd.Series({'kor':100,'en':80,'math':90})\n",
    "print(student1)\n",
    "print()\n",
    "\n",
    "percentage = student1/200\n",
    "\n",
    "print(percentage)\n",
    "print()\n",
    "print(type(percentage))"
   ]
  },
  {
   "cell_type": "code",
   "execution_count": 70,
   "metadata": {},
   "outputs": [
    {
     "name": "stdout",
     "output_type": "stream",
     "text": [
      "kor      NaN\n",
      "en      80.0\n",
      "math    90.0\n",
      "dtype: float64\n",
      "\n",
      "math    80\n",
      "kor     90\n",
      "dtype: int64\n",
      "\n",
      "<class 'pandas.core.series.Series'>\n",
      "\n",
      "       en  kor      math\n",
      "add   NaN  NaN   170.000\n",
      "sub   NaN  NaN    10.000\n",
      "multi NaN  NaN  7200.000\n",
      "div   NaN  NaN     1.125\n"
     ]
    }
   ],
   "source": [
    "import numpy as np\n",
    "\n",
    "std1 = pd.Series({'kor':np.nan,'en':80,'math':90})\n",
    "std2 = pd.Series({'math':80,'kor':90})\n",
    "\n",
    "print(std1)\n",
    "print()\n",
    "print(std2)\n",
    "print()\n",
    "\n",
    "\n",
    "addition = std1 + std2\n",
    "subtraction = std1 - std2\n",
    "multiplication = std1*std2\n",
    "division = std1/std2\n",
    "print(type(division))\n",
    "print()\n",
    "\n",
    "\n",
    "result = pd.DataFrame([addition,subtraction,multiplication,division],\n",
    "                      index=['add','sub','multi','div'])\n",
    "print(result)"
   ]
  },
  {
   "cell_type": "code",
   "execution_count": 71,
   "metadata": {},
   "outputs": [
    {
     "name": "stdout",
     "output_type": "stream",
     "text": [
      "kor      NaN\n",
      "en      80.0\n",
      "math    90.0\n",
      "dtype: float64\n",
      "\n",
      "math    80\n",
      "kor     90\n",
      "dtype: int64\n",
      "\n",
      "       en   kor      math\n",
      "add  80.0  90.0   170.000\n",
      "sub  80.0 -90.0    10.000\n",
      "mul   0.0   0.0  7200.000\n",
      "div   inf   0.0     1.125\n"
     ]
    }
   ],
   "source": [
    "std1 = pd.Series({'kor':np.nan,'en':80,'math':90})\n",
    "std2 = pd.Series({'math':80,'kor':90})\n",
    "\n",
    "print(std1)\n",
    "print()\n",
    "print(std2)\n",
    "print()\n",
    "\n",
    "\n",
    "sr_add = std1.add(std2,fill_value=0)\n",
    "sr_sub = std1.sub(std2,fill_value=0)\n",
    "sr_mul = std1.mul(std2,fill_value=0)\n",
    "sr_div = std1.div(std2,fill_value=0)\n",
    "\n",
    "\n",
    "result = pd.DataFrame([sr_add,sr_sub,sr_mul,sr_div],\n",
    "                      index=['add','sub','mul','div'])\n",
    "print(result)"
   ]
  },
  {
   "cell_type": "markdown",
   "metadata": {},
   "source": [
    "# df to number"
   ]
  },
  {
   "cell_type": "code",
   "execution_count": 72,
   "metadata": {},
   "outputs": [
    {
     "name": "stdout",
     "output_type": "stream",
     "text": [
      "Collecting seaborn\n",
      "  Using cached seaborn-0.12.2-py3-none-any.whl (293 kB)\n",
      "Requirement already satisfied: numpy!=1.24.0,>=1.17 in c:\\users\\hwang\\miniconda3\\envs\\esports\\lib\\site-packages (from seaborn) (1.25.2)\n",
      "Requirement already satisfied: pandas>=0.25 in c:\\users\\hwang\\miniconda3\\envs\\esports\\lib\\site-packages (from seaborn) (2.0.3)\n",
      "Collecting matplotlib!=3.6.1,>=3.1 (from seaborn)\n",
      "  Obtaining dependency information for matplotlib!=3.6.1,>=3.1 from https://files.pythonhosted.org/packages/4d/9c/65830d4a56c47f5283eaa244dc1228c5da9c844a9f999ebcc2e69bf6cc65/matplotlib-3.7.2-cp311-cp311-win_amd64.whl.metadata\n",
      "  Downloading matplotlib-3.7.2-cp311-cp311-win_amd64.whl.metadata (5.8 kB)\n",
      "Collecting contourpy>=1.0.1 (from matplotlib!=3.6.1,>=3.1->seaborn)\n",
      "  Obtaining dependency information for contourpy>=1.0.1 from https://files.pythonhosted.org/packages/16/09/989b982322439faa4bafffcd669e6f942b38fee897c2664c987bcd091dec/contourpy-1.1.0-cp311-cp311-win_amd64.whl.metadata\n",
      "  Downloading contourpy-1.1.0-cp311-cp311-win_amd64.whl.metadata (5.7 kB)\n",
      "Collecting cycler>=0.10 (from matplotlib!=3.6.1,>=3.1->seaborn)\n",
      "  Using cached cycler-0.11.0-py3-none-any.whl (6.4 kB)\n",
      "Collecting fonttools>=4.22.0 (from matplotlib!=3.6.1,>=3.1->seaborn)\n",
      "  Obtaining dependency information for fonttools>=4.22.0 from https://files.pythonhosted.org/packages/52/65/aaa3d2b7a292d93cc2cf1c534d03ba3f744e480f15b3b2ab6ad68189f7ee/fonttools-4.42.0-cp311-cp311-win_amd64.whl.metadata\n",
      "  Downloading fonttools-4.42.0-cp311-cp311-win_amd64.whl.metadata (153 kB)\n",
      "     ---------------------------------------- 0.0/153.7 kB ? eta -:--:--\n",
      "     ---- -------------------------------- 20.5/153.7 kB 640.0 kB/s eta 0:00:01\n",
      "     -------------------------------------- 153.7/153.7 kB 3.1 MB/s eta 0:00:00\n",
      "Collecting kiwisolver>=1.0.1 (from matplotlib!=3.6.1,>=3.1->seaborn)\n",
      "  Using cached kiwisolver-1.4.4-cp311-cp311-win_amd64.whl (55 kB)\n",
      "Requirement already satisfied: packaging>=20.0 in c:\\users\\hwang\\miniconda3\\envs\\esports\\lib\\site-packages (from matplotlib!=3.6.1,>=3.1->seaborn) (21.3)\n",
      "Collecting pillow>=6.2.0 (from matplotlib!=3.6.1,>=3.1->seaborn)\n",
      "  Obtaining dependency information for pillow>=6.2.0 from https://files.pythonhosted.org/packages/66/d4/054e491f0880bf0119ee79cdc03264e01d5732e06c454da8c69b83a7c8f2/Pillow-10.0.0-cp311-cp311-win_amd64.whl.metadata\n",
      "  Downloading Pillow-10.0.0-cp311-cp311-win_amd64.whl.metadata (9.6 kB)\n",
      "Requirement already satisfied: pyparsing<3.1,>=2.3.1 in c:\\users\\hwang\\miniconda3\\envs\\esports\\lib\\site-packages (from matplotlib!=3.6.1,>=3.1->seaborn) (3.0.4)\n",
      "Requirement already satisfied: python-dateutil>=2.7 in c:\\users\\hwang\\miniconda3\\envs\\esports\\lib\\site-packages (from matplotlib!=3.6.1,>=3.1->seaborn) (2.8.2)\n",
      "Requirement already satisfied: pytz>=2020.1 in c:\\users\\hwang\\miniconda3\\envs\\esports\\lib\\site-packages (from pandas>=0.25->seaborn) (2023.3)\n",
      "Requirement already satisfied: tzdata>=2022.1 in c:\\users\\hwang\\miniconda3\\envs\\esports\\lib\\site-packages (from pandas>=0.25->seaborn) (2023.3)\n",
      "Requirement already satisfied: six>=1.5 in c:\\users\\hwang\\miniconda3\\envs\\esports\\lib\\site-packages (from python-dateutil>=2.7->matplotlib!=3.6.1,>=3.1->seaborn) (1.16.0)\n",
      "Downloading matplotlib-3.7.2-cp311-cp311-win_amd64.whl (7.5 MB)\n",
      "   ---------------------------------------- 0.0/7.5 MB ? eta -:--:--\n",
      "   ------ --------------------------------- 1.2/7.5 MB 37.3 MB/s eta 0:00:01\n",
      "   ----------------- ---------------------- 3.3/7.5 MB 42.3 MB/s eta 0:00:01\n",
      "   ---------------------------- ----------- 5.4/7.5 MB 49.5 MB/s eta 0:00:01\n",
      "   ---------------------------------------  7.5/7.5 MB 48.0 MB/s eta 0:00:01\n",
      "   ---------------------------------------- 7.5/7.5 MB 40.1 MB/s eta 0:00:00\n",
      "Downloading contourpy-1.1.0-cp311-cp311-win_amd64.whl (470 kB)\n",
      "   ---------------------------------------- 0.0/470.9 kB ? eta -:--:--\n",
      "   --------------------------------------- 470.9/470.9 kB 28.8 MB/s eta 0:00:00\n",
      "Downloading fonttools-4.42.0-cp311-cp311-win_amd64.whl (2.1 MB)\n",
      "   ---------------------------------------- 0.0/2.1 MB ? eta -:--:--\n",
      "   ----------------------------------- ---- 1.9/2.1 MB 57.9 MB/s eta 0:00:01\n",
      "   ---------------------------------------- 2.1/2.1 MB 44.8 MB/s eta 0:00:00\n",
      "Downloading Pillow-10.0.0-cp311-cp311-win_amd64.whl (2.5 MB)\n",
      "   ---------------------------------------- 0.0/2.5 MB ? eta -:--:--\n",
      "   ------------------------- -------------- 1.6/2.5 MB 51.2 MB/s eta 0:00:01\n",
      "   ---------------------------------------- 2.5/2.5 MB 40.4 MB/s eta 0:00:00\n",
      "Installing collected packages: pillow, kiwisolver, fonttools, cycler, contourpy, matplotlib, seaborn\n",
      "Successfully installed contourpy-1.1.0 cycler-0.11.0 fonttools-4.42.0 kiwisolver-1.4.4 matplotlib-3.7.2 pillow-10.0.0 seaborn-0.12.2\n"
     ]
    }
   ],
   "source": [
    "!pip install seaborn"
   ]
  },
  {
   "cell_type": "code",
   "execution_count": 73,
   "metadata": {},
   "outputs": [
    {
     "name": "stdout",
     "output_type": "stream",
     "text": [
      "    age     fare\n",
      "0  22.0   7.2500\n",
      "1  38.0  71.2833\n",
      "2  26.0   7.9250\n",
      "3  35.0  53.1000\n",
      "4  35.0   8.0500\n",
      "\n",
      "<class 'pandas.core.frame.DataFrame'>\n",
      "\n",
      "    age     fare\n",
      "0  32.0  17.2500\n",
      "1  48.0  81.2833\n",
      "2  36.0  17.9250\n",
      "3  45.0  63.1000\n",
      "4  45.0  18.0500\n",
      "\n",
      "<class 'pandas.core.frame.DataFrame'>\n"
     ]
    }
   ],
   "source": [
    "\n",
    "import seaborn as sns\n",
    "\n",
    "titanic = sns.load_dataset('titanic')\n",
    "df = titanic.loc[:,['age','fare']]\n",
    "print(df.head())\n",
    "print()\n",
    "print(type(df))\n",
    "print()\n",
    "\n",
    "\n",
    "addition = df + 10\n",
    "print(addition.head())\n",
    "print()\n",
    "print(type(addition))"
   ]
  },
  {
   "cell_type": "markdown",
   "metadata": {},
   "source": [
    "# df to df"
   ]
  },
  {
   "cell_type": "code",
   "execution_count": 74,
   "metadata": {},
   "outputs": [
    {
     "name": "stdout",
     "output_type": "stream",
     "text": [
      "      age   fare\n",
      "886  27.0  13.00\n",
      "887  19.0  30.00\n",
      "888   NaN  23.45\n",
      "889  26.0  30.00\n",
      "890  32.0   7.75\n",
      "\n",
      "<class 'pandas.core.frame.DataFrame'>\n",
      "\n",
      "      age   fare\n",
      "886  37.0  23.00\n",
      "887  29.0  40.00\n",
      "888   NaN  33.45\n",
      "889  36.0  40.00\n",
      "890  42.0  17.75\n",
      "\n",
      "<class 'pandas.core.frame.DataFrame'>\n",
      "\n",
      "      age  fare\n",
      "886  10.0  10.0\n",
      "887  10.0  10.0\n",
      "888   NaN  10.0\n",
      "889  10.0  10.0\n",
      "890  10.0  10.0\n",
      "\n",
      "<class 'pandas.core.frame.DataFrame'>\n"
     ]
    }
   ],
   "source": [
    "import seaborn as sns\n",
    "\n",
    "\n",
    "titanic = sns.load_dataset('titanic')\n",
    "df = titanic.loc[:,['age','fare']]\n",
    "print(df.tail())\n",
    "print()\n",
    "print(type(df))\n",
    "print()\n",
    "\n",
    "\n",
    "addition = df + 10\n",
    "print(addition.tail())\n",
    "print()\n",
    "print(type(addition))\n",
    "print()\n",
    "\n",
    "\n",
    "subtraction = addition - df\n",
    "print(subtraction.tail())\n",
    "print()\n",
    "print(type(subtraction))"
   ]
  },
  {
   "cell_type": "code",
   "execution_count": null,
   "metadata": {},
   "outputs": [],
   "source": []
  }
 ],
 "metadata": {
  "kernelspec": {
   "display_name": "esports",
   "language": "python",
   "name": "esports"
  },
  "language_info": {
   "codemirror_mode": {
    "name": "ipython",
    "version": 3
   },
   "file_extension": ".py",
   "mimetype": "text/x-python",
   "name": "python",
   "nbconvert_exporter": "python",
   "pygments_lexer": "ipython3",
   "version": "3.11.4"
  }
 },
 "nbformat": 4,
 "nbformat_minor": 2
}
