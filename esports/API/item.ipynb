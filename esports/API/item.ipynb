{
 "cells": [
  {
   "cell_type": "code",
   "execution_count": 11,
   "metadata": {},
   "outputs": [],
   "source": [
    "import pandas as pd\n",
    "import requests\n",
    "import time"
   ]
  },
  {
   "cell_type": "code",
   "execution_count": 12,
   "metadata": {},
   "outputs": [],
   "source": [
    "api_key = 'RGAPI-0b437417-9c5d-462b-8402-c3e3cc8329c2'\n",
    "summoner_name = '학장주유소'"
   ]
  },
  {
   "cell_type": "code",
   "execution_count": 13,
   "metadata": {},
   "outputs": [
    {
     "data": {
      "text/plain": [
       "{'id': 'FWJXIFLSt6WtPPuZ_y9UeLHTdnRqj_jwo4XQFkWQkIQth1U',\n",
       " 'accountId': 'D6u62CpEWag_XxSzT-bEQF5-T7d2mtZUAyxXMT6W9_e9Ais',\n",
       " 'puuid': '2CIbiJ46u2meb-qaLoVFC8QTN5vU26PWRRkLBN5n_SFnBRaB_SarMMAqARqRRxTE_Ju9CthevWrzoA',\n",
       " 'name': '학장주유소',\n",
       " 'profileIconId': 5766,\n",
       " 'revisionDate': 1692380221000,\n",
       " 'summonerLevel': 251}"
      ]
     },
     "execution_count": 13,
     "metadata": {},
     "output_type": "execute_result"
    }
   ],
   "source": [
    "requesturl = 'https://kr.api.riotgames.com/lol/summoner/v4/summoners/by-name/'+summoner_name+\\\n",
    "'?api_key='+api_key\n",
    "requests.get(requesturl).json()"
   ]
  },
  {
   "cell_type": "code",
   "execution_count": 14,
   "metadata": {},
   "outputs": [],
   "source": [
    "summoner_puuid = requests.get(requesturl).json()['puuid']"
   ]
  },
  {
   "cell_type": "code",
   "execution_count": 15,
   "metadata": {},
   "outputs": [],
   "source": [
    "games_list = []\n",
    "index = 0\n",
    "while True:\n",
    "    requesturl = 'https://asia.api.riotgames.com/lol/match/v5/matches/by-puuid/'+summoner_puuid+'/ids?queue=420&start='+str(index)+'&count=10&api_key='+api_key\n",
    "    \n",
    "    while True:\n",
    "        response = requests.get(requesturl)\n",
    "        if response.ok:\n",
    "            game_list_new = response.json()\n",
    "            break\n",
    "    \n",
    "    games_list.extend(game_list_new)\n",
    "    \n",
    "    if len(game_list_new) != 100:\n",
    "        break\n",
    "        \n",
    "    index += 100\n",
    "    time.sleep(1)"
   ]
  },
  {
   "cell_type": "code",
   "execution_count": 16,
   "metadata": {},
   "outputs": [
    {
     "data": {
      "text/plain": [
       "['KR_6597443448',\n",
       " 'KR_6597407402',\n",
       " 'KR_6597371976',\n",
       " 'KR_6585775901',\n",
       " 'KR_6585729803',\n",
       " 'KR_6576920126',\n",
       " 'KR_6576857423',\n",
       " 'KR_6576814681',\n",
       " 'KR_6569720853',\n",
       " 'KR_6569656755']"
      ]
     },
     "execution_count": 16,
     "metadata": {},
     "output_type": "execute_result"
    }
   ],
   "source": [
    "games_list"
   ]
  },
  {
   "cell_type": "code",
   "execution_count": 25,
   "metadata": {},
   "outputs": [
    {
     "name": "stdout",
     "output_type": "stream",
     "text": [
      "Items Purchased: 15\n",
      "Item Slots: [3095, 3006, 1036, 1042, 1038, 0, 3340]\n",
      "Items Purchased: 12\n",
      "Item Slots: [2065, 3859, 2055, 1001, 0, 0, 3364]\n",
      "Items Purchased: 17\n",
      "Item Slots: [1103, 0, 3078, 3047, 1029, 0, 3364]\n",
      "Items Purchased: 32\n",
      "Item Slots: [6676, 6691, 3047, 3071, 3095, 1038, 3364]\n",
      "Items Purchased: 29\n",
      "Item Slots: [6333, 3156, 3047, 3078, 0, 6672, 3364]\n",
      "Items Purchased: 26\n",
      "Item Slots: [2055, 3190, 3857, 3023, 3075, 3047, 3364]\n",
      "Items Purchased: 23\n",
      "Item Slots: [2055, 2065, 3860, 3011, 3047, 1029, 3364]\n",
      "Items Purchased: 15\n",
      "Item Slots: [0, 2065, 3860, 1029, 3047, 0, 3364]\n",
      "Items Purchased: 36\n",
      "Item Slots: [3142, 3814, 3042, 6693, 3111, 6676, 3364]\n",
      "Items Purchased: 21\n",
      "Item Slots: [6671, 3009, 3095, 3094, 1018, 3134, 3363]\n"
     ]
    }
   ],
   "source": [
    "# 아이템 구매 순서 정보 추출\n",
    "item_purchase_orders = []\n",
    "\n",
    "for match_id in games_list:\n",
    "    match_url = f\"https://asia.api.riotgames.com/lol/match/v5/matches/{match_id}?api_key={api_key}\"\n",
    "    response = requests.get(match_url)\n",
    "    match_data = response.json()\n",
    "    \n",
    "\n",
    "    for participant in match_data['info']['participants']:\n",
    "        if participant['summonerName'] == '학장주유소':\n",
    "            items_purchased = participant['itemsPurchased']\n",
    "            item_slots = [participant[f'item{i}'] for i in range(7)]  # item0 ~ item6\n",
    "            print(f\"Items Purchased: {items_purchased}\")\n",
    "            print(f\"Item Slots: {item_slots}\")"
   ]
  },
  {
   "cell_type": "code",
   "execution_count": 27,
   "metadata": {},
   "outputs": [
    {
     "name": "stdout",
     "output_type": "stream",
     "text": [
      "Item Name: 돌풍\n",
      "Item Name: 신속의 장화\n",
      "Item Name: 폭풍갈퀴\n",
      "Item Name: 고속 연사포\n",
      "Item Name: 민첩성의 망토\n",
      "Item Name: 톱날 단검\n",
      "Item Name: 망원형 개조\n"
     ]
    }
   ],
   "source": [
    "def get_item_name(item_id):\n",
    "    versions_url = \"https://ddragon.leagueoflegends.com/api/versions.json\"\n",
    "    last_version = requests.get(versions_url).json()[0]\n",
    "\n",
    "    items_url = f\"http://ddragon.leagueoflegends.com/cdn/{last_version}/data/ko_KR/item.json\"\n",
    "    items_data = requests.get(items_url).json()[\"data\"]\n",
    "\n",
    "    item_name = items_data.get(str(item_id), {}).get(\"name\", \"Unknown Item\")\n",
    "    return item_name\n",
    "\n",
    "# Usage\n",
    "for i in item_slots:  # Replace with the actual item ID\n",
    "    item_name = get_item_name(i)\n",
    "    print(f\"Item Name: {item_name}\")"
   ]
  },
  {
   "cell_type": "code",
   "execution_count": null,
   "metadata": {},
   "outputs": [],
   "source": []
  }
 ],
 "metadata": {
  "kernelspec": {
   "display_name": "esports",
   "language": "python",
   "name": "esports"
  },
  "language_info": {
   "codemirror_mode": {
    "name": "ipython",
    "version": 3
   },
   "file_extension": ".py",
   "mimetype": "text/x-python",
   "name": "python",
   "nbconvert_exporter": "python",
   "pygments_lexer": "ipython3",
   "version": "3.11.4"
  },
  "orig_nbformat": 4
 },
 "nbformat": 4,
 "nbformat_minor": 2
}
