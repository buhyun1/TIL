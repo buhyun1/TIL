{
 "cells": [
  {
   "cell_type": "code",
   "execution_count": 29,
   "metadata": {},
   "outputs": [],
   "source": [
    "import pandas as pd\n",
    "import requests\n",
    "import time"
   ]
  },
  {
   "cell_type": "code",
   "execution_count": 30,
   "metadata": {},
   "outputs": [],
   "source": [
    "api_key = 'RGAPI-0b437417-9c5d-462b-8402-c3e3cc8329c2'\n",
    "summoner_name = '학장주유소'"
   ]
  },
  {
   "cell_type": "code",
   "execution_count": 31,
   "metadata": {},
   "outputs": [
    {
     "data": {
      "text/plain": [
       "{'id': 'FWJXIFLSt6WtPPuZ_y9UeLHTdnRqj_jwo4XQFkWQkIQth1U',\n",
       " 'accountId': 'D6u62CpEWag_XxSzT-bEQF5-T7d2mtZUAyxXMT6W9_e9Ais',\n",
       " 'puuid': '2CIbiJ46u2meb-qaLoVFC8QTN5vU26PWRRkLBN5n_SFnBRaB_SarMMAqARqRRxTE_Ju9CthevWrzoA',\n",
       " 'name': '학장주유소',\n",
       " 'profileIconId': 5766,\n",
       " 'revisionDate': 1692380221000,\n",
       " 'summonerLevel': 251}"
      ]
     },
     "execution_count": 31,
     "metadata": {},
     "output_type": "execute_result"
    }
   ],
   "source": [
    "requesturl = 'https://kr.api.riotgames.com/lol/summoner/v4/summoners/by-name/'+summoner_name+\\\n",
    "'?api_key='+api_key\n",
    "requests.get(requesturl).json()"
   ]
  },
  {
   "cell_type": "code",
   "execution_count": 32,
   "metadata": {},
   "outputs": [],
   "source": [
    "summoner_puuid = requests.get(requesturl).json()['puuid']"
   ]
  },
  {
   "cell_type": "code",
   "execution_count": 37,
   "metadata": {},
   "outputs": [],
   "source": [
    "games_list = []\n",
    "index = 0\n",
    "while True:\n",
    "    requesturl = 'https://asia.api.riotgames.com/lol/match/v5/matches/by-puuid/'+summoner_puuid+'/ids?queue=420&start='+str(index)+'&count=10&api_key='+api_key\n",
    "    \n",
    "    while True:\n",
    "        response = requests.get(requesturl)\n",
    "        if response.ok:\n",
    "            game_list_new = response.json()\n",
    "            break\n",
    "    \n",
    "    games_list.extend(game_list_new)\n",
    "    \n",
    "    if len(game_list_new) != 100:\n",
    "        break\n",
    "        \n",
    "    index += 100\n",
    "    time.sleep(1)"
   ]
  },
  {
   "cell_type": "code",
   "execution_count": 38,
   "metadata": {},
   "outputs": [
    {
     "data": {
      "text/plain": [
       "['KR_6597443448',\n",
       " 'KR_6597407402',\n",
       " 'KR_6597371976',\n",
       " 'KR_6585775901',\n",
       " 'KR_6585729803',\n",
       " 'KR_6576920126',\n",
       " 'KR_6576857423',\n",
       " 'KR_6576814681',\n",
       " 'KR_6569720853',\n",
       " 'KR_6569656755']"
      ]
     },
     "execution_count": 38,
     "metadata": {},
     "output_type": "execute_result"
    }
   ],
   "source": [
    "games_list"
   ]
  },
  {
   "cell_type": "code",
   "execution_count": 39,
   "metadata": {},
   "outputs": [],
   "source": [
    "games_df = pd.DataFrame()\n",
    "for matchId in games_list:\n",
    "\n",
    "    requesturl = 'https://asia.api.riotgames.com/lol/match/v5/matches/'+matchId+'?api_key='+api_key\n",
    "    \n",
    "    while True:\n",
    "        response = requests.get(requesturl)\n",
    "        if response.ok:\n",
    "            game_json = response.json()\n",
    "            break\n",
    "\n",
    "    game_df = pd.DataFrame(game_json['info']['participants'])[['puuid','championId','win','kills','deaths','assists']]\n",
    "    game_df = game_df[game_df.puuid == summoner_puuid][['championId','win','kills','deaths','assists']]\n",
    "        \n",
    "    games_df = pd.concat([games_df,game_df])\n",
    "    time.sleep(1)\n",
    "    "
   ]
  },
  {
   "cell_type": "code",
   "execution_count": 40,
   "metadata": {},
   "outputs": [
    {
     "data": {
      "text/html": [
       "<div>\n",
       "<style scoped>\n",
       "    .dataframe tbody tr th:only-of-type {\n",
       "        vertical-align: middle;\n",
       "    }\n",
       "\n",
       "    .dataframe tbody tr th {\n",
       "        vertical-align: top;\n",
       "    }\n",
       "\n",
       "    .dataframe thead th {\n",
       "        text-align: right;\n",
       "    }\n",
       "</style>\n",
       "<table border=\"1\" class=\"dataframe\">\n",
       "  <thead>\n",
       "    <tr style=\"text-align: right;\">\n",
       "      <th></th>\n",
       "      <th>puuid</th>\n",
       "      <th>championId</th>\n",
       "      <th>win</th>\n",
       "      <th>kills</th>\n",
       "      <th>deaths</th>\n",
       "      <th>assists</th>\n",
       "    </tr>\n",
       "  </thead>\n",
       "  <tbody>\n",
       "    <tr>\n",
       "      <th>0</th>\n",
       "      <td>deN9hr7Z0JiG61N23EnRy2hJ6LnVeTrnYwSD7PkC7h0iP2...</td>\n",
       "      <td>777</td>\n",
       "      <td>False</td>\n",
       "      <td>5</td>\n",
       "      <td>8</td>\n",
       "      <td>4</td>\n",
       "    </tr>\n",
       "    <tr>\n",
       "      <th>1</th>\n",
       "      <td>lwFwlZMCMiVP9nQ3LwAWaw_S8bVz-QLva9ifh-oF2Wy9ae...</td>\n",
       "      <td>427</td>\n",
       "      <td>False</td>\n",
       "      <td>2</td>\n",
       "      <td>4</td>\n",
       "      <td>11</td>\n",
       "    </tr>\n",
       "    <tr>\n",
       "      <th>2</th>\n",
       "      <td>IFZWWXcBeMqKtotwCtOQEeAn3zSAriT6mlqPSDLIcqEmm9...</td>\n",
       "      <td>69</td>\n",
       "      <td>False</td>\n",
       "      <td>4</td>\n",
       "      <td>3</td>\n",
       "      <td>1</td>\n",
       "    </tr>\n",
       "    <tr>\n",
       "      <th>3</th>\n",
       "      <td>2CIbiJ46u2meb-qaLoVFC8QTN5vU26PWRRkLBN5n_SFnBR...</td>\n",
       "      <td>202</td>\n",
       "      <td>False</td>\n",
       "      <td>11</td>\n",
       "      <td>4</td>\n",
       "      <td>5</td>\n",
       "    </tr>\n",
       "    <tr>\n",
       "      <th>4</th>\n",
       "      <td>xKtXu3CgfjEwcdJYZg3zmlYPqnprA4nFC5w7-9REa8QEy2...</td>\n",
       "      <td>99</td>\n",
       "      <td>False</td>\n",
       "      <td>2</td>\n",
       "      <td>9</td>\n",
       "      <td>13</td>\n",
       "    </tr>\n",
       "    <tr>\n",
       "      <th>5</th>\n",
       "      <td>6Xn0Q8qGu2ysxBcuhoy4vaci8B92VKPYMx_LVXGmkHhnwy...</td>\n",
       "      <td>126</td>\n",
       "      <td>True</td>\n",
       "      <td>7</td>\n",
       "      <td>5</td>\n",
       "      <td>4</td>\n",
       "    </tr>\n",
       "    <tr>\n",
       "      <th>6</th>\n",
       "      <td>uH8dMBH6Coy6g3zSn4DDJ3EgqyVaD8EhMtOXfTVnX9kUm1...</td>\n",
       "      <td>11</td>\n",
       "      <td>True</td>\n",
       "      <td>11</td>\n",
       "      <td>3</td>\n",
       "      <td>5</td>\n",
       "    </tr>\n",
       "    <tr>\n",
       "      <th>7</th>\n",
       "      <td>S7Vvh7ncZS-Zz1tv_VCuhhZ-H7q5rAhlp8fTYA9UMYItA9...</td>\n",
       "      <td>103</td>\n",
       "      <td>True</td>\n",
       "      <td>3</td>\n",
       "      <td>5</td>\n",
       "      <td>6</td>\n",
       "    </tr>\n",
       "    <tr>\n",
       "      <th>8</th>\n",
       "      <td>mCNDU1BO1kjhdVpb8nmr-fd3wEKAEuY_RD5dMkasCSqpcg...</td>\n",
       "      <td>81</td>\n",
       "      <td>True</td>\n",
       "      <td>6</td>\n",
       "      <td>8</td>\n",
       "      <td>4</td>\n",
       "    </tr>\n",
       "    <tr>\n",
       "      <th>9</th>\n",
       "      <td>4lmjBdeO5ogS482S5JZZOeiaABvB8QSwgYr2rf3pHQykUK...</td>\n",
       "      <td>43</td>\n",
       "      <td>True</td>\n",
       "      <td>1</td>\n",
       "      <td>4</td>\n",
       "      <td>11</td>\n",
       "    </tr>\n",
       "  </tbody>\n",
       "</table>\n",
       "</div>"
      ],
      "text/plain": [
       "                                               puuid  championId    win  \\\n",
       "0  deN9hr7Z0JiG61N23EnRy2hJ6LnVeTrnYwSD7PkC7h0iP2...         777  False   \n",
       "1  lwFwlZMCMiVP9nQ3LwAWaw_S8bVz-QLva9ifh-oF2Wy9ae...         427  False   \n",
       "2  IFZWWXcBeMqKtotwCtOQEeAn3zSAriT6mlqPSDLIcqEmm9...          69  False   \n",
       "3  2CIbiJ46u2meb-qaLoVFC8QTN5vU26PWRRkLBN5n_SFnBR...         202  False   \n",
       "4  xKtXu3CgfjEwcdJYZg3zmlYPqnprA4nFC5w7-9REa8QEy2...          99  False   \n",
       "5  6Xn0Q8qGu2ysxBcuhoy4vaci8B92VKPYMx_LVXGmkHhnwy...         126   True   \n",
       "6  uH8dMBH6Coy6g3zSn4DDJ3EgqyVaD8EhMtOXfTVnX9kUm1...          11   True   \n",
       "7  S7Vvh7ncZS-Zz1tv_VCuhhZ-H7q5rAhlp8fTYA9UMYItA9...         103   True   \n",
       "8  mCNDU1BO1kjhdVpb8nmr-fd3wEKAEuY_RD5dMkasCSqpcg...          81   True   \n",
       "9  4lmjBdeO5ogS482S5JZZOeiaABvB8QSwgYr2rf3pHQykUK...          43   True   \n",
       "\n",
       "   kills  deaths  assists  \n",
       "0      5       8        4  \n",
       "1      2       4       11  \n",
       "2      4       3        1  \n",
       "3     11       4        5  \n",
       "4      2       9       13  \n",
       "5      7       5        4  \n",
       "6     11       3        5  \n",
       "7      3       5        6  \n",
       "8      6       8        4  \n",
       "9      1       4       11  "
      ]
     },
     "execution_count": 40,
     "metadata": {},
     "output_type": "execute_result"
    }
   ],
   "source": [
    "pd.DataFrame(game_json['info']['participants'])[['puuid','championId','win','kills','deaths','assists']]"
   ]
  },
  {
   "cell_type": "code",
   "execution_count": 41,
   "metadata": {},
   "outputs": [],
   "source": [
    "games_df = games_df.groupby(['championId'],as_index=False).\\\n",
    "apply(lambda x: pd.Series({'win_count':sum(x.win),\n",
    "                           'count':len(x),\n",
    "                           'kills':sum(x.kills),\n",
    "                           'deaths':sum(x.deaths),\n",
    "                           'assists':sum(x.assists)\n",
    "                          }))"
   ]
  },
  {
   "cell_type": "code",
   "execution_count": 42,
   "metadata": {},
   "outputs": [],
   "source": [
    "last_version = requests.get(\"https://ddragon.leagueoflegends.com/api/versions.json\").json()[0]\n",
    "champion_constant = requests.get(\"http://ddragon.leagueoflegends.com/cdn/\"+last_version+\"/data/ko_KR/champion.json\")"
   ]
  },
  {
   "cell_type": "code",
   "execution_count": 43,
   "metadata": {},
   "outputs": [],
   "source": [
    "# Json 파일을 DataFrame으로 변환\n",
    "champion_df = pd.DataFrame(champion_constant.json()['data']).T[['key','name']]\n",
    "\n",
    "# 변수형 문자 -> 숫자\n",
    "champion_df['key'] = pd.to_numeric(champion_df['key'])"
   ]
  },
  {
   "cell_type": "code",
   "execution_count": 44,
   "metadata": {},
   "outputs": [],
   "source": [
    "games_df = games_df.merge(champion_df,\n",
    "                          how = 'left',\n",
    "                          left_on = 'championId',\n",
    "                          right_on = 'key'\n",
    "                         )[['name','count','win_count','kills','deaths','assists']]"
   ]
  },
  {
   "cell_type": "code",
   "execution_count": 45,
   "metadata": {},
   "outputs": [],
   "source": [
    "games_df['WR'] = games_df['win_count'] / games_df['count']\n",
    "games_df['KDA'] = (games_df['kills']+games_df['assists']) / games_df['deaths']"
   ]
  },
  {
   "cell_type": "code",
   "execution_count": 46,
   "metadata": {},
   "outputs": [
    {
     "data": {
      "text/html": [
       "<div>\n",
       "<style scoped>\n",
       "    .dataframe tbody tr th:only-of-type {\n",
       "        vertical-align: middle;\n",
       "    }\n",
       "\n",
       "    .dataframe tbody tr th {\n",
       "        vertical-align: top;\n",
       "    }\n",
       "\n",
       "    .dataframe thead th {\n",
       "        text-align: right;\n",
       "    }\n",
       "</style>\n",
       "<table border=\"1\" class=\"dataframe\">\n",
       "  <thead>\n",
       "    <tr style=\"text-align: right;\">\n",
       "      <th></th>\n",
       "      <th>name</th>\n",
       "      <th>WR</th>\n",
       "      <th>count</th>\n",
       "      <th>KDA</th>\n",
       "    </tr>\n",
       "  </thead>\n",
       "  <tbody>\n",
       "    <tr>\n",
       "      <th>5</th>\n",
       "      <td>라칸</td>\n",
       "      <td>0.666667</td>\n",
       "      <td>3</td>\n",
       "      <td>2.777778</td>\n",
       "    </tr>\n",
       "    <tr>\n",
       "      <th>4</th>\n",
       "      <td>비에고</td>\n",
       "      <td>0.500000</td>\n",
       "      <td>2</td>\n",
       "      <td>4.000000</td>\n",
       "    </tr>\n",
       "    <tr>\n",
       "      <th>0</th>\n",
       "      <td>그레이브즈</td>\n",
       "      <td>1.000000</td>\n",
       "      <td>1</td>\n",
       "      <td>11.500000</td>\n",
       "    </tr>\n",
       "    <tr>\n",
       "      <th>1</th>\n",
       "      <td>노틸러스</td>\n",
       "      <td>1.000000</td>\n",
       "      <td>1</td>\n",
       "      <td>2.833333</td>\n",
       "    </tr>\n",
       "    <tr>\n",
       "      <th>2</th>\n",
       "      <td>케인</td>\n",
       "      <td>1.000000</td>\n",
       "      <td>1</td>\n",
       "      <td>2.416667</td>\n",
       "    </tr>\n",
       "    <tr>\n",
       "      <th>3</th>\n",
       "      <td>진</td>\n",
       "      <td>0.000000</td>\n",
       "      <td>1</td>\n",
       "      <td>4.000000</td>\n",
       "    </tr>\n",
       "    <tr>\n",
       "      <th>6</th>\n",
       "      <td>자야</td>\n",
       "      <td>0.000000</td>\n",
       "      <td>1</td>\n",
       "      <td>0.500000</td>\n",
       "    </tr>\n",
       "  </tbody>\n",
       "</table>\n",
       "</div>"
      ],
      "text/plain": [
       "    name        WR  count        KDA\n",
       "5     라칸  0.666667      3   2.777778\n",
       "4    비에고  0.500000      2   4.000000\n",
       "0  그레이브즈  1.000000      1  11.500000\n",
       "1   노틸러스  1.000000      1   2.833333\n",
       "2     케인  1.000000      1   2.416667\n",
       "3      진  0.000000      1   4.000000\n",
       "6     자야  0.000000      1   0.500000"
      ]
     },
     "execution_count": 46,
     "metadata": {},
     "output_type": "execute_result"
    }
   ],
   "source": [
    "games_df.sort_values('count',ascending = False)[['name','WR','count','KDA']]"
   ]
  },
  {
   "cell_type": "code",
   "execution_count": null,
   "metadata": {},
   "outputs": [],
   "source": [
    "# 내가 시간대별로 아이템 뭐샀는지 한번 해보자"
   ]
  }
 ],
 "metadata": {
  "kernelspec": {
   "display_name": "esports",
   "language": "python",
   "name": "esports"
  },
  "language_info": {
   "codemirror_mode": {
    "name": "ipython",
    "version": 3
   },
   "file_extension": ".py",
   "mimetype": "text/x-python",
   "name": "python",
   "nbconvert_exporter": "python",
   "pygments_lexer": "ipython3",
   "version": "3.11.4"
  },
  "orig_nbformat": 4
 },
 "nbformat": 4,
 "nbformat_minor": 2
}
