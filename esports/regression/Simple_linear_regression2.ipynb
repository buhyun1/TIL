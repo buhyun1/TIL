{
 "cells": [
  {
   "cell_type": "markdown",
   "metadata": {
    "colab_type": "text",
    "id": "T-dtOIu5FUV3",
    "slideshow": {
     "slide_type": "slide"
    }
   },
   "source": [
    "# Simple Liner Regression 직접 구현"
   ]
  },
  {
   "cell_type": "code",
   "execution_count": 20,
   "metadata": {
    "colab": {},
    "colab_type": "code",
    "id": "dk3ggjvmFUV5",
    "slideshow": {
     "slide_type": "slide"
    }
   },
   "outputs": [],
   "source": [
    "import tensorflow as tf\n",
    "import numpy as np"
   ]
  },
  {
   "cell_type": "code",
   "execution_count": 16,
   "metadata": {},
   "outputs": [
    {
     "name": "stdout",
     "output_type": "stream",
     "text": [
      "Requirement already satisfied: tensorflow in c:\\users\\hwang\\miniconda3\\envs\\esports\\lib\\site-packages (2.13.0)\n",
      "Requirement already satisfied: tensorflow-intel==2.13.0 in c:\\users\\hwang\\miniconda3\\envs\\esports\\lib\\site-packages (from tensorflow) (2.13.0)\n",
      "Requirement already satisfied: absl-py>=1.0.0 in c:\\users\\hwang\\miniconda3\\envs\\esports\\lib\\site-packages (from tensorflow-intel==2.13.0->tensorflow) (1.4.0)\n",
      "Requirement already satisfied: astunparse>=1.6.0 in c:\\users\\hwang\\miniconda3\\envs\\esports\\lib\\site-packages (from tensorflow-intel==2.13.0->tensorflow) (1.6.3)\n",
      "Requirement already satisfied: flatbuffers>=23.1.21 in c:\\users\\hwang\\miniconda3\\envs\\esports\\lib\\site-packages (from tensorflow-intel==2.13.0->tensorflow) (23.5.26)\n",
      "Requirement already satisfied: gast<=0.4.0,>=0.2.1 in c:\\users\\hwang\\miniconda3\\envs\\esports\\lib\\site-packages (from tensorflow-intel==2.13.0->tensorflow) (0.4.0)\n",
      "Requirement already satisfied: google-pasta>=0.1.1 in c:\\users\\hwang\\miniconda3\\envs\\esports\\lib\\site-packages (from tensorflow-intel==2.13.0->tensorflow) (0.2.0)\n",
      "Requirement already satisfied: h5py>=2.9.0 in c:\\users\\hwang\\miniconda3\\envs\\esports\\lib\\site-packages (from tensorflow-intel==2.13.0->tensorflow) (3.9.0)\n",
      "Requirement already satisfied: libclang>=13.0.0 in c:\\users\\hwang\\miniconda3\\envs\\esports\\lib\\site-packages (from tensorflow-intel==2.13.0->tensorflow) (16.0.6)\n",
      "Requirement already satisfied: numpy<=1.24.3,>=1.22 in c:\\users\\hwang\\miniconda3\\envs\\esports\\lib\\site-packages (from tensorflow-intel==2.13.0->tensorflow) (1.24.3)\n",
      "Requirement already satisfied: opt-einsum>=2.3.2 in c:\\users\\hwang\\miniconda3\\envs\\esports\\lib\\site-packages (from tensorflow-intel==2.13.0->tensorflow) (3.3.0)\n",
      "Requirement already satisfied: packaging in c:\\users\\hwang\\miniconda3\\envs\\esports\\lib\\site-packages (from tensorflow-intel==2.13.0->tensorflow) (21.3)\n",
      "Requirement already satisfied: protobuf!=4.21.0,!=4.21.1,!=4.21.2,!=4.21.3,!=4.21.4,!=4.21.5,<5.0.0dev,>=3.20.3 in c:\\users\\hwang\\miniconda3\\envs\\esports\\lib\\site-packages (from tensorflow-intel==2.13.0->tensorflow) (4.24.1)\n",
      "Requirement already satisfied: setuptools in c:\\users\\hwang\\miniconda3\\envs\\esports\\lib\\site-packages (from tensorflow-intel==2.13.0->tensorflow) (68.0.0)\n",
      "Requirement already satisfied: six>=1.12.0 in c:\\users\\hwang\\miniconda3\\envs\\esports\\lib\\site-packages (from tensorflow-intel==2.13.0->tensorflow) (1.16.0)\n",
      "Requirement already satisfied: termcolor>=1.1.0 in c:\\users\\hwang\\miniconda3\\envs\\esports\\lib\\site-packages (from tensorflow-intel==2.13.0->tensorflow) (2.3.0)\n",
      "Requirement already satisfied: typing-extensions<4.6.0,>=3.6.6 in c:\\users\\hwang\\miniconda3\\envs\\esports\\lib\\site-packages (from tensorflow-intel==2.13.0->tensorflow) (4.5.0)\n",
      "Requirement already satisfied: wrapt>=1.11.0 in c:\\users\\hwang\\miniconda3\\envs\\esports\\lib\\site-packages (from tensorflow-intel==2.13.0->tensorflow) (1.15.0)\n",
      "Requirement already satisfied: grpcio<2.0,>=1.24.3 in c:\\users\\hwang\\miniconda3\\envs\\esports\\lib\\site-packages (from tensorflow-intel==2.13.0->tensorflow) (1.57.0)\n",
      "Requirement already satisfied: tensorboard<2.14,>=2.13 in c:\\users\\hwang\\miniconda3\\envs\\esports\\lib\\site-packages (from tensorflow-intel==2.13.0->tensorflow) (2.13.0)\n",
      "Requirement already satisfied: tensorflow-estimator<2.14,>=2.13.0 in c:\\users\\hwang\\miniconda3\\envs\\esports\\lib\\site-packages (from tensorflow-intel==2.13.0->tensorflow) (2.13.0)\n",
      "Requirement already satisfied: keras<2.14,>=2.13.1 in c:\\users\\hwang\\miniconda3\\envs\\esports\\lib\\site-packages (from tensorflow-intel==2.13.0->tensorflow) (2.13.1)\n",
      "Requirement already satisfied: tensorflow-io-gcs-filesystem>=0.23.1 in c:\\users\\hwang\\miniconda3\\envs\\esports\\lib\\site-packages (from tensorflow-intel==2.13.0->tensorflow) (0.31.0)\n",
      "Requirement already satisfied: wheel<1.0,>=0.23.0 in c:\\users\\hwang\\miniconda3\\envs\\esports\\lib\\site-packages (from astunparse>=1.6.0->tensorflow-intel==2.13.0->tensorflow) (0.38.4)\n",
      "Requirement already satisfied: google-auth<3,>=1.6.3 in c:\\users\\hwang\\miniconda3\\envs\\esports\\lib\\site-packages (from tensorboard<2.14,>=2.13->tensorflow-intel==2.13.0->tensorflow) (2.22.0)\n",
      "Requirement already satisfied: google-auth-oauthlib<1.1,>=0.5 in c:\\users\\hwang\\miniconda3\\envs\\esports\\lib\\site-packages (from tensorboard<2.14,>=2.13->tensorflow-intel==2.13.0->tensorflow) (1.0.0)\n",
      "Requirement already satisfied: markdown>=2.6.8 in c:\\users\\hwang\\miniconda3\\envs\\esports\\lib\\site-packages (from tensorboard<2.14,>=2.13->tensorflow-intel==2.13.0->tensorflow) (3.4.4)\n",
      "Requirement already satisfied: requests<3,>=2.21.0 in c:\\users\\hwang\\miniconda3\\envs\\esports\\lib\\site-packages (from tensorboard<2.14,>=2.13->tensorflow-intel==2.13.0->tensorflow) (2.31.0)\n",
      "Requirement already satisfied: tensorboard-data-server<0.8.0,>=0.7.0 in c:\\users\\hwang\\miniconda3\\envs\\esports\\lib\\site-packages (from tensorboard<2.14,>=2.13->tensorflow-intel==2.13.0->tensorflow) (0.7.1)\n",
      "Requirement already satisfied: werkzeug>=1.0.1 in c:\\users\\hwang\\miniconda3\\envs\\esports\\lib\\site-packages (from tensorboard<2.14,>=2.13->tensorflow-intel==2.13.0->tensorflow) (2.3.7)\n",
      "Requirement already satisfied: pyparsing!=3.0.5,>=2.0.2 in c:\\users\\hwang\\miniconda3\\envs\\esports\\lib\\site-packages (from packaging->tensorflow-intel==2.13.0->tensorflow) (3.0.4)\n",
      "Requirement already satisfied: cachetools<6.0,>=2.0.0 in c:\\users\\hwang\\miniconda3\\envs\\esports\\lib\\site-packages (from google-auth<3,>=1.6.3->tensorboard<2.14,>=2.13->tensorflow-intel==2.13.0->tensorflow) (5.3.1)\n",
      "Requirement already satisfied: pyasn1-modules>=0.2.1 in c:\\users\\hwang\\miniconda3\\envs\\esports\\lib\\site-packages (from google-auth<3,>=1.6.3->tensorboard<2.14,>=2.13->tensorflow-intel==2.13.0->tensorflow) (0.3.0)\n",
      "Requirement already satisfied: rsa<5,>=3.1.4 in c:\\users\\hwang\\miniconda3\\envs\\esports\\lib\\site-packages (from google-auth<3,>=1.6.3->tensorboard<2.14,>=2.13->tensorflow-intel==2.13.0->tensorflow) (4.9)\n",
      "Requirement already satisfied: urllib3<2.0 in c:\\users\\hwang\\miniconda3\\envs\\esports\\lib\\site-packages (from google-auth<3,>=1.6.3->tensorboard<2.14,>=2.13->tensorflow-intel==2.13.0->tensorflow) (1.26.16)\n",
      "Requirement already satisfied: requests-oauthlib>=0.7.0 in c:\\users\\hwang\\miniconda3\\envs\\esports\\lib\\site-packages (from google-auth-oauthlib<1.1,>=0.5->tensorboard<2.14,>=2.13->tensorflow-intel==2.13.0->tensorflow) (1.3.1)\n",
      "Requirement already satisfied: charset-normalizer<4,>=2 in c:\\users\\hwang\\miniconda3\\envs\\esports\\lib\\site-packages (from requests<3,>=2.21.0->tensorboard<2.14,>=2.13->tensorflow-intel==2.13.0->tensorflow) (3.2.0)\n",
      "Requirement already satisfied: idna<4,>=2.5 in c:\\users\\hwang\\miniconda3\\envs\\esports\\lib\\site-packages (from requests<3,>=2.21.0->tensorboard<2.14,>=2.13->tensorflow-intel==2.13.0->tensorflow) (3.4)\n",
      "Requirement already satisfied: certifi>=2017.4.17 in c:\\users\\hwang\\miniconda3\\envs\\esports\\lib\\site-packages (from requests<3,>=2.21.0->tensorboard<2.14,>=2.13->tensorflow-intel==2.13.0->tensorflow) (2023.7.22)\n",
      "Requirement already satisfied: MarkupSafe>=2.1.1 in c:\\users\\hwang\\miniconda3\\envs\\esports\\lib\\site-packages (from werkzeug>=1.0.1->tensorboard<2.14,>=2.13->tensorflow-intel==2.13.0->tensorflow) (2.1.3)\n",
      "Requirement already satisfied: pyasn1<0.6.0,>=0.4.6 in c:\\users\\hwang\\miniconda3\\envs\\esports\\lib\\site-packages (from pyasn1-modules>=0.2.1->google-auth<3,>=1.6.3->tensorboard<2.14,>=2.13->tensorflow-intel==2.13.0->tensorflow) (0.5.0)\n",
      "Requirement already satisfied: oauthlib>=3.0.0 in c:\\users\\hwang\\miniconda3\\envs\\esports\\lib\\site-packages (from requests-oauthlib>=0.7.0->google-auth-oauthlib<1.1,>=0.5->tensorboard<2.14,>=2.13->tensorflow-intel==2.13.0->tensorflow) (3.2.2)\n",
      "Note: you may need to restart the kernel to use updated packages.\n"
     ]
    }
   ],
   "source": [
    "%pip install tensorflow"
   ]
  },
  {
   "cell_type": "markdown",
   "metadata": {
    "colab_type": "text",
    "id": "RFeXSskkFUV-",
    "slideshow": {
     "slide_type": "slide"
    }
   },
   "source": [
    "\n",
    "# Hypothesis and Cost\n",
    "### Hypothesis \n",
    "$$ H(x) = Wx + b $$\n",
    "\n",
    "\n",
    "### Cost\n",
    "$$ cost(W)=\\frac { 1 }{ m } \\sum _{i=1}^{m}{ { (W{ x }^{ i }-y^{ i } })^{ 2 } }  $$\n"
   ]
  },
  {
   "cell_type": "code",
   "execution_count": 21,
   "metadata": {
    "colab": {},
    "colab_type": "code",
    "id": "pvennmBIFUV_",
    "slideshow": {
     "slide_type": "slide"
    }
   },
   "outputs": [
    {
     "name": "stdout",
     "output_type": "stream",
     "text": [
      "tf.Tensor([0. 1. 2. 3. 4. 5. 6. 7. 8. 9.], shape=(10,), dtype=float32) tf.Tensor([0. 1. 2. 3. 4. 5. 6. 7. 8. 9.], shape=(10,), dtype=float32)\n"
     ]
    }
   ],
   "source": [
    "X = tf.range(10.0)\n",
    "y = tf.range(10.0)\n",
    "print(X,y)"
   ]
  },
  {
   "cell_type": "code",
   "execution_count": 22,
   "metadata": {
    "colab": {
     "base_uri": "https://localhost:8080/",
     "height": 369
    },
    "colab_type": "code",
    "executionInfo": {
     "elapsed": 2167,
     "status": "ok",
     "timestamp": 1549783673077,
     "user": {
      "displayName": "Sean-June Lee",
      "photoUrl": "https://lh3.googleusercontent.com/-j96Pvw9LbEw/AAAAAAAAAAI/AAAAAAACQxw/aY8i4PoItwc/s64/photo.jpg",
      "userId": "12576390002043678893"
     },
     "user_tz": -540
    },
    "id": "0gJ136qSGiYm",
    "outputId": "5eb3b45f-55df-4d8d-ded7-b3baf3f264b1"
   },
   "outputs": [
    {
     "data": {
      "image/png": "[encoded data removed]",
      "text/plain": [
       "<Figure size 432x288 with 1 Axes>"
      ]
     },
     "metadata": {
      "needs_background": "light"
     },
     "output_type": "display_data"
    }
   ],
   "source": [
    "import matplotlib.pyplot as plt\n",
    "plt.plot(X, y, 'o')\n",
    "plt.ylim(0, 10)\n",
    "plt.show()"
   ]
  },
  {
   "cell_type": "markdown",
   "metadata": {
    "colab_type": "text",
    "id": "kJIo1YInVobJ"
   },
   "source": [
    "## Hypothesis\n",
    "\n",
    "dtype에 유의\n",
    "\n",
    "A. is not A (float / int)"
   ]
  },
  {
   "cell_type": "code",
   "execution_count": 23,
   "metadata": {
    "colab": {
     "base_uri": "https://localhost:8080/",
     "height": 34
    },
    "colab_type": "code",
    "executionInfo": {
     "elapsed": 2160,
     "status": "ok",
     "timestamp": 1549783673078,
     "user": {
      "displayName": "Sean-June Lee",
      "photoUrl": "https://lh3.googleusercontent.com/-j96Pvw9LbEw/AAAAAAAAAAI/AAAAAAACQxw/aY8i4PoItwc/s64/photo.jpg",
      "userId": "12576390002043678893"
     },
     "user_tz": -540
    },
    "id": "4F5aR9EEDaAs",
    "outputId": "8bd52e07-f337-4b3d-c837-1a7bdc1a2760"
   },
   "outputs": [
    {
     "data": {
      "text/plain": [
       "<tf.Tensor: shape=(), dtype=float32, numpy=4.5>"
      ]
     },
     "execution_count": 23,
     "metadata": {},
     "output_type": "execute_result"
    }
   ],
   "source": [
    "vector = tf.range(10.0)\n",
    "tf.reduce_mean(vector)"
   ]
  },
  {
   "cell_type": "code",
   "execution_count": 24,
   "metadata": {
    "colab": {
     "base_uri": "https://localhost:8080/",
     "height": 34
    },
    "colab_type": "code",
    "executionInfo": {
     "elapsed": 2142,
     "status": "ok",
     "timestamp": 1549783673079,
     "user": {
      "displayName": "Sean-June Lee",
      "photoUrl": "https://lh3.googleusercontent.com/-j96Pvw9LbEw/AAAAAAAAAAI/AAAAAAACQxw/aY8i4PoItwc/s64/photo.jpg",
      "userId": "12576390002043678893"
     },
     "user_tz": -540
    },
    "id": "ci7fI9DdFcLh",
    "outputId": "116b747d-9d10-4ae0-f1c3-069f0fd58186"
   },
   "outputs": [
    {
     "data": {
      "text/plain": [
       "<tf.Tensor: shape=(), dtype=int32, numpy=25>"
      ]
     },
     "execution_count": 24,
     "metadata": {},
     "output_type": "execute_result"
    }
   ],
   "source": [
    "tf.square(5)"
   ]
  },
  {
   "cell_type": "markdown",
   "metadata": {},
   "source": [
    "임의로 hypothesis 하나 생성"
   ]
  },
  {
   "cell_type": "code",
   "execution_count": 25,
   "metadata": {
    "colab": {
     "base_uri": "https://localhost:8080/",
     "height": 90
    },
    "colab_type": "code",
    "executionInfo": {
     "elapsed": 2135,
     "status": "ok",
     "timestamp": 1549783673080,
     "user": {
      "displayName": "Sean-June Lee",
      "photoUrl": "https://lh3.googleusercontent.com/-j96Pvw9LbEw/AAAAAAAAAAI/AAAAAAACQxw/aY8i4PoItwc/s64/photo.jpg",
      "userId": "12576390002043678893"
     },
     "user_tz": -540
    },
    "id": "vGg-WsdlAlNr",
    "outputId": "c5eda8e8-9a4f-4713-a5c2-7c73998c6154"
   },
   "outputs": [],
   "source": [
    "W = tf.Variable(1.0)\n",
    "b = tf.Variable(1.0)\n",
    "\n",
    "\n",
    "hypothesis = W * X + b"
   ]
  },
  {
   "cell_type": "markdown",
   "metadata": {},
   "source": [
    "### Hypothesis \n",
    "\n",
    "$$ H(x) = 2.0x + 0.5 $$"
   ]
  },
  {
   "cell_type": "code",
   "execution_count": 26,
   "metadata": {},
   "outputs": [
    {
     "data": {
      "text/plain": [
       "<tf.Tensor: shape=(10,), dtype=float32, numpy=array([ 1.,  2.,  3.,  4.,  5.,  6.,  7.,  8.,  9., 10.], dtype=float32)>"
      ]
     },
     "execution_count": 26,
     "metadata": {},
     "output_type": "execute_result"
    }
   ],
   "source": [
    "hypothesis"
   ]
  },
  {
   "cell_type": "code",
   "execution_count": 10,
   "metadata": {
    "colab": {
     "base_uri": "https://localhost:8080/",
     "height": 34
    },
    "colab_type": "code",
    "executionInfo": {
     "elapsed": 2125,
     "status": "ok",
     "timestamp": 1549783673082,
     "user": {
      "displayName": "Sean-June Lee",
      "photoUrl": "https://lh3.googleusercontent.com/-j96Pvw9LbEw/AAAAAAAAAAI/AAAAAAACQxw/aY8i4PoItwc/s64/photo.jpg",
      "userId": "12576390002043678893"
     },
     "user_tz": -540
    },
    "id": "5-9nQyH5IjJA",
    "outputId": "36d8d098-a333-45c4-8d0a-e2b797837a96"
   },
   "outputs": [
    {
     "data": {
      "text/plain": [
       "array([ 1.,  2.,  3.,  4.,  5.,  6.,  7.,  8.,  9., 10.], dtype=float32)"
      ]
     },
     "execution_count": 10,
     "metadata": {},
     "output_type": "execute_result"
    }
   ],
   "source": [
    "hypothesis.numpy()"
   ]
  },
  {
   "cell_type": "markdown",
   "metadata": {},
   "source": [
    "파란점이 실제 데이터, 빨간선이 H(x)"
   ]
  },
  {
   "cell_type": "code",
   "execution_count": 11,
   "metadata": {
    "colab": {
     "base_uri": "https://localhost:8080/",
     "height": 351
    },
    "colab_type": "code",
    "executionInfo": {
     "elapsed": 2375,
     "status": "ok",
     "timestamp": 1549783673347,
     "user": {
      "displayName": "Sean-June Lee",
      "photoUrl": "https://lh3.googleusercontent.com/-j96Pvw9LbEw/AAAAAAAAAAI/AAAAAAACQxw/aY8i4PoItwc/s64/photo.jpg",
      "userId": "12576390002043678893"
     },
     "user_tz": -540
    },
    "id": "5CK8K2HXXdB7",
    "outputId": "c6ea512e-bbc6-4576-e0c6-af6b047f8a49"
   },
   "outputs": [
    {
     "data": {
      "image/png": "[encoded data removed]",
      "text/plain": [
       "<Figure size 640x480 with 1 Axes>"
      ]
     },
     "metadata": {},
     "output_type": "display_data"
    }
   ],
   "source": [
    "plt.plot(X, hypothesis.numpy(), 'r-')\n",
    "plt.plot(X, y, 'o')\n",
    "plt.ylim(-1, 20)\n",
    "plt.show()"
   ]
  },
  {
   "cell_type": "markdown",
   "metadata": {
    "colab_type": "text",
    "id": "wa9avNpfVdDD"
   },
   "source": [
    "## Cost\n",
    "$$ cost(W)=\\frac { 1 }{ m } \\sum _{i=1}^{m}{ { (W{ x }^{ i }-y^{ i } })^{ 2 } }  $$\n",
    "\n",
    "Cost는 모델과 데이터가 얼마나 잘 맞지 않는지를 수치화하는 것이라 볼 수 있는데. 이는 loss라고 부른다.\n",
    "\n",
    "자세한 내용은 [여기](https://github.com/cpprhtn/Cpprhtn-s_Deep_Learning/blob/master/AI_Class/018/README.md)를 참고하자.\n",
    "\n",
    "오차제곱평균(MSE)"
   ]
  },
  {
   "cell_type": "code",
   "execution_count": 12,
   "metadata": {
    "colab": {},
    "colab_type": "code",
    "id": "ZkOrmjTjKMJ7"
   },
   "outputs": [
    {
     "data": {
      "text/plain": [
       "(<tf.Tensor: shape=(), dtype=float32, numpy=1.0>,\n",
       " <tf.Tensor: shape=(), dtype=float32, numpy=1.0>)"
      ]
     },
     "execution_count": 12,
     "metadata": {},
     "output_type": "execute_result"
    }
   ],
   "source": [
    "cost = tf.reduce_mean(tf.square(hypothesis - y))\n",
    "\n",
    "#tensorflow에 미리 구현되어있는 MSE\n",
    "cost2 = tf.losses.mean_squared_error(hypothesis, y)\n",
    "\n",
    "cost, cost2"
   ]
  },
  {
   "cell_type": "markdown",
   "metadata": {},
   "source": [
    "## Gradient Descent\n",
    "\n",
    "$$ Minimize cost(W, b) $$\n",
    "\n",
    "파라미터  W ,  b 에 대해 Cost를 미분한다. \n",
    "다시 말해 파라미터를 증가시킬 때 Cost 값이 얼마나 변화하는지 확인한다."
   ]
  },
  {
   "cell_type": "code",
   "execution_count": 13,
   "metadata": {
    "colab": {
     "base_uri": "https://localhost:8080/",
     "height": 34
    },
    "colab_type": "code",
    "executionInfo": {
     "elapsed": 2364,
     "status": "ok",
     "timestamp": 1549783673351,
     "user": {
      "displayName": "Sean-June Lee",
      "photoUrl": "https://lh3.googleusercontent.com/-j96Pvw9LbEw/AAAAAAAAAAI/AAAAAAACQxw/aY8i4PoItwc/s64/photo.jpg",
      "userId": "12576390002043678893"
     },
     "user_tz": -540
    },
    "id": "n00UWqSAKXHU",
    "outputId": "a4191026-70c0-4e79-dff8-57ca14cd98f3"
   },
   "outputs": [
    {
     "data": {
      "text/plain": [
       "(9.0, 2.0)"
      ]
     },
     "execution_count": 13,
     "metadata": {},
     "output_type": "execute_result"
    }
   ],
   "source": [
    "with tf.GradientTape() as tape:\n",
    "    hypothesis = W * X + b\n",
    "    cost = tf.reduce_mean(tf.square(hypothesis - y))\n",
    "\n",
    "dW, db = tape.gradient(cost, [W, b])\n",
    "dW.numpy(), db.numpy()"
   ]
  },
  {
   "cell_type": "markdown",
   "metadata": {
    "colab_type": "text",
    "id": "1JhoCK8yLk_X"
   },
   "source": [
    "## 파라미터 업데이트\n",
    "\n",
    "loss를  W로 미분했을 때 마이너스면  W 를 증가, 플러스면 감소시킨다. \n",
    "\n",
    "즉 미분값에 비례해서 변화시킨다.  \n",
    "하지만 미분값만큼 그대로 변화시키면 파라미터가 한 번에 너무 많이 변하므로 적당한 학습률(보통 0.01~0.001)을 곱해준다."
   ]
  },
  {
   "cell_type": "code",
   "execution_count": 14,
   "metadata": {
    "colab": {
     "base_uri": "https://localhost:8080/",
     "height": 34
    },
    "colab_type": "code",
    "executionInfo": {
     "elapsed": 2355,
     "status": "ok",
     "timestamp": 1549783673352,
     "user": {
      "displayName": "Sean-June Lee",
      "photoUrl": "https://lh3.googleusercontent.com/-j96Pvw9LbEw/AAAAAAAAAAI/AAAAAAACQxw/aY8i4PoItwc/s64/photo.jpg",
      "userId": "12576390002043678893"
     },
     "user_tz": -540
    },
    "id": "bEOlCDAoLkw0",
    "outputId": "3e04ee39-a263-469e-87b9-53f4dd9980a1"
   },
   "outputs": [],
   "source": [
    "learning_rate = 0.01"
   ]
  },
  {
   "cell_type": "markdown",
   "metadata": {},
   "source": [
    "이제  w←w−η∂w 의 식으로 파라미터를 수정해준다.  η 는 학습률을 나타낸다. \n",
    "경사(미분)을 따라 손실을 줄여나가기 때문에 경사하강법이라고 부른다. \n",
    "\n",
    "텐서플로에서 a.assign_sub(b)는 일반적인 파이썬 코드에서 a = a - b와 같다"
   ]
  },
  {
   "cell_type": "code",
   "execution_count": 15,
   "metadata": {},
   "outputs": [
    {
     "data": {
      "text/plain": [
       "(0.91, 0.98)"
      ]
     },
     "execution_count": 15,
     "metadata": {},
     "output_type": "execute_result"
    }
   ],
   "source": [
    "W.assign_sub(learning_rate * dW)\n",
    "b.assign_sub(learning_rate * db)\n",
    "\n",
    "W.numpy(), b.numpy()"
   ]
  },
  {
   "cell_type": "code",
   "execution_count": 16,
   "metadata": {
    "colab": {
     "base_uri": "https://localhost:8080/",
     "height": 369
    },
    "colab_type": "code",
    "executionInfo": {
     "elapsed": 2660,
     "status": "ok",
     "timestamp": 1549783673662,
     "user": {
      "displayName": "Sean-June Lee",
      "photoUrl": "https://lh3.googleusercontent.com/-j96Pvw9LbEw/AAAAAAAAAAI/AAAAAAACQxw/aY8i4PoItwc/s64/photo.jpg",
      "userId": "12576390002043678893"
     },
     "user_tz": -540
    },
    "id": "sYxk3o8VLUmJ",
    "outputId": "c3f06239-6645-4b87-c600-267e89588d0c"
   },
   "outputs": [
    {
     "data": {
      "text/plain": [
       "(-1.0, 20.0)"
      ]
     },
     "execution_count": 16,
     "metadata": {},
     "output_type": "execute_result"
    },
    {
     "data": {
      "image/png": "[encoded data removed]",
      "text/plain": [
       "<Figure size 640x480 with 1 Axes>"
      ]
     },
     "metadata": {},
     "output_type": "display_data"
    }
   ],
   "source": [
    "plt.plot(X, hypothesis.numpy(), 'r-')\n",
    "plt.plot(X, y, 'o')\n",
    "plt.ylim(-1, 20)"
   ]
  },
  {
   "cell_type": "markdown",
   "metadata": {
    "colab_type": "text",
    "id": "DIwrKgj-P-Id"
   },
   "source": [
    "## 여러 번 반복"
   ]
  },
  {
   "cell_type": "code",
   "execution_count": 17,
   "metadata": {
    "colab": {
     "base_uri": "https://localhost:8080/",
     "height": 545
    },
    "colab_type": "code",
    "executionInfo": {
     "elapsed": 3427,
     "status": "ok",
     "timestamp": 1549783674437,
     "user": {
      "displayName": "Sean-June Lee",
      "photoUrl": "https://lh3.googleusercontent.com/-j96Pvw9LbEw/AAAAAAAAAAI/AAAAAAACQxw/aY8i4PoItwc/s64/photo.jpg",
      "userId": "12576390002043678893"
     },
     "user_tz": -540
    },
    "id": "iMia1ENFLUeJ",
    "outputId": "0aa42d35-0cda-4e40-a40d-85cd6dd2547c"
   },
   "outputs": [
    {
     "name": "stdout",
     "output_type": "stream",
     "text": [
      "    0|    0.8731|    0.9685|  0.397450\n",
      "   10|    0.8547|    0.9111|  0.243104\n",
      "   20|    0.8627|    0.8610|  0.217071\n",
      "   30|    0.8703|    0.8136|  0.193826\n",
      "   40|    0.8774|    0.7688|  0.173069\n",
      "   50|    0.8842|    0.7264|  0.154536\n",
      "   60|    0.8905|    0.6864|  0.137987\n",
      "   70|    0.8966|    0.6486|  0.123211\n",
      "   80|    0.9023|    0.6129|  0.110017\n",
      "   90|    0.9076|    0.5792|  0.098235\n",
      "  100|    0.9127|    0.5473|  0.087716\n",
      "  110|    0.9175|    0.5172|  0.078322\n",
      "  120|    0.9221|    0.4887|  0.069935\n",
      "  130|    0.9264|    0.4618|  0.062446\n",
      "  140|    0.9304|    0.4364|  0.055759\n",
      "  150|    0.9342|    0.4123|  0.049788\n",
      "  160|    0.9379|    0.3896|  0.044456\n",
      "  170|    0.9413|    0.3682|  0.039696\n",
      "  180|    0.9445|    0.3479|  0.035445\n",
      "  190|    0.9476|    0.3287|  0.031649\n",
      "  200|    0.9505|    0.3106|  0.028260\n",
      "  210|    0.9532|    0.2935|  0.025234\n",
      "  220|    0.9558|    0.2774|  0.022531\n",
      "  230|    0.9582|    0.2621|  0.020119\n",
      "  240|    0.9605|    0.2477|  0.017964\n",
      "  250|    0.9627|    0.2340|  0.016040\n",
      "  260|    0.9647|    0.2212|  0.014323\n",
      "  270|    0.9667|    0.2090|  0.012789\n",
      "  280|    0.9685|    0.1975|  0.011419\n",
      "  290|    0.9702|    0.1866|  0.010197\n",
      "  300|    0.9719|    0.1763|  0.009105\n",
      "  310|    0.9734|    0.1666|  0.008130\n",
      "  320|    0.9749|    0.1574|  0.007259\n",
      "  330|    0.9763|    0.1488|  0.006482\n",
      "  340|    0.9776|    0.1406|  0.005788\n",
      "  350|    0.9788|    0.1328|  0.005168\n",
      "  360|    0.9800|    0.1255|  0.004614\n",
      "  370|    0.9811|    0.1186|  0.004120\n",
      "  380|    0.9821|    0.1121|  0.003679\n",
      "  390|    0.9831|    0.1059|  0.003285\n",
      "  400|    0.9840|    0.1001|  0.002933\n",
      "  410|    0.9849|    0.0946|  0.002619\n",
      "  420|    0.9857|    0.0894|  0.002339\n",
      "  430|    0.9865|    0.0844|  0.002088\n",
      "  440|    0.9873|    0.0798|  0.001865\n",
      "  450|    0.9880|    0.0754|  0.001665\n",
      "  460|    0.9886|    0.0713|  0.001487\n",
      "  470|    0.9893|    0.0673|  0.001327\n",
      "  480|    0.9899|    0.0636|  0.001185\n",
      "  490|    0.9904|    0.0601|  0.001058\n",
      "  500|    0.9909|    0.0568|  0.000945\n",
      "  510|    0.9914|    0.0537|  0.000844\n",
      "  520|    0.9919|    0.0507|  0.000753\n",
      "  530|    0.9924|    0.0479|  0.000673\n",
      "  540|    0.9928|    0.0453|  0.000601\n",
      "  550|    0.9932|    0.0428|  0.000536\n",
      "  560|    0.9936|    0.0404|  0.000479\n",
      "  570|    0.9939|    0.0382|  0.000428\n",
      "  580|    0.9942|    0.0361|  0.000382\n",
      "  590|    0.9946|    0.0341|  0.000341\n",
      "  600|    0.9949|    0.0322|  0.000304\n",
      "  610|    0.9951|    0.0305|  0.000272\n",
      "  620|    0.9954|    0.0288|  0.000243\n",
      "  630|    0.9957|    0.0272|  0.000217\n",
      "  640|    0.9959|    0.0257|  0.000194\n",
      "  650|    0.9961|    0.0243|  0.000173\n",
      "  660|    0.9963|    0.0230|  0.000154\n",
      "  670|    0.9965|    0.0217|  0.000138\n",
      "  680|    0.9967|    0.0205|  0.000123\n",
      "  690|    0.9969|    0.0194|  0.000110\n",
      "  700|    0.9971|    0.0183|  0.000098\n",
      "  710|    0.9972|    0.0173|  0.000088\n",
      "  720|    0.9974|    0.0163|  0.000078\n",
      "  730|    0.9975|    0.0154|  0.000070\n",
      "  740|    0.9977|    0.0146|  0.000062\n",
      "  750|    0.9978|    0.0138|  0.000056\n",
      "  760|    0.9979|    0.0130|  0.000050\n",
      "  770|    0.9980|    0.0123|  0.000044\n",
      "  780|    0.9981|    0.0116|  0.000040\n",
      "  790|    0.9982|    0.0110|  0.000035\n",
      "  800|    0.9983|    0.0104|  0.000032\n",
      "  810|    0.9984|    0.0098|  0.000028\n",
      "  820|    0.9985|    0.0093|  0.000025\n",
      "  830|    0.9986|    0.0088|  0.000022\n",
      "  840|    0.9987|    0.0083|  0.000020\n",
      "  850|    0.9988|    0.0078|  0.000018\n",
      "  860|    0.9988|    0.0074|  0.000016\n",
      "  870|    0.9989|    0.0070|  0.000014\n",
      "  880|    0.9989|    0.0066|  0.000013\n",
      "  890|    0.9990|    0.0062|  0.000011\n",
      "  900|    0.9991|    0.0059|  0.000010\n",
      "  910|    0.9991|    0.0056|  0.000009\n",
      "  920|    0.9992|    0.0053|  0.000008\n",
      "  930|    0.9992|    0.0050|  0.000007\n",
      "  940|    0.9993|    0.0047|  0.000006\n",
      "  950|    0.9993|    0.0044|  0.000006\n",
      "  960|    0.9993|    0.0042|  0.000005\n",
      "  970|    0.9994|    0.0040|  0.000005\n",
      "  980|    0.9994|    0.0037|  0.000004\n",
      "  990|    0.9994|    0.0035|  0.000004\n"
     ]
    }
   ],
   "source": [
    "for i in range(1000):\n",
    "    with tf.GradientTape() as tape:\n",
    "        hypothesis = W * X + b\n",
    "        cost = tf.reduce_mean(tf.square(hypothesis - y))\n",
    "    W_grad, b_grad = tape.gradient(cost, [W, b])\n",
    "    W.assign_sub(learning_rate * W_grad)\n",
    "    b.assign_sub(learning_rate * b_grad)\n",
    "    if i % 10 == 0:\n",
    "      print(\"{:5}|{:10.4f}|{:10.4f}|{:10.6f}\".format(i, W.numpy(), b.numpy(), cost))"
   ]
  },
  {
   "cell_type": "code",
   "execution_count": 18,
   "metadata": {},
   "outputs": [
    {
     "data": {
      "text/plain": [
       "(-1.0, 20.0)"
      ]
     },
     "execution_count": 18,
     "metadata": {},
     "output_type": "execute_result"
    },
    {
     "data": {
      "image/png": "[encoded data removed]",
      "text/plain": [
       "<Figure size 640x480 with 1 Axes>"
      ]
     },
     "metadata": {},
     "output_type": "display_data"
    }
   ],
   "source": [
    "plt.plot(X, y, 'o')\n",
    "plt.plot(X, hypothesis.numpy(), 'r-')\n",
    "plt.ylim(-1, 20)"
   ]
  },
  {
   "cell_type": "markdown",
   "metadata": {
    "colab_type": "text",
    "id": "6upnkrWZFUWF",
    "slideshow": {
     "slide_type": "slide"
    }
   },
   "source": [
    "# predict"
   ]
  },
  {
   "cell_type": "code",
   "execution_count": 19,
   "metadata": {
    "colab": {
     "base_uri": "https://localhost:8080/",
     "height": 52
    },
    "colab_type": "code",
    "executionInfo": {
     "elapsed": 3428,
     "status": "ok",
     "timestamp": 1549783674450,
     "user": {
      "displayName": "Sean-June Lee",
      "photoUrl": "https://lh3.googleusercontent.com/-j96Pvw9LbEw/AAAAAAAAAAI/AAAAAAACQxw/aY8i4PoItwc/s64/photo.jpg",
      "userId": "12576390002043678893"
     },
     "user_tz": -540
    },
    "id": "WnqG2Dn7LUNy",
    "outputId": "577f4c5d-296d-497d-b444-651063be1d27"
   },
   "outputs": [],
   "source": [
    "def pred_func(x):\n",
    "    return W * x + b"
   ]
  },
  {
   "cell_type": "code",
   "execution_count": 20,
   "metadata": {},
   "outputs": [
    {
     "name": "stdout",
     "output_type": "stream",
     "text": [
      "tf.Tensor(9.997997, shape=(), dtype=float32)\n"
     ]
    }
   ],
   "source": [
    "print(pred_func(10))"
   ]
  }
 ],
 "metadata": {
  "colab": {
   "collapsed_sections": [],
   "name": "lab-02-1-Simple-Liner-Regression-eager.ipynb",
   "provenance": [],
   "version": "0.3.2"
  },
  "kernelspec": {
   "display_name": "esports",
   "language": "python",
   "name": "esports"
  },
  "language_info": {
   "codemirror_mode": {
    "name": "ipython",
    "version": 3
   },
   "file_extension": ".py",
   "mimetype": "text/x-python",
   "name": "python",
   "nbconvert_exporter": "python",
   "pygments_lexer": "ipython3",
   "version": "3.11.4"
  }
 },
 "nbformat": 4,
 "nbformat_minor": 4
}
