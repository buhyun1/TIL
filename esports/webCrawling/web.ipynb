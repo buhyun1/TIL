{
 "cells": [
  {
   "cell_type": "markdown",
   "metadata": {},
   "source": [
    "# 웹크롤링 기초 실습"
   ]
  },
  {
   "cell_type": "markdown",
   "metadata": {},
   "source": [
    "- 예시 웹페이지 example.html에서 크롤링 해보자1"
   ]
  },
  {
   "cell_type": "code",
   "execution_count": 1,
   "metadata": {},
   "outputs": [
    {
     "name": "stdout",
     "output_type": "stream",
     "text": [
      "Requirement already satisfied: BeautifulSoup4 in c:\\users\\hwang\\appdata\\local\\programs\\python\\python311\\lib\\site-packages (4.11.1)\n",
      "Requirement already satisfied: soupsieve>1.2 in c:\\users\\hwang\\appdata\\local\\programs\\python\\python311\\lib\\site-packages (from BeautifulSoup4) (2.3.2.post1)\n",
      "Note: you may need to restart the kernel to use updated packages.\n"
     ]
    },
    {
     "name": "stderr",
     "output_type": "stream",
     "text": [
      "\n",
      "[notice] A new release of pip is available: 23.1.2 -> 23.2.1\n",
      "[notice] To update, run: C:\\Users\\hwang\\AppData\\Local\\Programs\\Python\\Python311\\python.exe -m pip install --upgrade pip\n"
     ]
    }
   ],
   "source": [
    "%pip install BeautifulSoup4"
   ]
  },
  {
   "cell_type": "code",
   "execution_count": 2,
   "metadata": {},
   "outputs": [
    {
     "name": "stdout",
     "output_type": "stream",
     "text": [
      "<html>\n",
      "    <head>\n",
      "        <meta charset=\"utf-8\"/>\n",
      "        <meta lang=\"ko-kr\">\n",
      "        <title> 웹크롤링 예제</title>\n",
      "        <style>\n",
      "            h1 {\n",
      "                color: green;\n",
      "            }\n",
      "            .c {\n",
      "                color: orange;\n",
      "                background: black;\n",
      "                margin: 20px;   \n",
      "            }\n",
      "            #special {\n",
      "                color: indigo;\n",
      "                text-align: center;\n",
      "                background: beige;\n",
      "                margin: 50px;\n",
      "            }\n",
      "        </style>\n",
      "    </head>\n",
      "    <body>\n",
      "        <h1>안녕하세요!</h1>\n",
      "        <div class=\"c\">\n",
      "            python3 + beautifulsoup4와 함께<br/> \n",
      "            즐거운 웹크롤링을 해봅시다.\n",
      "        </div>\n",
      "        <p class=\"c\" id=\"special\">\n",
      "            id는 class보다 더 강력합니다.<br/>\n",
      "            그렇기 때문에, class에서 지정한 문자 컬러가 orange라도<br/>\n",
      "            여기서는 indigo 컬러의 문자를 출력하게 되죠.\n",
      "        </p>\n",
      "        <p align=\"center\">\n",
      "            이 영역은 클래스, id가 없는 평범한 영역입니다.\n",
      "            <a href=\"http://www.google.co.kr\">구글이다!!!</a>\n",
      "        </p>\n",
      "        <a href=\"http://www.daum.net\">다음이다!!</a>\n",
      "        <span>\n",
      "            <a href=\"http://www.naver.com\">야호! 네이버다!!!</a>\n",
      "        </span>\n",
      "    </body>\n",
      "</html>\n"
     ]
    }
   ],
   "source": [
    "from bs4 import BeautifulSoup\n",
    "\n",
    "html = ''\n",
    "fp = open('example.html', 'r', encoding='utf-8')\n",
    "for line in fp:\n",
    "    html += line\n",
    "fp.close\n",
    "print(html)\n",
    "soup = BeautifulSoup(html, \"html.parser\")"
   ]
  },
  {
   "cell_type": "code",
   "execution_count": 2,
   "metadata": {},
   "outputs": [
    {
     "name": "stdout",
     "output_type": "stream",
     "text": [
      "['c']\n",
      "special\n",
      "{'class': ['c'], 'id': 'special'}\n",
      "[<span>\n",
      "<a href=\"http://www.naver.com\">야호! 네이버다!!!</a>\n",
      "</span>]\n",
      "<span>\n",
      "<a href=\"http://www.naver.com\">야호! 네이버다!!!</a>\n",
      "</span>\n"
     ]
    }
   ],
   "source": [
    "text = soup.p #이것은 text = soup.find('p')와 같다.\n",
    "print(text['class']) #이 태그의 class 확인\n",
    "print(text['id']) #이 태그의 id 확인\n",
    "print(text.attrs) #이 태그의 속성과 값 확인 (딕셔너리 형태)\n",
    "\n",
    "text = soup.select('body span') #이것은 text = soup.find_all('span')과 같다.\n",
    "print(text)\n",
    "text = soup.select('body span')[0] #이것은 text = soup.find_all('span')[0]과 같다.\n",
    "print(text)"
   ]
  },
  {
   "cell_type": "code",
   "execution_count": 4,
   "metadata": {},
   "outputs": [
    {
     "name": "stdout",
     "output_type": "stream",
     "text": [
      "<p align=\"center\">\n",
      "            이 영역은 클래스, id가 없는 평범한 영역입니다.\n",
      "            <a href=\"http://www.google.co.kr\">구글이다!!!</a>\n",
      "</p>\n",
      "\n",
      "            이 영역은 클래스, id가 없는 평범한 영역입니다.\n",
      "            구글이다!!!\n",
      "\n",
      "<p class=\"c\" id=\"special\">\n",
      "            id는 class보다 더 강력합니다.<br/>\n",
      "            그렇기 때문에, class에서 지정한 문자 컬러가 orange라도<br/>\n",
      "            여기서는 indigo 컬러의 문자를 출력하게 되죠.\n",
      "        </p>\n",
      "[<p align=\"center\">\n",
      "            이 영역은 클래스, id가 없는 평범한 영역입니다.\n",
      "            <a href=\"http://www.google.co.kr\">구글이다!!!</a>\n",
      "</p>]\n",
      "[ ]:             이 영역은 클래스, id가 없는 평범한 영역입니다.\n",
      "            구글이다!!!\n"
     ]
    }
   ],
   "source": [
    "text = soup.find('p', {'align':'center'}) #가장 먼저 검색되는 태그 1개 반환\n",
    "print(text)\n",
    "print(text.get_text())\n",
    "text = soup.p\n",
    "print(text)\n",
    "\n",
    "text = []\n",
    "text = soup.find_all('p', attrs={'align':'center'}) \n",
    "#이 태그에 해당되는 태그 리스트들 반환\n",
    "#기본적으로, 이 리스트의 원소는 '태그'들이다.\n",
    "print(text)\n",
    "# print(text.get_text) 태그 리스트들은 get_text할 수 없다.\n",
    "for txt in text:\n",
    "    print(\"[ ]: \"+txt.get_text().strip('\\n'))"
   ]
  },
  {
   "cell_type": "code",
   "execution_count": 5,
   "metadata": {},
   "outputs": [
    {
     "name": "stdout",
     "output_type": "stream",
     "text": [
      "<p class=\"c\" id=\"special\">\n",
      "            id는 class보다 더 강력합니다.<br/>\n",
      "            그렇기 때문에, class에서 지정한 문자 컬러가 orange라도<br/>\n",
      "            여기서는 indigo 컬러의 문자를 출력하게 되죠.\n",
      "        </p>\n",
      "\n",
      "            id는 class보다 더 강력합니다.\n",
      "            그렇기 때문에, class에서 지정한 문자 컬러가 orange라도\n",
      "            여기서는 indigo 컬러의 문자를 출력하게 되죠.\n",
      "        \n",
      "[<p class=\"c\" id=\"special\">\n",
      "            id는 class보다 더 강력합니다.<br/>\n",
      "            그렇기 때문에, class에서 지정한 문자 컬러가 orange라도<br/>\n",
      "            여기서는 indigo 컬러의 문자를 출력하게 되죠.\n",
      "        </p>]\n",
      "[ ]:             id는 class보다 더 강력합니다.\n",
      "            그렇기 때문에, class에서 지정한 문자 컬러가 orange라도\n",
      "            여기서는 indigo 컬러의 문자를 출력하게 되죠.\n",
      "        \n"
     ]
    }
   ],
   "source": [
    "text = soup.find('p', class_='c') #가장 먼저 검색태는 태그 1개 반환\n",
    "print(text)\n",
    "print(text.get_text())\n",
    "\n",
    "text = []\n",
    "text = soup.find_all('p', 'c') \n",
    "#text = soup.find_all('p', {'class': 'c'})\n",
    "#이 태그에 해당되는 태그 리스트들 반환\n",
    "#기본적으로, 이 리스트의 원소는 '태그'들이다.\n",
    "print(text)\n",
    "# print(text.get_text) 태그 리스트들은 get_text할 수 없다.\n",
    "for txt in text:\n",
    "    print(\"[ ]: \"+txt.get_text().strip('\\n'))"
   ]
  },
  {
   "cell_type": "code",
   "execution_count": 7,
   "metadata": {},
   "outputs": [
    {
     "name": "stdout",
     "output_type": "stream",
     "text": [
      "<p class=\"c\" id=\"special\">\n",
      "            id는 class보다 더 강력합니다.<br/>\n",
      "            그렇기 때문에, class에서 지정한 문자 컬러가 orange라도<br/>\n",
      "            여기서는 indigo 컬러의 문자를 출력하게 되죠.\n",
      "        </p>\n",
      "\n",
      "            id는 class보다 더 강력합니다.\n",
      "            그렇기 때문에, class에서 지정한 문자 컬러가 orange라도\n",
      "            여기서는 indigo 컬러의 문자를 출력하게 되죠.\n",
      "        \n",
      "[<p class=\"c\" id=\"special\">\n",
      "            id는 class보다 더 강력합니다.<br/>\n",
      "            그렇기 때문에, class에서 지정한 문자 컬러가 orange라도<br/>\n",
      "            여기서는 indigo 컬러의 문자를 출력하게 되죠.\n",
      "        </p>, <p align=\"center\">\n",
      "            이 영역은 클래스, id가 없는 평범한 영역입니다.\n",
      "            <a href=\"http://www.google.co.kr\">구글이다!!!</a>\n",
      "</p>]\n",
      "[ ]:             id는 class보다 더 강력합니다.\n",
      "            그렇기 때문에, class에서 지정한 문자 컬러가 orange라도\n",
      "            여기서는 indigo 컬러의 문자를 출력하게 되죠.\n",
      "        \n",
      "[ ]:             이 영역은 클래스, id가 없는 평범한 영역입니다.\n",
      "            구글이다!!!\n"
     ]
    }
   ],
   "source": [
    "text = soup.find('p') #가장 먼저 검색태는 태그 1개 반환\n",
    "print(text)\n",
    "print(text.get_text())\n",
    "\n",
    "text = []\n",
    "text = soup.find_all('p') \n",
    "#이 태그에 해당되는 태그 리스트들 반환\n",
    "#기본적으로, 이 리스트의 원소는 '태그'들이다.\n",
    "print(text)\n",
    "# print(text.get_text) 태그 리스트들은 get_text할 수 없다.\n",
    "for txt in text:\n",
    "    print(\"[ ]: \"+txt.get_text().strip('\\n'))"
   ]
  },
  {
   "cell_type": "code",
   "execution_count": 8,
   "metadata": {},
   "outputs": [
    {
     "name": "stdout",
     "output_type": "stream",
     "text": [
      "[<p class=\"c\" id=\"special\">\n",
      "            id는 class보다 더 강력합니다.<br/>\n",
      "            그렇기 때문에, class에서 지정한 문자 컬러가 orange라도<br/>\n",
      "            여기서는 indigo 컬러의 문자를 출력하게 되죠.\n",
      "        </p>, <p align=\"center\">\n",
      "            이 영역은 클래스, id가 없는 평범한 영역입니다.\n",
      "            <a href=\"http://www.google.co.kr\">구글이다!!!</a>\n",
      "</p>]\n",
      "[ ]:             id는 class보다 더 강력합니다.\n",
      "            그렇기 때문에, class에서 지정한 문자 컬러가 orange라도\n",
      "            여기서는 indigo 컬러의 문자를 출력하게 되죠.\n",
      "        \n",
      "[ ]:             이 영역은 클래스, id가 없는 평범한 영역입니다.\n",
      "            구글이다!!!\n",
      "\n",
      "            id는 class보다 더 강력합니다.\n",
      "            그렇기 때문에, class에서 지정한 문자 컬러가 orange라도\n",
      "            여기서는 indigo 컬러의 문자를 출력하게 되죠.\n",
      "        \n"
     ]
    }
   ],
   "source": [
    "text = soup.find_all('p') \n",
    "\n",
    "print(text)\n",
    "# print(text.get_text) 태그 리스트들은 get_text할 수 없다.\n",
    "for txt in text:\n",
    "    print(\"[ ]: \"+txt.get_text().strip('\\n'))\n",
    "print(text[0].get_text())"
   ]
  },
  {
   "cell_type": "markdown",
   "metadata": {},
   "source": [
    "---"
   ]
  },
  {
   "cell_type": "markdown",
   "metadata": {},
   "source": [
    "# 멜론 차트 크롤링 실습"
   ]
  },
  {
   "cell_type": "markdown",
   "metadata": {},
   "source": [
    "![screenshot](./ex1.PNG)"
   ]
  },
  {
   "cell_type": "markdown",
   "metadata": {},
   "source": [
    "![screenshot](./ex2.PNG)"
   ]
  },
  {
   "cell_type": "markdown",
   "metadata": {},
   "source": [
    "![screenshot](./ex3.PNG)"
   ]
  },
  {
   "cell_type": "markdown",
   "metadata": {},
   "source": [
    "![screenshot](./ex4.PNG)"
   ]
  },
  {
   "cell_type": "markdown",
   "metadata": {},
   "source": [
    "- Soup = BeautifulSoup(html, ‘html.parser’)\n",
    "- What next?\n"
   ]
  },
  {
   "cell_type": "markdown",
   "metadata": {},
   "source": [
    "- 아까 봐둔 타이틀과 아티스트 텍스트를 담은 태그를 찾는다.\n",
    "- Div + class 조합이라면?\n",
    " - 태그 + 클래스 조합으로 찾는 게 적격!\n",
    " - 만능키인 태그 + 태그 속성으로 찾아도 좋다."
   ]
  },
  {
   "cell_type": "code",
   "execution_count": 11,
   "metadata": {},
   "outputs": [],
   "source": [
    "from bs4 import BeautifulSoup\n",
    "import requests\n",
    "\n",
    "header = {'User-Agent':'Mozilla/5.0 (Windows NT 6.3; Win64; x64) AppleWebKit/537.36 (like Gecko) Chrome/63.0.3239.132 Safari/537.36'} #headers= 부터 여기까지 한 줄임\n",
    "url = 'https://www.melon.com/chart/'\n",
    "html = requests.get(url, headers = header).text\n",
    "\n",
    "soup = BeautifulSoup(html, 'html.parser')"
   ]
  },
  {
   "cell_type": "markdown",
   "metadata": {},
   "source": [
    "### 타이틀 : <div class=“ellipsis rank01”>\n",
    "- Titles = soup.find_all(‘div’, {‘class’: ‘ellipsis rank01’})\n",
    " - (=titles = soup.find_all('div', 'ellipsis rank01’))\n"
   ]
  },
  {
   "cell_type": "markdown",
   "metadata": {},
   "source": [
    "### 아티스트 : <div class=“ellipsis rank02”>\n",
    "- Artists = soup.find_all(‘div’, ‘{‘class’: ‘ellipsis rank02’})\n",
    " - (=artists = soup.find_all(‘div’, ‘ellipsis rank02’))\n"
   ]
  },
  {
   "cell_type": "code",
   "execution_count": 27,
   "metadata": {},
   "outputs": [
    {
     "name": "stdout",
     "output_type": "stream",
     "text": [
      "100\n",
      "Seven (feat. Latto) - Clean Ver.\n",
      "NewJeans 2nd EP 'Get Up'\n",
      "NewJeans 2nd EP 'Get Up'\n",
      "1집 Alone\n",
      "I feel\n",
      "I've IVE\n",
      "GAME PLAN\n",
      "사막에서 꽃을 피우듯\n",
      "Steal The Show (From “엘리멘탈”)\n",
      "MY WORLD - The 3rd Mini Album\n",
      "UNFORGIVEN\n",
      "NewJeans 2nd EP 'Get Up'\n",
      "NewJeans 1st EP 'New Jeans'\n",
      "모래 알갱이\n",
      "I've IVE\n",
      "신사와 아가씨 OST Part.2\n",
      "NewJeans 'OMG'\n",
      "UNFORGIVEN\n",
      "Still With You\n",
      "Summer\n",
      "IM HERO\n",
      "Love Lee\n",
      "IM HERO\n",
      "NewJeans 1st EP 'New Jeans'\n",
      "NewJeans 2nd EP 'Get Up'\n",
      "NewJeans 'OMG'\n",
      "SEVENTEEN 10th Mini Album ‘FML'\n",
      "내일은 미스터트롯 우승자 특전곡\n",
      "IM HERO\n",
      "After LIKE\n",
      "TEENFRESH\n",
      "YOUNHA 6th Album Repackage 'END THEORY : Final Edition'\n",
      "KILL MY DOUBT\n",
      "Polaroid\n",
      "IM HERO\n",
      "Polaroid\n",
      "Dynamite (DayTime Version)\n",
      "LOVE DIVE\n",
      "CHARLIE\n",
      "ME\n",
      "IM HERO\n",
      "IM HERO\n",
      "Nine Track Mind (Deluxe Edition)\n",
      "Teddy Bear\n",
      "부석순 1st Single Album 'SECOND WIND'\n",
      "IM HERO\n",
      "심(心)\n",
      "IM HERO\n",
      "Take Two\n",
      "IM HERO\n",
      "나에게 그대만이\n",
      "사랑하지 않아서 그랬어\n",
      "Layover\n",
      "별에서 온 그대 OST Part.7\n",
      "Love Lee\n",
      "KIDDING\n",
      "YOU NEVER WALK ALONE\n",
      "사랑인가 봐 (사내맞선 OST 스페셜 트랙)\n",
      "IM HERO\n",
      "H1-KEY 1st Mini Album [Rose Blossom]\n",
      "Butter\n",
      "ANTIFRAGILE\n",
      "사실말야내가말야그게그러니까말이야\n",
      "ISTJ - The 3rd Album\n",
      "잠깐 시간 될까\n",
      "Candy - Winter Special Mini Album\n",
      "Golden Hourglass\n",
      "The Beginning: Cupid\n",
      "Dreamers [Music from the FIFA World Cup Qatar 2022 Official Soundtrack]\n",
      "FACE\n",
      "물론\n",
      "NewJeans 2nd EP 'Get Up'\n",
      "D-DAY\n",
      "ONGOING\n",
      "I feel\n",
      "Stay\n",
      "민들레\n",
      "사랑의 바보\n",
      "사랑..그게 뭔데\n",
      "Butter / Permission to Dance\n",
      "취중고백\n",
      "I WANT\n",
      "해요 (2022)\n",
      "잘 지내자, 우리 (여름날 우리 X 로이킴)\n",
      "다정히 내 이름을 부르면 (경서예지 x 전건호)\n",
      "CHARLIE\n",
      "I NEVER DIE\n",
      "미친 사랑의 노래\n",
      "YOUTH IN THE SHADE\n",
      "on the street (with J. Cole)\n",
      "Layover\n",
      "시작은 첫키스 OST Part.1\n",
      "That’s Not How This Works (feat. Dan + Shay)\n",
      "삼남매가 용감하게 OST Part.1\n",
      "빛이 나는 너에게\n",
      "ISTJ - The 3rd Album\n",
      "I love\n",
      "ISTJ - The 3rd Album\n",
      "Monologue\n",
      "LOCKDOWN\n"
     ]
    }
   ],
   "source": [
    "titles = soup.find_all('div', {'class':'ellipsis rank01'})\n",
    "artists = soup.find_all('span', 'checkEllipsis')\n",
    "albums = soup.find_all('div', {'class':'ellipsis rank03'})\n",
    "print(len(albums))\n",
    "for a in albums:\n",
    "    print(a.get_text().strip('\\n'))\n",
    "#print(len(artists))\n",
    "\n"
   ]
  },
  {
   "cell_type": "code",
   "execution_count": 15,
   "metadata": {},
   "outputs": [],
   "source": [
    "title = []\n",
    "for t in titles:\n",
    "    title.append(t)\n",
    "\n",
    "artist = []\n",
    "for a in artists:\n",
    "    artist.append(a)"
   ]
  },
  {
   "cell_type": "markdown",
   "metadata": {},
   "source": [
    "- Titles와 artists는 find_all로 찾았기 때문에, 이 변수의 타입은 bs4.element.ResultSet이다.\n",
    "- 이 ResultSet의 원소들은 까보면 알겠지만, div 태그들 모임이다.\n",
    "- As you know…\n",
    " - ResultSet은 바로 텍스트 출력이 불가능하다. (리스트이기 때문에)\n",
    " - 그럼 어떻게 할까? -> for문 사용\n",
    " - 일단, 빈 리스트 두 개를 만든다. (하나는 title, 하나는 artist)\n",
    " \n",
    " - For문을 작성하기 전, 코드를 다시 한 번 살펴보자. \n",
    " - div 안에는 span 태그가 있고, 이 안에 실질적인 a 태그의 text가 우리가 찾는 타이틀과 아티스트 이름이 있다.\n",
    " - For문 안에서 find를 또 해준 다음, get_text()를 해줘야 한다.\n"
   ]
  },
  {
   "cell_type": "code",
   "execution_count": 29,
   "metadata": {},
   "outputs": [],
   "source": [
    "title = []\n",
    "for t in titles:\n",
    "    title.append(t.find('a').get_text())\n",
    "artist = []\n",
    "for a in artists:\n",
    "    artist.append(a.find('a').get_text())\n",
    "album = []\n",
    "for v in albums:\n",
    "    album.append(v.find('a').get_text().strip('\\n'))"
   ]
  },
  {
   "cell_type": "markdown",
   "metadata": {},
   "source": [
    "# 멜론차트 크롤링 실습 결과"
   ]
  },
  {
   "cell_type": "code",
   "execution_count": 33,
   "metadata": {
    "scrolled": true
   },
   "outputs": [
    {
     "name": "stdout",
     "output_type": "stream",
     "text": [
      "1위: Seven (feat. Latto) - Clean Ver.- 정국'Seven (feat. Latto) - Clean Ver.'\n",
      "2위: Super Shy- NewJeans'NewJeans 2nd EP 'Get Up''\n",
      "3위: ETA- NewJeans'NewJeans 2nd EP 'Get Up''\n",
      "4위: 헤어지자 말해요- 박재정'1집 Alone'\n",
      "5위: 퀸카 (Queencard)- (여자)아이들'I feel'\n",
      "6위: I AM- IVE (아이브)'I've IVE'\n",
      "7위: Fast Forward- 전소미'GAME PLAN'\n",
      "8위: 사막에서 꽃을 피우듯- 우디 (Woody)'사막에서 꽃을 피우듯'\n",
      "9위: Steal The Show (From “엘리멘탈”)- Lauv'Steal The Show (From “엘리멘탈”)'\n",
      "10위: Spicy- aespa'MY WORLD - The 3rd Mini Album'\n",
      "11위: 이브, 프시케 그리고 푸른 수염의 아내- LE SSERAFIM (르세라핌)'UNFORGIVEN'\n",
      "12위: New Jeans- NewJeans'NewJeans 2nd EP 'Get Up''\n",
      "13위: Hype boy- NewJeans'NewJeans 1st EP 'New Jeans''\n",
      "14위: 모래 알갱이- 임영웅'모래 알갱이'\n",
      "15위: Kitsch- IVE (아이브)'I've IVE'\n",
      "16위: 사랑은 늘 도망가- 임영웅'신사와 아가씨 OST Part.2'\n",
      "17위: Ditto- NewJeans'NewJeans 'OMG''\n",
      "18위: UNFORGIVEN (feat. Nile Rodgers)- LE SSERAFIM (르세라핌)'UNFORGIVEN'\n",
      "19위: Still With You- 정국'Still With You'\n",
      "20위: Summer (Feat. BE’O (비오))- Paul Blanco'Summer'\n",
      "21위: 우리들의 블루스- 임영웅'IM HERO'\n",
      "22위: Love Lee- AKMU (악뮤)'Love Lee'\n",
      "23위: 다시 만날 수 있을까- 임영웅'IM HERO'\n",
      "24위: Attention- NewJeans'NewJeans 1st EP 'New Jeans''\n",
      "25위: Cool With You- NewJeans'NewJeans 2nd EP 'Get Up''\n",
      "26위: OMG- NewJeans'NewJeans 'OMG''\n",
      "27위: 손오공- 세븐틴 (SEVENTEEN)'SEVENTEEN 10th Mini Album ‘FML''\n",
      "28위: 이제 나만 믿어요- 임영웅'내일은 미스터트롯 우승자 특전곡'\n",
      "29위: 무지개- 임영웅'IM HERO'\n",
      "30위: After LIKE- IVE (아이브)'After LIKE'\n",
      "31위: Bubble- STAYC(스테이씨)'TEENFRESH'\n",
      "32위: 사건의 지평선- 윤하 (YOUNHA)'YOUNHA 6th Album Repackage 'END THEORY : Final Edition''\n",
      "33위: CAKE- ITZY (있지)'KILL MY DOUBT'\n",
      "34위: London Boy- 임영웅'Polaroid'\n",
      "35위: 아버지- 임영웅'IM HERO'\n",
      "36위: Polaroid- 임영웅'Polaroid'\n",
      "37위: Dynamite- 방탄소년단'Dynamite (DayTime Version)'\n",
      "38위: LOVE DIVE- IVE (아이브)'LOVE DIVE'\n",
      "39위: I Don't Think That I Like Her- Charlie Puth'CHARLIE'\n",
      "40위: 꽃- 지수 (JISOO)'ME'\n",
      "41위: 인생찬가- 임영웅'IM HERO'\n",
      "42위: A bientot- 임영웅'IM HERO'\n",
      "43위: Dangerously- Charlie Puth'Nine Track Mind (Deluxe Edition)'\n",
      "44위: Teddy Bear- STAYC(스테이씨)'Teddy Bear'\n",
      "45위: 파이팅 해야지 (Feat. 이영지)- 부석순 (SEVENTEEN)'부석순 1st Single Album 'SECOND WIND''\n",
      "46위: 손이 참 곱던 그대- 임영웅'IM HERO'\n",
      "47위: 심(心)- DK(디셈버)'심(心)'\n",
      "48위: 사랑해 진짜- 임영웅'IM HERO'\n",
      "49위: Take Two- 방탄소년단'Take Two'\n",
      "50위: 연애편지- 임영웅'IM HERO'\n",
      "51위: 나에게 그대만이- 탑현'나에게 그대만이'\n",
      "52위: 사랑하지 않아서 그랬어- 임한별'사랑하지 않아서 그랬어'\n",
      "53위: Love Me Again- V'Layover'\n",
      "54위: 너의 모든 순간- 성시경'별에서 온 그대 OST Part.7'\n",
      "55위: 후라이의 꿈- AKMU (악뮤)'Love Lee'\n",
      "56위: KIDDING- 이세계아이돌'KIDDING'\n",
      "57위: 봄날- 방탄소년단'YOU NEVER WALK ALONE'\n",
      "58위: 사랑인가 봐- 멜로망스'사랑인가 봐 (사내맞선 OST 스페셜 트랙)'\n",
      "59위: 보금자리- 임영웅'IM HERO'\n",
      "60위: 건물 사이에 피어난 장미 (Rose Blossom)- H1-KEY (하이키)'H1-KEY 1st Mini Album [Rose Blossom]'\n",
      "61위: Butter- 방탄소년단'Butter'\n",
      "62위: ANTIFRAGILE- LE SSERAFIM (르세라핌)'ANTIFRAGILE'\n",
      "63위: 사실말야내가말야그게그러니까말이야- 케이시 (Kassy)'사실말야내가말야그게그러니까말이야'\n",
      "64위: ISTJ- NCT DREAM'ISTJ - The 3rd Album'\n",
      "65위: 잠깐 시간 될까- 이무진'잠깐 시간 될까'\n",
      "66위: Candy- NCT DREAM'Candy - Winter Special Mini Album'\n",
      "67위: 여름이 들려 (Summer Comes)- 오마이걸 (OH MY GIRL)'Golden Hourglass'\n",
      "68위: Cupid- FIFTY FIFTY'The Beginning: Cupid'\n",
      "69위: Dreamers [Music from the FIFA World Cup Qatar 2022 Official Soundtrack] (Feat. FIFA Sound)- 정국'Dreamers [Music from the FIFA World Cup Qatar 2022 Official Soundtrack]'\n",
      "70위: Like Crazy- 지민'FACE'\n",
      "71위: 물론- 허각'물론'\n",
      "72위: ASAP- NewJeans'NewJeans 2nd EP 'Get Up''\n",
      "73위: 사람 Pt.2 (feat. 아이유)- Agust D'D-DAY'\n",
      "74위: 첫 키스에 내 심장은 120BPM- 경서'ONGOING'\n",
      "75위: Allergy- (여자)아이들'I feel'\n",
      "76위: STAY- The Kid LAROI'Stay'\n",
      "77위: 민들레 (single ver.)- 우효'민들레'\n",
      "78위: 사랑의 바보- 제이세라'사랑의 바보'\n",
      "79위: 사랑..그게 뭔데- 지아'사랑..그게 뭔데'\n",
      "80위: Permission to Dance- 방탄소년단'Butter / Permission to Dance'\n",
      "81위: 취중고백- 김민석 (멜로망스)'취중고백'\n",
      "82위: I WANT- IVE (아이브)'I WANT'\n",
      "83위: 해요 (2022)- #안녕'해요 (2022)'\n",
      "84위: 잘 지내자, 우리 (여름날 우리 X 로이킴)- 로이킴'잘 지내자, 우리 (여름날 우리 X 로이킴)'\n",
      "85위: 다정히 내 이름을 부르면- 경서예지'다정히 내 이름을 부르면 (경서예지 x 전건호)'\n",
      "86위: That's Hilarious- Charlie Puth'CHARLIE'\n",
      "87위: TOMBOY- (여자)아이들'I NEVER DIE'\n",
      "88위: 미친 사랑의 노래- 김연지'미친 사랑의 노래'\n",
      "89위: In Bloom- ZEROBASEONE (제로베이스원)'YOUTH IN THE SHADE'\n",
      "90위: on the street (with J. Cole)- j-hope'on the street (with J. Cole)'\n",
      "91위: Rainy Days- V'Layover'\n",
      "92위: Heaven(2023)- 임재현'시작은 첫키스 OST Part.1'\n",
      "93위: That’s Not How This Works (feat. Dan + Shay)- Charlie Puth'That’s Not How This Works (feat. Dan + Shay)'\n",
      "94위: 그중에 그대를 만나- 김호중'삼남매가 용감하게 OST Part.1'\n",
      "95위: 빛이 나는 너에게- 던 (DAWN)'빛이 나는 너에게'\n",
      "96위: Broken Melodies- NCT DREAM'ISTJ - The 3rd Album'\n",
      "97위: Nxde- (여자)아이들'I love'\n",
      "98위: Yogurt Shake- NCT DREAM'ISTJ - The 3rd Album'\n",
      "99위: Monologue- 테이'Monologue'\n",
      "100위: LOCKDOWN- 이세계아이돌'LOCKDOWN'\n"
     ]
    }
   ],
   "source": [
    "for t in titles:\n",
    "    title.append(t.find('a').get_text())\n",
    "artist = []\n",
    "for a in artists:\n",
    "    artist.append(a.find('a').get_text())\n",
    "\n",
    "\n",
    "for i in range(100):\n",
    "    print(str(i+1)+\"위: \"+title[i]+\"- \"+artist[i]+\"'\"+album[i]+\"'\")"
   ]
  },
  {
   "cell_type": "markdown",
   "metadata": {},
   "source": [
    "# 클라이언트가 멜론 차트 노래를 듣고 너무 좋아서 앨범 이름까지 다 긁어오라고 한다. 어떻게 해야 할까?\n",
    "#  각자 실습!\n"
   ]
  },
  {
   "cell_type": "markdown",
   "metadata": {},
   "source": [
    "---"
   ]
  }
 ],
 "metadata": {
  "kernelspec": {
   "display_name": "Python 3 (ipykernel)",
   "language": "python",
   "name": "python3"
  },
  "language_info": {
   "codemirror_mode": {
    "name": "ipython",
    "version": 3
   },
   "file_extension": ".py",
   "mimetype": "text/x-python",
   "name": "python",
   "nbconvert_exporter": "python",
   "pygments_lexer": "ipython3",
   "version": "3.11.0"
  }
 },
 "nbformat": 4,
 "nbformat_minor": 4
}
