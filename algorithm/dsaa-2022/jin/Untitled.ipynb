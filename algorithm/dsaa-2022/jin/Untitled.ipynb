{
 "cells": [
  {
   "cell_type": "code",
   "execution_count": 2,
   "id": "60868440",
   "metadata": {},
   "outputs": [],
   "source": [
    "from teamlab_note import Note\n",
    "from teamlab_note import NoteBook"
   ]
  },
  {
   "cell_type": "code",
   "execution_count": 3,
   "id": "03fb4120",
   "metadata": {},
   "outputs": [],
   "source": [
    "my_notebook = NoteBook(\"팀랩 강의노트\")"
   ]
  },
  {
   "cell_type": "code",
   "execution_count": 4,
   "id": "def76bea",
   "metadata": {},
   "outputs": [
    {
     "data": {
      "text/plain": [
       "'팀랩 강의노트'"
      ]
     },
     "execution_count": 4,
     "metadata": {},
     "output_type": "execute_result"
    }
   ],
   "source": [
    "my_notebook.title"
   ]
  },
  {
   "cell_type": "code",
   "execution_count": 5,
   "id": "5889e87b",
   "metadata": {},
   "outputs": [],
   "source": [
    "new_note = Note(\"아 수업하기 싫다\")"
   ]
  },
  {
   "cell_type": "code",
   "execution_count": 6,
   "id": "d30fc440",
   "metadata": {},
   "outputs": [],
   "source": [
    "new_note_2 = Note(\"파이썬 강의\")"
   ]
  },
  {
   "cell_type": "code",
   "execution_count": 7,
   "id": "12c0a7c0",
   "metadata": {},
   "outputs": [],
   "source": [
    "my_notebook.add_note(new_note)"
   ]
  },
  {
   "cell_type": "code",
   "execution_count": 8,
   "id": "7f215d24",
   "metadata": {},
   "outputs": [],
   "source": [
    "my_notebook.add_note(new_note_2, 100)"
   ]
  },
  {
   "cell_type": "code",
   "execution_count": 11,
   "id": "6a7827d9",
   "metadata": {},
   "outputs": [
    {
     "ename": "KeyError",
     "evalue": "1",
     "output_type": "error",
     "traceback": [
      "\u001b[0;31m---------------------------------------------------------------------------\u001b[0m",
      "\u001b[0;31mKeyError\u001b[0m                                  Traceback (most recent call last)",
      "Input \u001b[0;32mIn [11]\u001b[0m, in \u001b[0;36m<cell line: 1>\u001b[0;34m()\u001b[0m\n\u001b[0;32m----> 1\u001b[0m \u001b[43mmy_notebook\u001b[49m\u001b[38;5;241;43m.\u001b[39;49m\u001b[43mnotes\u001b[49m\u001b[43m[\u001b[49m\u001b[38;5;241;43m1\u001b[39;49m\u001b[43m]\u001b[49m\n",
      "\u001b[0;31mKeyError\u001b[0m: 1"
     ]
    }
   ],
   "source": [
    "my_notebook.notes[1]"
   ]
  },
  {
   "cell_type": "code",
   "execution_count": null,
   "id": "3deadc70",
   "metadata": {},
   "outputs": [],
   "source": []
  }
 ],
 "metadata": {
  "kernelspec": {
   "display_name": "Python 3 (ipykernel)",
   "language": "python",
   "name": "python3"
  },
  "language_info": {
   "codemirror_mode": {
    "name": "ipython",
    "version": 3
   },
   "file_extension": ".py",
   "mimetype": "text/x-python",
   "name": "python",
   "nbconvert_exporter": "python",
   "pygments_lexer": "ipython3",
   "version": "3.10.4"
  }
 },
 "nbformat": 4,
 "nbformat_minor": 5
}
