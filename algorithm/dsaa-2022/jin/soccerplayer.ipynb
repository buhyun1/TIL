{
 "cells": [
  {
   "cell_type": "code",
   "execution_count": 2,
   "id": "2d9e666a",
   "metadata": {},
   "outputs": [],
   "source": [
    "class SoccerPlayer(object):\n",
    "    def __init__(self, name : str, position : str, back_number : int):\n",
    "        self.name = name\n",
    "        self.position = position\n",
    "        self.back_number = back_number\n",
    "    \n",
    "    def __str__(self):\n",
    "        return \"Helllo, My name is %s. My back number is %d\" % \\\n",
    "                (self.name, self.back_number)\n",
    "    \n",
    "    def __add__(self, other):\n",
    "        return self.name + other.name\n",
    "    "
   ]
  },
  {
   "cell_type": "code",
   "execution_count": 3,
   "id": "01753ca1",
   "metadata": {},
   "outputs": [],
   "source": [
    "abc = SoccerPlayer(\"son\", \"FW\", 7)\n",
    "park = SoccerPlayer(\"park\", \"WF\", 13)"
   ]
  },
  {
   "cell_type": "code",
   "execution_count": 4,
   "id": "d7124f02",
   "metadata": {},
   "outputs": [
    {
     "data": {
      "text/plain": [
       "False"
      ]
     },
     "execution_count": 4,
     "metadata": {},
     "output_type": "execute_result"
    }
   ],
   "source": [
    "abc is park"
   ]
  },
  {
   "cell_type": "code",
   "execution_count": 5,
   "id": "65486305",
   "metadata": {},
   "outputs": [
    {
     "name": "stdout",
     "output_type": "stream",
     "text": [
      "Helllo, My name is park. My back number is 13\n"
     ]
    }
   ],
   "source": [
    "print(park)"
   ]
  },
  {
   "cell_type": "code",
   "execution_count": 6,
   "id": "090655c3",
   "metadata": {},
   "outputs": [
    {
     "data": {
      "text/plain": [
       "'sonpark'"
      ]
     },
     "execution_count": 6,
     "metadata": {},
     "output_type": "execute_result"
    }
   ],
   "source": [
    "abc + park"
   ]
  },
  {
   "cell_type": "code",
   "execution_count": 23,
   "id": "8d7deef9",
   "metadata": {},
   "outputs": [],
   "source": [
    "class SoccerPlay(object):\n",
    "    def __init__(self, name, position, back_number):\n",
    "        self.name = name\n",
    "        self.position = position\n",
    "        self.back_number = back_number\n",
    "        \n",
    "    def change_back_number(self, new_number):\n",
    "        print(\"선수의 등번호를 변경합니다 : From %d to %d\" % (self.back_number, new_number))\n",
    "        self.back_number = new_number\n",
    "    def __str__(self):\n",
    "        return \"Hello, My name is %s, My back number is %d\" % \\\n",
    "                (self.name, self.back_number)"
   ]
  },
  {
   "cell_type": "code",
   "execution_count": 24,
   "id": "3a2f313c",
   "metadata": {},
   "outputs": [],
   "source": [
    "jinhyun = SoccerPlay(\"Jinhyun\", \"MF\", 10)"
   ]
  },
  {
   "cell_type": "code",
   "execution_count": 25,
   "id": "6bbfd60a",
   "metadata": {},
   "outputs": [
    {
     "name": "stdout",
     "output_type": "stream",
     "text": [
      "현재 선수의 등번호는 : 10\n"
     ]
    }
   ],
   "source": [
    "print(\"현재 선수의 등번호는 :\", jinhyun.back_number)"
   ]
  },
  {
   "cell_type": "code",
   "execution_count": 26,
   "id": "62352619",
   "metadata": {},
   "outputs": [
    {
     "name": "stdout",
     "output_type": "stream",
     "text": [
      "선수의 등번호를 변경합니다 : From 10 to 5\n"
     ]
    }
   ],
   "source": [
    "jinhyun.change_back_number(5)"
   ]
  },
  {
   "cell_type": "code",
   "execution_count": 27,
   "id": "76b661ce",
   "metadata": {},
   "outputs": [
    {
     "name": "stdout",
     "output_type": "stream",
     "text": [
      "현재 선수의 등번호는 : 5\n"
     ]
    }
   ],
   "source": [
    "print(\"현재 선수의 등번호는 :\", jinhyun.back_number)"
   ]
  },
  {
   "cell_type": "code",
   "execution_count": 28,
   "id": "2a1f0a19",
   "metadata": {},
   "outputs": [
    {
     "name": "stdout",
     "output_type": "stream",
     "text": [
      "Hello, My name is Jinhyun, My back number is 5\n"
     ]
    }
   ],
   "source": [
    "print(jinhyun)"
   ]
  },
  {
   "cell_type": "code",
   "execution_count": null,
   "id": "9f300a06",
   "metadata": {},
   "outputs": [],
   "source": []
  }
 ],
 "metadata": {
  "kernelspec": {
   "display_name": "Python 3.10.6 64-bit",
   "language": "python",
   "name": "python3"
  },
  "language_info": {
   "codemirror_mode": {
    "name": "ipython",
    "version": 3
   },
   "file_extension": ".py",
   "mimetype": "text/x-python",
   "name": "python",
   "nbconvert_exporter": "python",
   "pygments_lexer": "ipython3",
   "version": "3.10.6"
  },
  "vscode": {
   "interpreter": {
    "hash": "aee8b7b246df8f9039afb4144a1f6fd8d2ca17a180786b69acc140d282b71a49"
   }
  }
 },
 "nbformat": 4,
 "nbformat_minor": 5
}
