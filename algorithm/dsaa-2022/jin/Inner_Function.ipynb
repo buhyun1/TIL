{
 "cells": [
  {
   "cell_type": "code",
   "execution_count": 1,
   "id": "02bb7f65",
   "metadata": {},
   "outputs": [],
   "source": [
    "# 함수 내에 또 다른 함수가 존재"
   ]
  },
  {
   "cell_type": "code",
   "execution_count": 3,
   "id": "d78e53d0",
   "metadata": {},
   "outputs": [
    {
     "name": "stdout",
     "output_type": "stream",
     "text": [
      "Hello, Python\n"
     ]
    }
   ],
   "source": [
    "def print_msg(msg):\n",
    "    def printer():\n",
    "        print(msg)\n",
    "    printer()\n",
    "    \n",
    "print_msg(\"Hello, Python\")"
   ]
  },
  {
   "cell_type": "code",
   "execution_count": 4,
   "id": "c548f424",
   "metadata": {},
   "outputs": [
    {
     "name": "stdout",
     "output_type": "stream",
     "text": [
      "Hello, Python\n"
     ]
    }
   ],
   "source": [
    "def print_msg(msg):\n",
    "    def printer():\n",
    "        print(msg)\n",
    "    return printer # closure\n",
    "\n",
    "another = print_msg(\"Hello, Python\")\n",
    "another()"
   ]
  },
  {
   "cell_type": "code",
   "execution_count": 7,
   "id": "7277b92d",
   "metadata": {},
   "outputs": [],
   "source": [
    "# closure example : inner function을 return 값으로\n",
    "def tag_func(tag, text):\n",
    "    text = text\n",
    "    tag = tag\n",
    "    \n",
    "    def inner_func():\n",
    "        return '<{0}>{1}<{0}>'.format(tag, text)\n",
    "    \n",
    "    return inner_func\n",
    "\n",
    "h1_func = tag_func('title', \"This is Python Class\")\n",
    "p_func = tag_func('p', \"Data Academy\")"
   ]
  },
  {
   "cell_type": "code",
   "execution_count": 11,
   "id": "c9800963",
   "metadata": {},
   "outputs": [
    {
     "name": "stdout",
     "output_type": "stream",
     "text": [
      "******************************\n",
      "Hello\n",
      "******************************\n"
     ]
    }
   ],
   "source": [
    "def star(func):\n",
    "    def inner(*args, **kwargs):\n",
    "        print(\"*\"*30)\n",
    "        func(*args, **kwargs)\n",
    "        print(\"*\" * 30)\n",
    "    return inner\n",
    "\n",
    "@star\n",
    "def printer(msg):\n",
    "    print(msg)\n",
    "printer(\"Hello\")"
   ]
  },
  {
   "cell_type": "code",
   "execution_count": 17,
   "id": "88762aa2",
   "metadata": {},
   "outputs": [
    {
     "name": "stdout",
     "output_type": "stream",
     "text": [
      "******************************\n",
      "Hello\n",
      "******************************\n"
     ]
    }
   ],
   "source": [
    "def star(func):\n",
    "    def inner(*args, **kwargs):\n",
    "        print(args[1] * 30)\n",
    "        func(*args, **kwargs)\n",
    "        print(args[1] * 30)\n",
    "    return inner\n",
    "\n",
    "@star\n",
    "def printer(msg, mark):\n",
    "    print(msg)\n",
    "printer(\"Hello\", \"*\")"
   ]
  },
  {
   "cell_type": "code",
   "execution_count": 20,
   "id": "f799e73e",
   "metadata": {},
   "outputs": [
    {
     "name": "stdout",
     "output_type": "stream",
     "text": [
      "******************************\n",
      "%%%%%%%%%%%%%%%%%%%%%%%%%%%%%%\n",
      "Hello\n",
      "%%%%%%%%%%%%%%%%%%%%%%%%%%%%%%\n",
      "******************************\n"
     ]
    }
   ],
   "source": [
    "def star(func):\n",
    "    def inner(*args, **kwargs):\n",
    "        print(\"*\" * 30)\n",
    "        func(*args, **kwargs)\n",
    "        print(\"*\" * 30)\n",
    "    return inner\n",
    "\n",
    "def percent(func):\n",
    "    def inner(*args, **kwargs):\n",
    "        print(\"%\" * 30)\n",
    "        func(*args, **kwargs)\n",
    "        print(\"%\" * 30)\n",
    "    return inner\n",
    "\n",
    "@star\n",
    "@percent\n",
    "def printer(msg):\n",
    "    print(msg)\n",
    "printer(\"Hello\")"
   ]
  },
  {
   "cell_type": "code",
   "execution_count": 21,
   "id": "24e25877",
   "metadata": {},
   "outputs": [],
   "source": [
    "def generate_power(exponent):\n",
    "    def wrapper(f):\n",
    "        def inner(*args):\n",
    "            result = f(*args)\n",
    "            return exponent**result\n",
    "        return inner\n",
    "    return wrapper\n",
    "\n",
    "@generate_power(2)\n",
    "def raise_two(n):\n",
    "    return n**2"
   ]
  },
  {
   "cell_type": "code",
   "execution_count": 22,
   "id": "300ee466",
   "metadata": {},
   "outputs": [
    {
     "name": "stdout",
     "output_type": "stream",
     "text": [
      "562949953421312\n"
     ]
    }
   ],
   "source": [
    "print(raise_two(7))"
   ]
  },
  {
   "cell_type": "code",
   "execution_count": null,
   "id": "51e68da1",
   "metadata": {},
   "outputs": [],
   "source": []
  }
 ],
 "metadata": {
  "kernelspec": {
   "display_name": "Python 3",
   "language": "python",
   "name": "python3"
  },
  "language_info": {
   "codemirror_mode": {
    "name": "ipython",
    "version": 3
   },
   "file_extension": ".py",
   "mimetype": "text/x-python",
   "name": "python",
   "nbconvert_exporter": "python",
   "pygments_lexer": "ipython3",
   "version": "3.8.8"
  }
 },
 "nbformat": 4,
 "nbformat_minor": 5
}
