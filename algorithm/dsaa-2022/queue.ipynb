{
 "cells": [
  {
   "cell_type": "code",
   "execution_count": 1,
   "id": "9054c6df",
   "metadata": {},
   "outputs": [],
   "source": [
    "class Node:\n",
    "    def __init__(self, data):\n",
    "        self.data =data\n",
    "        self.next = None\n",
    "        \n",
    "    def __repr__(self):\n",
    "        return str(self.data)"
   ]
  },
  {
   "cell_type": "code",
   "execution_count": 2,
   "id": "64b59c6d",
   "metadata": {},
   "outputs": [],
   "source": [
    "class Queue: #stack의 가장 큰 장접 -> 시험\n",
    "    #queue 새로운 공간 창출 , memory서칭비용 단점 있다.\n",
    "    def __init__(self, node = None):\n",
    "        self.size = 0\n",
    "        if node is not None:\n",
    "            self.head = node\n",
    "            self.tail = node\n",
    "            \n",
    "        else:\n",
    "            self.head = None\n",
    "            self.tail = None\n",
    "            \n",
    "    def enqueue(self, newnode):\n",
    "        if self.size == 0:\n",
    "            self.head = newnode\n",
    "            self.tail = newnode\n",
    "        else:\n",
    "            self.tail.next = newnode\n",
    "            self.tail = newnode\n",
    "        self.size += 1\n",
    "    \n",
    "    def dequeue(self):\n",
    "        if self.head is not None:\n",
    "            data = self.head\n",
    "            self.head = self.head.next\n",
    "        else:\n",
    "            raise Exception(\"Error\")\n",
    "        return data\n",
    "    \n",
    "    def __repr__(self):\n",
    "        curnode = self.head\n",
    "        out = \"\"\n",
    "        while curnode is not None:\n",
    "            out += str(curnode.data) + \"-->\"\n",
    "            curnode = curnode.next\n",
    "            \n",
    "        return out"
   ]
  },
  {
   "cell_type": "code",
   "execution_count": 3,
   "id": "16d274f1",
   "metadata": {},
   "outputs": [],
   "source": [
    "myqueue = Queue()\n",
    "myqueue.enqueue(Node(10))\n",
    "myqueue.enqueue(Node(50))\n",
    "myqueue.enqueue(Node(80))\n",
    "myqueue.enqueue(Node(10))"
   ]
  },
  {
   "cell_type": "code",
   "execution_count": 4,
   "id": "11a50639",
   "metadata": {},
   "outputs": [
    {
     "data": {
      "text/plain": [
       "10-->50-->80-->10-->"
      ]
     },
     "execution_count": 4,
     "metadata": {},
     "output_type": "execute_result"
    }
   ],
   "source": [
    "myqueue"
   ]
  },
  {
   "cell_type": "code",
   "execution_count": 5,
   "id": "6504a603",
   "metadata": {},
   "outputs": [
    {
     "data": {
      "text/plain": [
       "10"
      ]
     },
     "execution_count": 5,
     "metadata": {},
     "output_type": "execute_result"
    }
   ],
   "source": [
    "myqueue.dequeue()"
   ]
  },
  {
   "cell_type": "code",
   "execution_count": null,
   "id": "171f17f9",
   "metadata": {},
   "outputs": [],
   "source": []
  }
 ],
 "metadata": {
  "kernelspec": {
   "display_name": "Python 3.10.5 64-bit",
   "language": "python",
   "name": "python3"
  },
  "language_info": {
   "codemirror_mode": {
    "name": "ipython",
    "version": 3
   },
   "file_extension": ".py",
   "mimetype": "text/x-python",
   "name": "python",
   "nbconvert_exporter": "python",
   "pygments_lexer": "ipython3",
   "version": "3.10.5"
  },
  "vscode": {
   "interpreter": {
    "hash": "369f2c481f4da34e4445cda3fffd2e751bd1c4d706f27375911949ba6bb62e1c"
   }
  }
 },
 "nbformat": 4,
 "nbformat_minor": 5
}
