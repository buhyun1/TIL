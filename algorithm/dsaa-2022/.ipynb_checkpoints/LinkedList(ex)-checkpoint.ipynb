{
 "cells": [
  {
   "cell_type": "code",
   "execution_count": 106,
   "id": "df9f0618",
   "metadata": {},
   "outputs": [
    {
     "data": {
      "text/plain": [
       "<module 'teamlab_ds' from 'C:\\\\Users\\\\buhyun\\\\workspace\\\\dsaa-2022\\\\teamlab_ds.py'>"
      ]
     },
     "execution_count": 106,
     "metadata": {},
     "output_type": "execute_result"
    }
   ],
   "source": [
    "import teamlab_ds as ds\n",
    "import importlib\n",
    "importlib.reload(ds)"
   ]
  },
  {
   "cell_type": "code",
   "execution_count": 107,
   "id": "eeac09be",
   "metadata": {},
   "outputs": [],
   "source": [
    "my_node = ds.Node()"
   ]
  },
  {
   "cell_type": "code",
   "execution_count": 108,
   "id": "48f17eb1",
   "metadata": {},
   "outputs": [
    {
     "data": {
      "text/plain": [
       "3468"
      ]
     },
     "execution_count": 108,
     "metadata": {},
     "output_type": "execute_result"
    }
   ],
   "source": [
    "import random \n",
    "random.randint(1, 10000)"
   ]
  },
  {
   "cell_type": "code",
   "execution_count": 109,
   "id": "5f645cd3",
   "metadata": {},
   "outputs": [],
   "source": [
    "node_list = []\n",
    "for _ in range(5):\n",
    "    node_list.append(ds.Node(random.randint(1, 10000)))"
   ]
  },
  {
   "cell_type": "code",
   "execution_count": 110,
   "id": "f70b6ee8",
   "metadata": {},
   "outputs": [
    {
     "data": {
      "text/plain": [
       "[Node(1237), Node(851), Node(2078), Node(5174), Node(3645)]"
      ]
     },
     "execution_count": 110,
     "metadata": {},
     "output_type": "execute_result"
    }
   ],
   "source": [
    "node_list"
   ]
  },
  {
   "cell_type": "code",
   "execution_count": 111,
   "id": "88164a07",
   "metadata": {},
   "outputs": [],
   "source": [
    "for idx in range(1, len(node_list)):\n",
    "    node_list[idx-1] + node_list[idx] #노드연결"
   ]
  },
  {
   "cell_type": "code",
   "execution_count": 112,
   "id": "4a206a08",
   "metadata": {},
   "outputs": [
    {
     "data": {
      "text/plain": [
       "[Node(1237), Node(851), Node(2078), Node(5174), Node(3645)]"
      ]
     },
     "execution_count": 112,
     "metadata": {},
     "output_type": "execute_result"
    }
   ],
   "source": [
    "node_list"
   ]
  },
  {
   "cell_type": "code",
   "execution_count": 113,
   "id": "88284f4c",
   "metadata": {},
   "outputs": [
    {
     "data": {
      "text/plain": [
       "Node(851)"
      ]
     },
     "execution_count": 113,
     "metadata": {},
     "output_type": "execute_result"
    }
   ],
   "source": [
    "node_list[0].next"
   ]
  },
  {
   "cell_type": "code",
   "execution_count": 114,
   "id": "2cbf29c3",
   "metadata": {},
   "outputs": [],
   "source": [
    "a = ds.Node(random.randint(1, 10000)) #원래 방법"
   ]
  },
  {
   "cell_type": "code",
   "execution_count": 115,
   "id": "cd3f434a",
   "metadata": {},
   "outputs": [
    {
     "name": "stdout",
     "output_type": "stream",
     "text": [
      "1237\n",
      "851\n",
      "2078\n",
      "5174\n",
      "End\n"
     ]
    }
   ],
   "source": [
    "my_node = node_list[0]\n",
    "while my_node.next is not None: #travers개념\n",
    "    print(my_node.data)\n",
    "    my_node = my_node.next\n",
    "else:\n",
    "    print(\"End\")"
   ]
  },
  {
   "cell_type": "code",
   "execution_count": 116,
   "id": "03ad90cc",
   "metadata": {},
   "outputs": [],
   "source": [
    "my_node.next"
   ]
  },
  {
   "cell_type": "code",
   "execution_count": 117,
   "id": "66e59d73",
   "metadata": {},
   "outputs": [
    {
     "data": {
      "text/plain": [
       "<module 'teamlab_ds' from 'C:\\\\Users\\\\buhyun\\\\workspace\\\\dsaa-2022\\\\teamlab_ds.py'>"
      ]
     },
     "execution_count": 117,
     "metadata": {},
     "output_type": "execute_result"
    }
   ],
   "source": [
    "import teamlab_ds as ds\n",
    "from importlib import reload\n",
    "import random\n",
    "\n",
    "reload(ds)"
   ]
  },
  {
   "cell_type": "code",
   "execution_count": 118,
   "id": "292df416",
   "metadata": {},
   "outputs": [],
   "source": [
    "a = ds.Node(1101)"
   ]
  },
  {
   "cell_type": "code",
   "execution_count": 119,
   "id": "462efb9d",
   "metadata": {},
   "outputs": [
    {
     "data": {
      "text/plain": [
       "Node(1101)"
      ]
     },
     "execution_count": 119,
     "metadata": {},
     "output_type": "execute_result"
    }
   ],
   "source": [
    "a"
   ]
  },
  {
   "cell_type": "code",
   "execution_count": 120,
   "id": "3fd92f60",
   "metadata": {},
   "outputs": [
    {
     "name": "stdout",
     "output_type": "stream",
     "text": [
      "I have a data : 1101\n",
      "I have a next node : 140722481174656\n"
     ]
    }
   ],
   "source": [
    "print(a)"
   ]
  },
  {
   "cell_type": "code",
   "execution_count": 121,
   "id": "b7622e60",
   "metadata": {},
   "outputs": [],
   "source": [
    "b=ds.LinkedListBag(ds.Node(11))"
   ]
  },
  {
   "cell_type": "code",
   "execution_count": null,
   "id": "1834f136",
   "metadata": {},
   "outputs": [],
   "source": []
  },
  {
   "cell_type": "code",
   "execution_count": 122,
   "id": "84fa71d0",
   "metadata": {},
   "outputs": [],
   "source": [
    "my_bag = ds.LinkedListBag(a)"
   ]
  },
  {
   "cell_type": "code",
   "execution_count": 123,
   "id": "732ed8a2",
   "metadata": {},
   "outputs": [
    {
     "data": {
      "text/plain": [
       "1101 -> End of Linked List"
      ]
     },
     "execution_count": 123,
     "metadata": {},
     "output_type": "execute_result"
    }
   ],
   "source": [
    "my_bag"
   ]
  },
  {
   "cell_type": "code",
   "execution_count": 124,
   "id": "c3194b00",
   "metadata": {},
   "outputs": [
    {
     "data": {
      "text/plain": [
       "Node(1101)"
      ]
     },
     "execution_count": 124,
     "metadata": {},
     "output_type": "execute_result"
    }
   ],
   "source": [
    "my_bag.head"
   ]
  },
  {
   "cell_type": "code",
   "execution_count": 125,
   "id": "4fdc418d",
   "metadata": {},
   "outputs": [],
   "source": [
    "node_list = []\n",
    "for _ in range(5):\n",
    "    node_list.append(ds.Node(random.randint(1, 10000)))\n",
    "    \n",
    "for idx in range(1, len(node_list)):\n",
    "    node_list[idx-1] + node_list[idx] #노드연결"
   ]
  },
  {
   "cell_type": "code",
   "execution_count": 126,
   "id": "6a0d65ae",
   "metadata": {},
   "outputs": [],
   "source": [
    "my_bag = ds.LinkedListBag(node_list[0])"
   ]
  },
  {
   "cell_type": "code",
   "execution_count": 127,
   "id": "220c86d6",
   "metadata": {},
   "outputs": [
    {
     "data": {
      "text/plain": [
       "Node(2136)"
      ]
     },
     "execution_count": 127,
     "metadata": {},
     "output_type": "execute_result"
    }
   ],
   "source": [
    "my_bag.head"
   ]
  },
  {
   "cell_type": "code",
   "execution_count": 128,
   "id": "bf1d0d22",
   "metadata": {},
   "outputs": [
    {
     "data": {
      "text/plain": [
       "[Node(2136), Node(5948), Node(9141), Node(8194), Node(2237)]"
      ]
     },
     "execution_count": 128,
     "metadata": {},
     "output_type": "execute_result"
    }
   ],
   "source": [
    "node_list"
   ]
  },
  {
   "cell_type": "code",
   "execution_count": 130,
   "id": "a58d7a18",
   "metadata": {},
   "outputs": [
    {
     "ename": "NameError",
     "evalue": "name 'Node' is not defined",
     "output_type": "error",
     "traceback": [
      "\u001b[1;31m---------------------------------------------------------------------------\u001b[0m",
      "\u001b[1;31mNameError\u001b[0m                                 Traceback (most recent call last)",
      "\u001b[1;32m<ipython-input-130-a3338dd4463e>\u001b[0m in \u001b[0;36m<module>\u001b[1;34m\u001b[0m\n\u001b[0;32m      1\u001b[0m \u001b[0mcur_node\u001b[0m \u001b[1;33m=\u001b[0m \u001b[0mmy_bag\u001b[0m\u001b[1;33m.\u001b[0m\u001b[0mhead\u001b[0m\u001b[1;33m\u001b[0m\u001b[1;33m\u001b[0m\u001b[0m\n\u001b[1;32m----> 2\u001b[1;33m \u001b[1;32mwhile\u001b[0m \u001b[0mcur_node\u001b[0m \u001b[1;32mis\u001b[0m \u001b[1;32mnot\u001b[0m \u001b[0mNode\u001b[0m\u001b[1;33m:\u001b[0m\u001b[1;33m\u001b[0m\u001b[1;33m\u001b[0m\u001b[0m\n\u001b[0m\u001b[0;32m      3\u001b[0m     \u001b[0mprint\u001b[0m\u001b[1;33m(\u001b[0m\u001b[0mcur_node\u001b[0m\u001b[1;33m.\u001b[0m\u001b[0mdata\u001b[0m\u001b[1;33m)\u001b[0m\u001b[1;33m\u001b[0m\u001b[1;33m\u001b[0m\u001b[0m\n\u001b[0;32m      4\u001b[0m     \u001b[0mcur_node\u001b[0m \u001b[1;33m=\u001b[0m \u001b[0mcur_node\u001b[0m\u001b[1;33m.\u001b[0m\u001b[0mnext\u001b[0m\u001b[1;33m\u001b[0m\u001b[1;33m\u001b[0m\u001b[0m\n",
      "\u001b[1;31mNameError\u001b[0m: name 'Node' is not defined"
     ]
    }
   ],
   "source": [
    "cur_node = my_bag.head\n",
    "while cur_node is not None:\n",
    "    print(cur_node.data)\n",
    "    cur_node = cur_node.next"
   ]
  },
  {
   "cell_type": "code",
   "execution_count": 20,
   "id": "6fe47581",
   "metadata": {},
   "outputs": [
    {
     "data": {
      "text/plain": [
       "False"
      ]
     },
     "execution_count": 20,
     "metadata": {},
     "output_type": "execute_result"
    }
   ],
   "source": [
    "9816 in my_bag"
   ]
  },
  {
   "cell_type": "code",
   "execution_count": 21,
   "id": "e63cd45f",
   "metadata": {},
   "outputs": [
    {
     "data": {
      "text/plain": [
       "1"
      ]
     },
     "execution_count": 21,
     "metadata": {},
     "output_type": "execute_result"
    }
   ],
   "source": [
    "len(my_bag)"
   ]
  },
  {
   "cell_type": "code",
   "execution_count": 22,
   "id": "4e136469",
   "metadata": {},
   "outputs": [
    {
     "data": {
      "text/plain": [
       "1101 -> End of Linked List"
      ]
     },
     "execution_count": 22,
     "metadata": {},
     "output_type": "execute_result"
    }
   ],
   "source": [
    "my_bag"
   ]
  },
  {
   "cell_type": "code",
   "execution_count": 23,
   "id": "bd33806a",
   "metadata": {},
   "outputs": [],
   "source": [
    "my_bag = ds.LinkedListBag(ds.Node(random.randint(1, 10000)))"
   ]
  },
  {
   "cell_type": "code",
   "execution_count": 24,
   "id": "0b0b6462",
   "metadata": {},
   "outputs": [],
   "source": [
    "for _ in range(5):\n",
    "    my_bag.append(ds.Node(random.randint(1, 10000)))"
   ]
  },
  {
   "cell_type": "code",
   "execution_count": 25,
   "id": "9e4b5009",
   "metadata": {},
   "outputs": [
    {
     "data": {
      "text/plain": [
       "6"
      ]
     },
     "execution_count": 25,
     "metadata": {},
     "output_type": "execute_result"
    }
   ],
   "source": [
    "len(my_bag)"
   ]
  },
  {
   "cell_type": "code",
   "execution_count": 26,
   "id": "ccc1f3b1",
   "metadata": {},
   "outputs": [
    {
     "data": {
      "text/plain": [
       "5906 -> 8173 -> 1666 -> 4260 -> 8566 -> 7491 -> End of Linked List"
      ]
     },
     "execution_count": 26,
     "metadata": {},
     "output_type": "execute_result"
    }
   ],
   "source": [
    "my_bag"
   ]
  },
  {
   "cell_type": "code",
   "execution_count": 27,
   "id": "9be18f30",
   "metadata": {},
   "outputs": [
    {
     "data": {
      "text/plain": [
       "True"
      ]
     },
     "execution_count": 27,
     "metadata": {},
     "output_type": "execute_result"
    }
   ],
   "source": [
    "new_node = ds.Node(random.randint(1, 10000))\n",
    "my_bag.insert(new_node, 3)"
   ]
  },
  {
   "cell_type": "code",
   "execution_count": 28,
   "id": "10c755b1",
   "metadata": {},
   "outputs": [
    {
     "data": {
      "text/plain": [
       "5906 -> 8173 -> 1666 -> 3321 -> 4260 -> 8566 -> 7491 -> End of Linked List"
      ]
     },
     "execution_count": 28,
     "metadata": {},
     "output_type": "execute_result"
    }
   ],
   "source": [
    "my_bag"
   ]
  },
  {
   "cell_type": "code",
   "execution_count": 29,
   "id": "f8e0ebfd",
   "metadata": {},
   "outputs": [
    {
     "data": {
      "text/plain": [
       "True"
      ]
     },
     "execution_count": 29,
     "metadata": {},
     "output_type": "execute_result"
    }
   ],
   "source": [
    "new_node = ds.Node(random.randint(1, 10000))\n",
    "my_bag.insert(new_node, 0)"
   ]
  },
  {
   "cell_type": "code",
   "execution_count": 30,
   "id": "f85ca5c4",
   "metadata": {},
   "outputs": [
    {
     "data": {
      "text/plain": [
       "2293 -> 5906 -> 8173 -> 1666 -> 3321 -> 4260 -> 8566 -> 7491 -> End of Linked List"
      ]
     },
     "execution_count": 30,
     "metadata": {},
     "output_type": "execute_result"
    }
   ],
   "source": [
    "my_bag"
   ]
  },
  {
   "cell_type": "code",
   "execution_count": 31,
   "id": "09f6bd56",
   "metadata": {},
   "outputs": [
    {
     "data": {
      "text/plain": [
       "False"
      ]
     },
     "execution_count": 31,
     "metadata": {},
     "output_type": "execute_result"
    }
   ],
   "source": [
    "my_bag.remove(2504)"
   ]
  },
  {
   "cell_type": "code",
   "execution_count": 32,
   "id": "af516737",
   "metadata": {},
   "outputs": [
    {
     "name": "stdout",
     "output_type": "stream",
     "text": [
      "1\n",
      "2\n",
      "3\n",
      "45\n"
     ]
    }
   ],
   "source": [
    "lis = [1,2,3,45]\n",
    "for vlu in lis:\n",
    "    print(vlu) #iterator"
   ]
  },
  {
   "cell_type": "code",
   "execution_count": 33,
   "id": "114ea2d6",
   "metadata": {},
   "outputs": [],
   "source": [
    "my_bag = ds.LinkedListBag()\n",
    "for _ in range(5):\n",
    "    my_bag.append(ds.Node(random.randint(1, 10000)))"
   ]
  },
  {
   "cell_type": "code",
   "execution_count": 34,
   "id": "8b109ce0",
   "metadata": {},
   "outputs": [
    {
     "name": "stdout",
     "output_type": "stream",
     "text": [
      "I have a data : 6427\n",
      "I have a next node : 1525138807488\n",
      "I have a data : 2684\n",
      "I have a next node : 1525138807824\n",
      "I have a data : 2712\n",
      "I have a next node : 1525138807920\n",
      "I have a data : 7257\n",
      "I have a next node : 1525138808400\n",
      "I have a data : 7360\n",
      "I have a next node : 140722481174656\n"
     ]
    }
   ],
   "source": [
    "for my_node in my_bag:\n",
    "    print(my_node)"
   ]
  },
  {
   "cell_type": "code",
   "execution_count": null,
   "id": "d5289165",
   "metadata": {},
   "outputs": [],
   "source": []
  }
 ],
 "metadata": {
  "kernelspec": {
   "display_name": "Python 3",
   "language": "python",
   "name": "python3"
  },
  "language_info": {
   "codemirror_mode": {
    "name": "ipython",
    "version": 3
   },
   "file_extension": ".py",
   "mimetype": "text/x-python",
   "name": "python",
   "nbconvert_exporter": "python",
   "pygments_lexer": "ipython3",
   "version": "3.8.8"
  }
 },
 "nbformat": 4,
 "nbformat_minor": 5
}
