{
 "cells": [
  {
   "cell_type": "code",
   "execution_count": 41,
   "id": "1158625d",
   "metadata": {},
   "outputs": [
    {
     "data": {
      "text/plain": [
       "<module 'teamlab_ds' from 'C:\\\\Users\\\\buhyun\\\\workspace\\\\dsaa-2022\\\\teamlab_ds.py'>"
      ]
     },
     "execution_count": 41,
     "metadata": {},
     "output_type": "execute_result"
    }
   ],
   "source": [
    "import importlib\n",
    "import teamlab_ds as ds\n",
    "import doublyLinkedList as dl\n",
    "importlib.reload(ds)"
   ]
  },
  {
   "cell_type": "code",
   "execution_count": 42,
   "id": "0dee6a8f",
   "metadata": {},
   "outputs": [],
   "source": [
    "node1 = dl.Node()\n",
    "node2 = dl.Node()\n",
    "node3 = dl.Node()\n",
    "\n",
    "node1.data = 10\n",
    "node2.data = 20\n",
    "node3.data = 30"
   ]
  },
  {
   "cell_type": "code",
   "execution_count": 43,
   "id": "586a58e3",
   "metadata": {},
   "outputs": [],
   "source": [
    "node1.data = 10\n",
    "node2.data = 20\n",
    "node3.data = 30"
   ]
  },
  {
   "cell_type": "code",
   "execution_count": 44,
   "id": "cd4cbe23",
   "metadata": {},
   "outputs": [],
   "source": [
    "ex = [node1, node2, node3]"
   ]
  },
  {
   "cell_type": "code",
   "execution_count": 45,
   "id": "27e95cab",
   "metadata": {},
   "outputs": [],
   "source": [
    "node1.prev = None\n",
    "node1.next = node2\n",
    "\n",
    "node2.prev = node1\n",
    "node2.next = node3\n",
    "\n",
    "node3.prev = node2\n",
    "node3.next = None\n"
   ]
  },
  {
   "cell_type": "code",
   "execution_count": 46,
   "id": "6d095c5c",
   "metadata": {},
   "outputs": [
    {
     "name": "stdout",
     "output_type": "stream",
     "text": [
      "10\n",
      "20\n"
     ]
    }
   ],
   "source": [
    "headnode = node1\n",
    "tailnode = node3\n",
    "\n",
    "curnode = headnode\n",
    "while curnode.next is not None:\n",
    "    print(curnode)\n",
    "    curnode = curnode.next"
   ]
  },
  {
   "cell_type": "code",
   "execution_count": 47,
   "id": "d602735f",
   "metadata": {},
   "outputs": [
    {
     "name": "stdout",
     "output_type": "stream",
     "text": [
      "30\n",
      "20\n",
      "10\n"
     ]
    }
   ],
   "source": [
    "headnode = node1\n",
    "tailnode = node3\n",
    "\n",
    "curnode = tailnode\n",
    "while curnode.prev is not None:\n",
    "    print(curnode)\n",
    "    curnode = curnode.prev\n",
    "print(curnode)\n",
    "    "
   ]
  },
  {
   "cell_type": "code",
   "execution_count": 48,
   "id": "3dbfd419",
   "metadata": {},
   "outputs": [],
   "source": [
    "class DoublyLinkedListBag():\n",
    "    def __init__(self):\n",
    "        self.head = None\n",
    "        self.tail = None\n",
    "        self.size = 0\n",
    "        \n",
    "    def append(self, newnode:'Node'):\n",
    "            \n",
    "            if self.head is not None:\n",
    "               self.tail.next = newnode\n",
    "               newnode.prev = self.tail\n",
    "               self.tail = newnode\n",
    "               \n",
    "            else:\n",
    "               self.head = newnode\n",
    "               self.tail = newnode\n",
    "            \n",
    "            self.size +=1\n",
    "               \n",
    "    def insert(self):\n",
    "        pass\n",
    "    \n",
    "    def remove(self, targetdata): # remove는 리턴이 없는 함수\n",
    "        if self.size == 0:\n",
    "            raise ValueError(\"remove(x) x not in list\")\n",
    "        \n",
    "        curnode = self.head\n",
    "        if targetdata == self.head.data:\n",
    "            self.head = self.head.next\n",
    "            self.head.prev = None\n",
    "            return\n",
    "        \n",
    "        if targetdata == self.tail.data:\n",
    "            self.tail = self.tail.prev\n",
    "            self.tail.next = None\n",
    "            return\n",
    "        \n",
    "        while curnode is not None:\n",
    "            if targetdata == curnode.data:\n",
    "                curnode.prev.next = curnode.next\n",
    "                curnode.next.prev = curnode.prev\n",
    "                curnode = None\n",
    "                break\n",
    "            else:\n",
    "                curnode = curnode.next\n",
    "        else:\n",
    "            raise ValueError(\"remove(x) x not in list\")\n",
    "        \n",
    "    def peak(self):\n",
    "        return self.tail\n",
    "    \n",
    "    def __repr__(self):\n",
    "        output = \"\"\n",
    "        curnode = self.head\n",
    "        while curnode is not None:\n",
    "            output += f\"{curnode.data} -->\"\n",
    "            curnode = curnode.next\n",
    "        return output\n",
    "    \n",
    "    "
   ]
  },
  {
   "cell_type": "code",
   "execution_count": 30,
   "id": "6496dba8",
   "metadata": {},
   "outputs": [
    {
     "ename": "ValueError",
     "evalue": "remove(x) x not in list",
     "output_type": "error",
     "traceback": [
      "\u001b[1;31m---------------------------------------------------------------------------\u001b[0m",
      "\u001b[1;31mValueError\u001b[0m                                Traceback (most recent call last)",
      "\u001b[1;32m<ipython-input-30-9c8f39abb277>\u001b[0m in \u001b[0;36m<module>\u001b[1;34m\u001b[0m\n\u001b[1;32m----> 1\u001b[1;33m \u001b[0mmybag\u001b[0m\u001b[1;33m.\u001b[0m\u001b[0mremove\u001b[0m\u001b[1;33m(\u001b[0m\u001b[1;36m20\u001b[0m\u001b[1;33m)\u001b[0m\u001b[1;33m\u001b[0m\u001b[1;33m\u001b[0m\u001b[0m\n\u001b[0m",
      "\u001b[1;32m<ipython-input-8-2549b306e065>\u001b[0m in \u001b[0;36mremove\u001b[1;34m(self, targetdata)\u001b[0m\n\u001b[0;32m     23\u001b[0m     \u001b[1;32mdef\u001b[0m \u001b[0mremove\u001b[0m\u001b[1;33m(\u001b[0m\u001b[0mself\u001b[0m\u001b[1;33m,\u001b[0m \u001b[0mtargetdata\u001b[0m\u001b[1;33m)\u001b[0m\u001b[1;33m:\u001b[0m \u001b[1;31m# remove는 리턴이 없는 함수\u001b[0m\u001b[1;33m\u001b[0m\u001b[1;33m\u001b[0m\u001b[0m\n\u001b[0;32m     24\u001b[0m         \u001b[1;32mif\u001b[0m \u001b[0mself\u001b[0m\u001b[1;33m.\u001b[0m\u001b[0msize\u001b[0m \u001b[1;33m==\u001b[0m \u001b[1;36m0\u001b[0m\u001b[1;33m:\u001b[0m\u001b[1;33m\u001b[0m\u001b[1;33m\u001b[0m\u001b[0m\n\u001b[1;32m---> 25\u001b[1;33m             \u001b[1;32mraise\u001b[0m \u001b[0mValueError\u001b[0m\u001b[1;33m(\u001b[0m\u001b[1;34m\"remove(x) x not in list\"\u001b[0m\u001b[1;33m)\u001b[0m\u001b[1;33m\u001b[0m\u001b[1;33m\u001b[0m\u001b[0m\n\u001b[0m\u001b[0;32m     26\u001b[0m \u001b[1;33m\u001b[0m\u001b[0m\n\u001b[0;32m     27\u001b[0m         \u001b[0mcurnode\u001b[0m \u001b[1;33m=\u001b[0m \u001b[0mself\u001b[0m\u001b[1;33m.\u001b[0m\u001b[0mhead\u001b[0m\u001b[1;33m\u001b[0m\u001b[1;33m\u001b[0m\u001b[0m\n",
      "\u001b[1;31mValueError\u001b[0m: remove(x) x not in list"
     ]
    }
   ],
   "source": [
    "mybag.remove(20)"
   ]
  },
  {
   "cell_type": "code",
   "execution_count": 32,
   "id": "d11802bd",
   "metadata": {},
   "outputs": [
    {
     "name": "stdout",
     "output_type": "stream",
     "text": [
      "<__main__.DoublyLinkedListBag object at 0x000002C76D9ECC40>\n"
     ]
    }
   ],
   "source": [
    "print(mybag)"
   ]
  },
  {
   "cell_type": "code",
   "execution_count": 52,
   "id": "91a43a69",
   "metadata": {},
   "outputs": [],
   "source": [
    "node1 = dl.Node()\n",
    "node2 = dl.Node()\n",
    "node3 = dl.Node()\n",
    "\n",
    "node1.data = 10\n",
    "node2.data = 20\n",
    "node3.data = 30\n",
    "\n",
    "mybag = DoublyLinkedListBag()\n",
    "mybag.append(node1)\n",
    "mybag.append(node2)\n",
    "mybag.append(node3)"
   ]
  },
  {
   "cell_type": "code",
   "execution_count": 11,
   "id": "43e5983b",
   "metadata": {},
   "outputs": [
    {
     "ename": "ValueError",
     "evalue": "remove(x) x not in list",
     "output_type": "error",
     "traceback": [
      "\u001b[1;31m---------------------------------------------------------------------------\u001b[0m",
      "\u001b[1;31mValueError\u001b[0m                                Traceback (most recent call last)",
      "\u001b[1;32m<ipython-input-11-507b5e7bb65e>\u001b[0m in \u001b[0;36m<module>\u001b[1;34m\u001b[0m\n\u001b[1;32m----> 1\u001b[1;33m \u001b[0mmybag\u001b[0m\u001b[1;33m.\u001b[0m\u001b[0mremove\u001b[0m\u001b[1;33m(\u001b[0m\u001b[1;36m50\u001b[0m\u001b[1;33m)\u001b[0m\u001b[1;33m\u001b[0m\u001b[1;33m\u001b[0m\u001b[0m\n\u001b[0m",
      "\u001b[1;32m<ipython-input-8-2549b306e065>\u001b[0m in \u001b[0;36mremove\u001b[1;34m(self, targetdata)\u001b[0m\n\u001b[0;32m     35\u001b[0m                 \u001b[0mcurnode\u001b[0m \u001b[1;33m=\u001b[0m \u001b[0mcurnode\u001b[0m\u001b[1;33m.\u001b[0m\u001b[0mnext\u001b[0m\u001b[1;33m\u001b[0m\u001b[1;33m\u001b[0m\u001b[0m\n\u001b[0;32m     36\u001b[0m         \u001b[1;32melse\u001b[0m\u001b[1;33m:\u001b[0m\u001b[1;33m\u001b[0m\u001b[1;33m\u001b[0m\u001b[0m\n\u001b[1;32m---> 37\u001b[1;33m             \u001b[1;32mraise\u001b[0m \u001b[0mValueError\u001b[0m\u001b[1;33m(\u001b[0m\u001b[1;34m\"remove(x) x not in list\"\u001b[0m\u001b[1;33m)\u001b[0m\u001b[1;33m\u001b[0m\u001b[1;33m\u001b[0m\u001b[0m\n\u001b[0m\u001b[0;32m     38\u001b[0m \u001b[1;33m\u001b[0m\u001b[0m\n\u001b[0;32m     39\u001b[0m     \u001b[1;32mdef\u001b[0m \u001b[0mpeak\u001b[0m\u001b[1;33m(\u001b[0m\u001b[0mself\u001b[0m\u001b[1;33m)\u001b[0m\u001b[1;33m:\u001b[0m\u001b[1;33m\u001b[0m\u001b[1;33m\u001b[0m\u001b[0m\n",
      "\u001b[1;31mValueError\u001b[0m: remove(x) x not in list"
     ]
    }
   ],
   "source": [
    "mybag.remove(50)"
   ]
  },
  {
   "cell_type": "code",
   "execution_count": 12,
   "id": "997b5160",
   "metadata": {},
   "outputs": [
    {
     "ename": "ValueError",
     "evalue": "remove(x) x not in list",
     "output_type": "error",
     "traceback": [
      "\u001b[1;31m---------------------------------------------------------------------------\u001b[0m",
      "\u001b[1;31mValueError\u001b[0m                                Traceback (most recent call last)",
      "\u001b[1;32m<ipython-input-12-7c3b38f9bdb9>\u001b[0m in \u001b[0;36m<module>\u001b[1;34m\u001b[0m\n\u001b[0;32m      1\u001b[0m \u001b[0mmybag\u001b[0m \u001b[1;33m=\u001b[0m \u001b[0mDoublyLinkedListBag\u001b[0m\u001b[1;33m(\u001b[0m\u001b[1;33m)\u001b[0m\u001b[1;33m\u001b[0m\u001b[1;33m\u001b[0m\u001b[0m\n\u001b[1;32m----> 2\u001b[1;33m \u001b[0mmybag\u001b[0m\u001b[1;33m.\u001b[0m\u001b[0mremove\u001b[0m\u001b[1;33m(\u001b[0m\u001b[1;36m20\u001b[0m\u001b[1;33m)\u001b[0m\u001b[1;33m\u001b[0m\u001b[1;33m\u001b[0m\u001b[0m\n\u001b[0m",
      "\u001b[1;32m<ipython-input-8-2549b306e065>\u001b[0m in \u001b[0;36mremove\u001b[1;34m(self, targetdata)\u001b[0m\n\u001b[0;32m     23\u001b[0m     \u001b[1;32mdef\u001b[0m \u001b[0mremove\u001b[0m\u001b[1;33m(\u001b[0m\u001b[0mself\u001b[0m\u001b[1;33m,\u001b[0m \u001b[0mtargetdata\u001b[0m\u001b[1;33m)\u001b[0m\u001b[1;33m:\u001b[0m \u001b[1;31m# remove는 리턴이 없는 함수\u001b[0m\u001b[1;33m\u001b[0m\u001b[1;33m\u001b[0m\u001b[0m\n\u001b[0;32m     24\u001b[0m         \u001b[1;32mif\u001b[0m \u001b[0mself\u001b[0m\u001b[1;33m.\u001b[0m\u001b[0msize\u001b[0m \u001b[1;33m==\u001b[0m \u001b[1;36m0\u001b[0m\u001b[1;33m:\u001b[0m\u001b[1;33m\u001b[0m\u001b[1;33m\u001b[0m\u001b[0m\n\u001b[1;32m---> 25\u001b[1;33m             \u001b[1;32mraise\u001b[0m \u001b[0mValueError\u001b[0m\u001b[1;33m(\u001b[0m\u001b[1;34m\"remove(x) x not in list\"\u001b[0m\u001b[1;33m)\u001b[0m\u001b[1;33m\u001b[0m\u001b[1;33m\u001b[0m\u001b[0m\n\u001b[0m\u001b[0;32m     26\u001b[0m \u001b[1;33m\u001b[0m\u001b[0m\n\u001b[0;32m     27\u001b[0m         \u001b[0mcurnode\u001b[0m \u001b[1;33m=\u001b[0m \u001b[0mself\u001b[0m\u001b[1;33m.\u001b[0m\u001b[0mhead\u001b[0m\u001b[1;33m\u001b[0m\u001b[1;33m\u001b[0m\u001b[0m\n",
      "\u001b[1;31mValueError\u001b[0m: remove(x) x not in list"
     ]
    }
   ],
   "source": [
    "mybag = DoublyLinkedListBag()\n",
    "mybag.remove(20)"
   ]
  },
  {
   "cell_type": "code",
   "execution_count": 13,
   "id": "943bd725",
   "metadata": {},
   "outputs": [
    {
     "name": "stdout",
     "output_type": "stream",
     "text": [
      "10\n",
      "30\n"
     ]
    }
   ],
   "source": [
    "curnode = node1\n",
    "while curnode.next is not None:\n",
    "    print(curnode)\n",
    "    curnode = curnode.next\n",
    "print(curnode)"
   ]
  },
  {
   "cell_type": "code",
   "execution_count": 16,
   "id": "25095254",
   "metadata": {},
   "outputs": [
    {
     "name": "stdout",
     "output_type": "stream",
     "text": [
      "30\n",
      "10\n"
     ]
    }
   ],
   "source": [
    "curnode = node3\n",
    "while curnode.prev is not None:\n",
    "    print(curnode)\n",
    "    curnode = curnode.prev\n",
    "print(curnode)"
   ]
  },
  {
   "cell_type": "code",
   "execution_count": 34,
   "id": "b44d3154",
   "metadata": {},
   "outputs": [
    {
     "data": {
      "text/plain": [
       "30"
      ]
     },
     "execution_count": 34,
     "metadata": {},
     "output_type": "execute_result"
    }
   ],
   "source": [
    "mybag.peak()"
   ]
  },
  {
   "cell_type": "code",
   "execution_count": 53,
   "id": "58ec90a1",
   "metadata": {},
   "outputs": [
    {
     "data": {
      "text/plain": [
       "10 -->20 -->30 -->"
      ]
     },
     "execution_count": 53,
     "metadata": {},
     "output_type": "execute_result"
    }
   ],
   "source": [
    "mybag"
   ]
  },
  {
   "cell_type": "code",
   "execution_count": 54,
   "id": "dc66d909",
   "metadata": {},
   "outputs": [],
   "source": [
    "mybag.remove(10)"
   ]
  },
  {
   "cell_type": "code",
   "execution_count": 55,
   "id": "68556646",
   "metadata": {},
   "outputs": [
    {
     "data": {
      "text/plain": [
       "20 -->30 -->"
      ]
     },
     "execution_count": 55,
     "metadata": {},
     "output_type": "execute_result"
    }
   ],
   "source": [
    "mybag"
   ]
  },
  {
   "cell_type": "code",
   "execution_count": null,
   "id": "291f2529",
   "metadata": {},
   "outputs": [],
   "source": []
  }
 ],
 "metadata": {
  "kernelspec": {
   "display_name": "Python 3",
   "language": "python",
   "name": "python3"
  },
  "language_info": {
   "codemirror_mode": {
    "name": "ipython",
    "version": 3
   },
   "file_extension": ".py",
   "mimetype": "text/x-python",
   "name": "python",
   "nbconvert_exporter": "python",
   "pygments_lexer": "ipython3",
   "version": "3.8.8"
  }
 },
 "nbformat": 4,
 "nbformat_minor": 5
}
