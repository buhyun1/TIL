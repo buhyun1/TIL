{
 "cells": [
  {
   "cell_type": "code",
   "execution_count": 140,
   "id": "69a60593",
   "metadata": {
    "scrolled": true
   },
   "outputs": [
    {
     "data": {
      "text/plain": [
       "<module 'teamlab_ds' from 'C:\\\\Users\\\\buhyun\\\\workspace\\\\dsaa-2022\\\\teamlab_ds.py'>"
      ]
     },
     "execution_count": 140,
     "metadata": {},
     "output_type": "execute_result"
    }
   ],
   "source": [
    "import teamlab_ds as ds\n",
    "import importlib\n",
    "importlib.reload(ds)"
   ]
  },
  {
   "cell_type": "code",
   "execution_count": 141,
   "id": "0077298e",
   "metadata": {},
   "outputs": [
    {
     "data": {
      "text/plain": [
       "2160"
      ]
     },
     "execution_count": 141,
     "metadata": {},
     "output_type": "execute_result"
    }
   ],
   "source": [
    "import random \n",
    "random.randint(1, 10000)"
   ]
  },
  {
   "cell_type": "code",
   "execution_count": 142,
   "id": "f0f8190b",
   "metadata": {},
   "outputs": [],
   "source": [
    "a= ds.Node(2)\n",
    "b= ds.Node(21)\n",
    "c= ds.Node(222)"
   ]
  },
  {
   "cell_type": "code",
   "execution_count": 143,
   "id": "e5827bd6",
   "metadata": {},
   "outputs": [],
   "source": [
    "node_list = []\n",
    "for _ in range(1000):\n",
    "    node_list.append(ds.Node(random.randint(1, 10000)))"
   ]
  },
  {
   "cell_type": "code",
   "execution_count": 144,
   "id": "ed8035bf",
   "metadata": {},
   "outputs": [
    {
     "ename": "AttributeError",
     "evalue": "'int' object has no attribute 'next'",
     "output_type": "error",
     "traceback": [
      "\u001b[1;31m---------------------------------------------------------------------------\u001b[0m",
      "\u001b[1;31mAttributeError\u001b[0m                            Traceback (most recent call last)",
      "Cell \u001b[1;32mIn [144], line 1\u001b[0m\n\u001b[1;32m----> 1\u001b[0m node_list[\u001b[38;5;241m0\u001b[39m]\u001b[38;5;241m.\u001b[39mdata\u001b[38;5;241m.\u001b[39mnext\n",
      "\u001b[1;31mAttributeError\u001b[0m: 'int' object has no attribute 'next'"
     ]
    }
   ],
   "source": [
    "node_list[0].data.next"
   ]
  },
  {
   "cell_type": "code",
   "execution_count": null,
   "id": "a4948d76",
   "metadata": {},
   "outputs": [],
   "source": [
    "for idx in range(1, len(node_list)):\n",
    "    node_list[idx-1] + node_list[idx]"
   ]
  },
  {
   "cell_type": "code",
   "execution_count": 145,
   "id": "7d3a0247",
   "metadata": {},
   "outputs": [
    {
     "data": {
      "text/plain": [
       "[Node(367),\n",
       " Node(2512),\n",
       " Node(6087),\n",
       " Node(8062),\n",
       " Node(1603),\n",
       " Node(4350),\n",
       " Node(6213)]"
      ]
     },
     "execution_count": 145,
     "metadata": {},
     "output_type": "execute_result"
    }
   ],
   "source": [
    "node_list[:7]"
   ]
  },
  {
   "cell_type": "code",
   "execution_count": 136,
   "id": "24d41849",
   "metadata": {},
   "outputs": [],
   "source": [
    "a+b"
   ]
  },
  {
   "cell_type": "code",
   "execution_count": 137,
   "id": "d2f4d881",
   "metadata": {},
   "outputs": [
    {
     "data": {
      "text/plain": [
       "Node(21)"
      ]
     },
     "execution_count": 137,
     "metadata": {},
     "output_type": "execute_result"
    }
   ],
   "source": [
    "a.next"
   ]
  },
  {
   "cell_type": "code",
   "execution_count": 138,
   "id": "696df8c0",
   "metadata": {},
   "outputs": [],
   "source": [
    "b+c"
   ]
  },
  {
   "cell_type": "code",
   "execution_count": 139,
   "id": "3f08479d",
   "metadata": {},
   "outputs": [
    {
     "data": {
      "text/plain": [
       "Node(222)"
      ]
     },
     "execution_count": 139,
     "metadata": {},
     "output_type": "execute_result"
    }
   ],
   "source": [
    "b.next"
   ]
  },
  {
   "cell_type": "code",
   "execution_count": 118,
   "id": "fda4ed8d",
   "metadata": {},
   "outputs": [],
   "source": [
    "a.next = b\n",
    "b.next = c\n",
    "b =None\n",
    "c =None"
   ]
  },
  {
   "cell_type": "code",
   "execution_count": 119,
   "id": "c1bb937e",
   "metadata": {},
   "outputs": [
    {
     "data": {
      "text/plain": [
       "2"
      ]
     },
     "execution_count": 119,
     "metadata": {},
     "output_type": "execute_result"
    }
   ],
   "source": [
    "a.data"
   ]
  },
  {
   "cell_type": "code",
   "execution_count": 121,
   "id": "e487364b",
   "metadata": {},
   "outputs": [
    {
     "name": "stdout",
     "output_type": "stream",
     "text": [
      "\n",
      "    A class to represent a Node for an explanation of data structure.\n",
      "    ...\n",
      "\n",
      "    Attributes\n",
      "    ----------\n",
      "    data : Any\n",
      "        data that user store on Node instance\n",
      "    next : Node\n",
      "        object connected to the next node in a linked list.\n",
      "\n",
      "    \n"
     ]
    }
   ],
   "source": [
    "print(a.__doc__)"
   ]
  },
  {
   "cell_type": "code",
   "execution_count": 122,
   "id": "2dce771e",
   "metadata": {},
   "outputs": [
    {
     "name": "stdout",
     "output_type": "stream",
     "text": [
      "{'_data': 100, '_next': Node(21)}\n"
     ]
    }
   ],
   "source": [
    "print(a.__dict__)"
   ]
  },
  {
   "cell_type": "code",
   "execution_count": 123,
   "id": "99201909",
   "metadata": {},
   "outputs": [],
   "source": [
    "a.__dict__[\"data\"] =200"
   ]
  },
  {
   "cell_type": "code",
   "execution_count": 124,
   "id": "7c6b9560",
   "metadata": {},
   "outputs": [
    {
     "name": "stdout",
     "output_type": "stream",
     "text": [
      "{'_data': 100, '_next': Node(21), 'data': 200}\n"
     ]
    }
   ],
   "source": [
    "print(a.__dict__)"
   ]
  },
  {
   "cell_type": "code",
   "execution_count": 125,
   "id": "80e29548",
   "metadata": {},
   "outputs": [
    {
     "data": {
      "text/plain": [
       "100"
      ]
     },
     "execution_count": 125,
     "metadata": {},
     "output_type": "execute_result"
    }
   ],
   "source": [
    "a.data"
   ]
  },
  {
   "cell_type": "code",
   "execution_count": 126,
   "id": "d30acc9a",
   "metadata": {},
   "outputs": [
    {
     "name": "stdout",
     "output_type": "stream",
     "text": [
      "I have a data : 100\n",
      "I have a next node : 2677457994080\n"
     ]
    }
   ],
   "source": [
    "print(a)"
   ]
  },
  {
   "cell_type": "code",
   "execution_count": 127,
   "id": "0195e922",
   "metadata": {},
   "outputs": [
    {
     "data": {
      "text/plain": [
       "Node(100)"
      ]
     },
     "execution_count": 127,
     "metadata": {},
     "output_type": "execute_result"
    }
   ],
   "source": [
    "a"
   ]
  },
  {
   "cell_type": "code",
   "execution_count": 130,
   "id": "7afa631c",
   "metadata": {},
   "outputs": [],
   "source": [
    "a+b"
   ]
  },
  {
   "cell_type": "code",
   "execution_count": 131,
   "id": "e71c0fc5",
   "metadata": {},
   "outputs": [],
   "source": [
    "a.next"
   ]
  },
  {
   "cell_type": "code",
   "execution_count": null,
   "id": "e6e21a11",
   "metadata": {},
   "outputs": [],
   "source": []
  }
 ],
 "metadata": {
  "kernelspec": {
   "display_name": "Python 3 (ipykernel)",
   "language": "python",
   "name": "python3"
  },
  "language_info": {
   "codemirror_mode": {
    "name": "ipython",
    "version": 3
   },
   "file_extension": ".py",
   "mimetype": "text/x-python",
   "name": "python",
   "nbconvert_exporter": "python",
   "pygments_lexer": "ipython3",
   "version": "3.10.4"
  }
 },
 "nbformat": 4,
 "nbformat_minor": 5
}
