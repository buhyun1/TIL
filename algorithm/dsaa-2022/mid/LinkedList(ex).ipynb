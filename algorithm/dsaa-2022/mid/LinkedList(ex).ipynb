{
 "cells": [
  {
   "cell_type": "code",
   "execution_count": 3,
   "id": "df9f0618",
   "metadata": {},
   "outputs": [
    {
     "data": {
      "text/plain": [
       "<module 'teamlab_ds' from 'c:\\\\Users\\\\buhyun\\\\workspace\\\\dsaa-2022\\\\teamlab_ds.py'>"
      ]
     },
     "execution_count": 3,
     "metadata": {},
     "output_type": "execute_result"
    }
   ],
   "source": [
    "import teamlab_ds as ds\n",
    "import importlib\n",
    "importlib.reload(ds)"
   ]
  },
  {
   "cell_type": "code",
   "execution_count": 156,
   "id": "eeac09be",
   "metadata": {},
   "outputs": [],
   "source": [
    "my_node = ds.Node()"
   ]
  },
  {
   "cell_type": "code",
   "execution_count": 157,
   "id": "48f17eb1",
   "metadata": {},
   "outputs": [
    {
     "data": {
      "text/plain": [
       "610"
      ]
     },
     "execution_count": 157,
     "metadata": {},
     "output_type": "execute_result"
    }
   ],
   "source": [
    "import random \n",
    "random.randint(1, 10000)"
   ]
  },
  {
   "cell_type": "code",
   "execution_count": 158,
   "id": "5f645cd3",
   "metadata": {},
   "outputs": [],
   "source": [
    "node_list = []\n",
    "for _ in range(5):\n",
    "    node_list.append(ds.Node(random.randint(1, 10000)))"
   ]
  },
  {
   "cell_type": "code",
   "execution_count": 159,
   "id": "f70b6ee8",
   "metadata": {},
   "outputs": [
    {
     "data": {
      "text/plain": [
       "[Node(2391), Node(2105), Node(7030), Node(1998), Node(7599)]"
      ]
     },
     "execution_count": 159,
     "metadata": {},
     "output_type": "execute_result"
    }
   ],
   "source": [
    "node_list"
   ]
  },
  {
   "cell_type": "code",
   "execution_count": 160,
   "id": "88164a07",
   "metadata": {},
   "outputs": [],
   "source": [
    "for idx in range(1, len(node_list)):\n",
    "    node_list[idx-1] + node_list[idx] #노드연결"
   ]
  },
  {
   "cell_type": "code",
   "execution_count": 161,
   "id": "4a206a08",
   "metadata": {},
   "outputs": [
    {
     "data": {
      "text/plain": [
       "[Node(2391), Node(2105), Node(7030), Node(1998), Node(7599)]"
      ]
     },
     "execution_count": 161,
     "metadata": {},
     "output_type": "execute_result"
    }
   ],
   "source": [
    "node_list"
   ]
  },
  {
   "cell_type": "code",
   "execution_count": 162,
   "id": "88284f4c",
   "metadata": {},
   "outputs": [
    {
     "data": {
      "text/plain": [
       "Node(2105)"
      ]
     },
     "execution_count": 162,
     "metadata": {},
     "output_type": "execute_result"
    }
   ],
   "source": [
    "node_list[0].next"
   ]
  },
  {
   "cell_type": "code",
   "execution_count": 163,
   "id": "2cbf29c3",
   "metadata": {},
   "outputs": [],
   "source": [
    "a = ds.Node(random.randint(1, 10000)) #원래 방법"
   ]
  },
  {
   "cell_type": "code",
   "execution_count": 164,
   "id": "cd3f434a",
   "metadata": {},
   "outputs": [
    {
     "name": "stdout",
     "output_type": "stream",
     "text": [
      "2391\n",
      "2105\n",
      "7030\n",
      "1998\n",
      "End\n"
     ]
    }
   ],
   "source": [
    "my_node = node_list[0]\n",
    "while my_node.next is not None: #travers개념\n",
    "    print(my_node.data)\n",
    "    my_node = my_node.next\n",
    "else:\n",
    "    print(\"End\")"
   ]
  },
  {
   "cell_type": "code",
   "execution_count": 165,
   "id": "03ad90cc",
   "metadata": {},
   "outputs": [],
   "source": [
    "my_node.next"
   ]
  },
  {
   "cell_type": "code",
   "execution_count": 166,
   "id": "66e59d73",
   "metadata": {},
   "outputs": [
    {
     "data": {
      "text/plain": [
       "<module 'teamlab_ds' from 'C:\\\\Users\\\\buhyun\\\\workspace\\\\dsaa-2022\\\\teamlab_ds.py'>"
      ]
     },
     "execution_count": 166,
     "metadata": {},
     "output_type": "execute_result"
    }
   ],
   "source": [
    "import teamlab_ds as ds\n",
    "from importlib import reload\n",
    "import random\n",
    "\n",
    "reload(ds)"
   ]
  },
  {
   "cell_type": "code",
   "execution_count": 167,
   "id": "292df416",
   "metadata": {},
   "outputs": [],
   "source": [
    "a = ds.Node(1101)"
   ]
  },
  {
   "cell_type": "code",
   "execution_count": 168,
   "id": "462efb9d",
   "metadata": {},
   "outputs": [
    {
     "data": {
      "text/plain": [
       "Node(1101)"
      ]
     },
     "execution_count": 168,
     "metadata": {},
     "output_type": "execute_result"
    }
   ],
   "source": [
    "a"
   ]
  },
  {
   "cell_type": "code",
   "execution_count": 169,
   "id": "3fd92f60",
   "metadata": {},
   "outputs": [
    {
     "name": "stdout",
     "output_type": "stream",
     "text": [
      "I have a data : 1101\n",
      "I have a next node : 140722481174656\n"
     ]
    }
   ],
   "source": [
    "print(a)"
   ]
  },
  {
   "cell_type": "code",
   "execution_count": 170,
   "id": "1ab9a59e",
   "metadata": {},
   "outputs": [],
   "source": [
    "b=ds.LinkedListBag(ds.Node(11))"
   ]
  },
  {
   "cell_type": "code",
   "execution_count": null,
   "id": "5594475b",
   "metadata": {},
   "outputs": [],
   "source": []
  },
  {
   "cell_type": "code",
   "execution_count": 171,
   "id": "84fa71d0",
   "metadata": {},
   "outputs": [],
   "source": [
    "my_bag = ds.LinkedListBag(a)"
   ]
  },
  {
   "cell_type": "code",
   "execution_count": 172,
   "id": "732ed8a2",
   "metadata": {},
   "outputs": [
    {
     "data": {
      "text/plain": [
       "1101 -> End of Linked List"
      ]
     },
     "execution_count": 172,
     "metadata": {},
     "output_type": "execute_result"
    }
   ],
   "source": [
    "my_bag"
   ]
  },
  {
   "cell_type": "code",
   "execution_count": 173,
   "id": "c3194b00",
   "metadata": {},
   "outputs": [
    {
     "data": {
      "text/plain": [
       "Node(1101)"
      ]
     },
     "execution_count": 173,
     "metadata": {},
     "output_type": "execute_result"
    }
   ],
   "source": [
    "my_bag.head"
   ]
  },
  {
   "cell_type": "code",
   "execution_count": 174,
   "id": "4fdc418d",
   "metadata": {},
   "outputs": [],
   "source": [
    "node_list = []\n",
    "for _ in range(5):\n",
    "    node_list.append(ds.Node(random.randint(1, 10000)))\n",
    "    \n",
    "for idx in range(1, len(node_list)):\n",
    "    node_list[idx-1] + node_list[idx] #노드연결"
   ]
  },
  {
   "cell_type": "code",
   "execution_count": 175,
   "id": "6a0d65ae",
   "metadata": {},
   "outputs": [],
   "source": [
    "my_bag = ds.LinkedListBag(node_list[0])"
   ]
  },
  {
   "cell_type": "code",
   "execution_count": 176,
   "id": "220c86d6",
   "metadata": {},
   "outputs": [
    {
     "data": {
      "text/plain": [
       "Node(3959)"
      ]
     },
     "execution_count": 176,
     "metadata": {},
     "output_type": "execute_result"
    }
   ],
   "source": [
    "my_bag.head"
   ]
  },
  {
   "cell_type": "code",
   "execution_count": 177,
   "id": "bf1d0d22",
   "metadata": {},
   "outputs": [
    {
     "data": {
      "text/plain": [
       "[Node(3959), Node(3160), Node(6145), Node(2780), Node(8896)]"
      ]
     },
     "execution_count": 177,
     "metadata": {},
     "output_type": "execute_result"
    }
   ],
   "source": [
    "node_list"
   ]
  },
  {
   "cell_type": "code",
   "execution_count": 178,
   "id": "a58d7a18",
   "metadata": {},
   "outputs": [
    {
     "name": "stdout",
     "output_type": "stream",
     "text": [
      "3959\n",
      "3160\n",
      "6145\n",
      "2780\n",
      "8896\n"
     ]
    }
   ],
   "source": [
    "cur_node = my_bag.head\n",
    "while cur_node is not None:\n",
    "    print(cur_node.data)\n",
    "    cur_node = cur_node.next"
   ]
  },
  {
   "cell_type": "code",
   "execution_count": 179,
   "id": "6fe47581",
   "metadata": {},
   "outputs": [
    {
     "data": {
      "text/plain": [
       "False"
      ]
     },
     "execution_count": 179,
     "metadata": {},
     "output_type": "execute_result"
    }
   ],
   "source": [
    "9816 in my_bag"
   ]
  },
  {
   "cell_type": "code",
   "execution_count": 180,
   "id": "e63cd45f",
   "metadata": {},
   "outputs": [
    {
     "data": {
      "text/plain": [
       "5"
      ]
     },
     "execution_count": 180,
     "metadata": {},
     "output_type": "execute_result"
    }
   ],
   "source": [
    "len(my_bag)"
   ]
  },
  {
   "cell_type": "code",
   "execution_count": 181,
   "id": "4e136469",
   "metadata": {},
   "outputs": [
    {
     "data": {
      "text/plain": [
       "3959 -> 3160 -> 6145 -> 2780 -> 8896 -> End of Linked List"
      ]
     },
     "execution_count": 181,
     "metadata": {},
     "output_type": "execute_result"
    }
   ],
   "source": [
    "my_bag"
   ]
  },
  {
   "cell_type": "code",
   "execution_count": 182,
   "id": "bd33806a",
   "metadata": {},
   "outputs": [],
   "source": [
    "my_bag = ds.LinkedListBag(ds.Node(random.randint(1, 10000)))"
   ]
  },
  {
   "cell_type": "code",
   "execution_count": 183,
   "id": "0b0b6462",
   "metadata": {},
   "outputs": [],
   "source": [
    "for _ in range(5):\n",
    "    my_bag.append(ds.Node(random.randint(1, 10000)))"
   ]
  },
  {
   "cell_type": "code",
   "execution_count": 184,
   "id": "9e4b5009",
   "metadata": {},
   "outputs": [
    {
     "data": {
      "text/plain": [
       "6"
      ]
     },
     "execution_count": 184,
     "metadata": {},
     "output_type": "execute_result"
    }
   ],
   "source": [
    "len(my_bag)"
   ]
  },
  {
   "cell_type": "code",
   "execution_count": 185,
   "id": "ccc1f3b1",
   "metadata": {},
   "outputs": [
    {
     "data": {
      "text/plain": [
       "4841 -> 6212 -> 2255 -> 5106 -> 591 -> 5146 -> End of Linked List"
      ]
     },
     "execution_count": 185,
     "metadata": {},
     "output_type": "execute_result"
    }
   ],
   "source": [
    "my_bag"
   ]
  },
  {
   "cell_type": "code",
   "execution_count": 186,
   "id": "9be18f30",
   "metadata": {},
   "outputs": [
    {
     "data": {
      "text/plain": [
       "True"
      ]
     },
     "execution_count": 186,
     "metadata": {},
     "output_type": "execute_result"
    }
   ],
   "source": [
    "new_node = ds.Node(random.randint(1, 10000))\n",
    "my_bag.insert(new_node, 3)"
   ]
  },
  {
   "cell_type": "code",
   "execution_count": 187,
   "id": "10c755b1",
   "metadata": {},
   "outputs": [
    {
     "data": {
      "text/plain": [
       "4841 -> 6212 -> 2255 -> 4410 -> 5106 -> 591 -> 5146 -> End of Linked List"
      ]
     },
     "execution_count": 187,
     "metadata": {},
     "output_type": "execute_result"
    }
   ],
   "source": [
    "my_bag"
   ]
  },
  {
   "cell_type": "code",
   "execution_count": 188,
   "id": "f8e0ebfd",
   "metadata": {},
   "outputs": [
    {
     "data": {
      "text/plain": [
       "True"
      ]
     },
     "execution_count": 188,
     "metadata": {},
     "output_type": "execute_result"
    }
   ],
   "source": [
    "new_node = ds.Node(random.randint(1, 10000))\n",
    "my_bag.insert(new_node, 0)"
   ]
  },
  {
   "cell_type": "code",
   "execution_count": 189,
   "id": "f85ca5c4",
   "metadata": {},
   "outputs": [
    {
     "data": {
      "text/plain": [
       "9887 -> 4841 -> 6212 -> 2255 -> 4410 -> 5106 -> 591 -> 5146 -> End of Linked List"
      ]
     },
     "execution_count": 189,
     "metadata": {},
     "output_type": "execute_result"
    }
   ],
   "source": [
    "my_bag"
   ]
  },
  {
   "cell_type": "code",
   "execution_count": 190,
   "id": "09f6bd56",
   "metadata": {},
   "outputs": [
    {
     "data": {
      "text/plain": [
       "False"
      ]
     },
     "execution_count": 190,
     "metadata": {},
     "output_type": "execute_result"
    }
   ],
   "source": [
    "my_bag.remove(2504)"
   ]
  },
  {
   "cell_type": "code",
   "execution_count": 191,
   "id": "af516737",
   "metadata": {},
   "outputs": [
    {
     "name": "stdout",
     "output_type": "stream",
     "text": [
      "1\n",
      "2\n",
      "3\n",
      "45\n"
     ]
    }
   ],
   "source": [
    "lis = [1,2,3,45]\n",
    "for vlu in lis:\n",
    "    print(vlu) #iterator"
   ]
  },
  {
   "cell_type": "code",
   "execution_count": 192,
   "id": "114ea2d6",
   "metadata": {},
   "outputs": [],
   "source": [
    "my_bag = ds.LinkedListBag()\n",
    "for _ in range(5):\n",
    "    my_bag.append(ds.Node(random.randint(1, 10000)))"
   ]
  },
  {
   "cell_type": "code",
   "execution_count": 193,
   "id": "8b109ce0",
   "metadata": {},
   "outputs": [
    {
     "name": "stdout",
     "output_type": "stream",
     "text": [
      "I have a data : 4608\n",
      "I have a next node : 1525140081968\n",
      "I have a data : 2202\n",
      "I have a next node : 1525140080960\n",
      "I have a data : 393\n",
      "I have a next node : 1525140081824\n",
      "I have a data : 259\n",
      "I have a next node : 1525140080672\n",
      "I have a data : 7143\n",
      "I have a next node : 140722481174656\n"
     ]
    }
   ],
   "source": [
    "for my_node in my_bag:\n",
    "    print(my_node)"
   ]
  },
  {
   "cell_type": "code",
   "execution_count": 4,
   "id": "d5289165",
   "metadata": {},
   "outputs": [],
   "source": [
    "bb=ds.LinkedListBag(ds.Node(11))"
   ]
  },
  {
   "cell_type": "code",
   "execution_count": 196,
   "id": "faba1bb4",
   "metadata": {},
   "outputs": [
    {
     "ename": "AttributeError",
     "evalue": "'LinkedListBag' object has no attribute 'size'",
     "output_type": "error",
     "traceback": [
      "\u001b[1;31m---------------------------------------------------------------------------\u001b[0m",
      "\u001b[1;31mAttributeError\u001b[0m                            Traceback (most recent call last)",
      "\u001b[1;32m<ipython-input-196-b8f0b5812495>\u001b[0m in \u001b[0;36m<module>\u001b[1;34m\u001b[0m\n\u001b[1;32m----> 1\u001b[1;33m \u001b[0mbb\u001b[0m\u001b[1;33m.\u001b[0m\u001b[0msize\u001b[0m\u001b[1;33m\u001b[0m\u001b[1;33m\u001b[0m\u001b[0m\n\u001b[0m",
      "\u001b[1;31mAttributeError\u001b[0m: 'LinkedListBag' object has no attribute 'size'"
     ]
    }
   ],
   "source": [
    "bb.size"
   ]
  },
  {
   "cell_type": "code",
   "execution_count": 5,
   "id": "3eb3eb36",
   "metadata": {},
   "outputs": [
    {
     "name": "stdout",
     "output_type": "stream",
     "text": [
      "\n",
      "    ~~~~~~\n",
      "    \n"
     ]
    }
   ],
   "source": [
    "print(bb.__doc__)"
   ]
  },
  {
   "cell_type": "code",
   "execution_count": null,
   "id": "0636cb09",
   "metadata": {},
   "outputs": [],
   "source": []
  }
 ],
 "metadata": {
  "kernelspec": {
   "display_name": "Python 3.10.5 64-bit",
   "language": "python",
   "name": "python3"
  },
  "language_info": {
   "codemirror_mode": {
    "name": "ipython",
    "version": 3
   },
   "file_extension": ".py",
   "mimetype": "text/x-python",
   "name": "python",
   "nbconvert_exporter": "python",
   "pygments_lexer": "ipython3",
   "version": "3.10.5"
  },
  "vscode": {
   "interpreter": {
    "hash": "369f2c481f4da34e4445cda3fffd2e751bd1c4d706f27375911949ba6bb62e1c"
   }
  }
 },
 "nbformat": 4,
 "nbformat_minor": 5
}
