{
 "cells": [
  {
   "cell_type": "code",
   "execution_count": 12,
   "id": "aa3c3a65",
   "metadata": {},
   "outputs": [],
   "source": [
    "exp = \"5 * 3 + 12 / ( 4 + 3 * 7 )\"\n",
    "exp_list = exp.split()\n",
    "precedence = {'+':1, '-':1, '*':2, '/':2, '^':3}"
   ]
  },
  {
   "cell_type": "code",
   "execution_count": 2,
   "id": "73d9ccd1",
   "metadata": {},
   "outputs": [
    {
     "data": {
      "text/plain": [
       "['5', '*', '3', '+', '12', '/', '(', '4', '+', '3', '*', '7', ')']"
      ]
     },
     "execution_count": 2,
     "metadata": {},
     "output_type": "execute_result"
    }
   ],
   "source": [
    " exp_list"
   ]
  },
  {
   "cell_type": "code",
   "execution_count": 9,
   "id": "2b524dfe",
   "metadata": {},
   "outputs": [],
   "source": [
    "output_list = []\n",
    "pregress_stack = []\n",
    "\n",
    "def infix_to_postfix(expression): #input expression\n",
    "    \n",
    "    OPERATORS = set(['+', '-', '*', '/', '(', ')', '^'])  # set of operators\n",
    "    PRIORITY = {'+':1, '-':1, '*':2, '/':2, '^':3} # dictionary having priorities \n",
    "\n",
    "    stack = [] # initially stack empty\n",
    "    output = '' # initially output empty\n",
    "\n",
    "\n",
    "    for ch in expression:\n",
    "        print(ch)\n",
    "        if ch not in OPERATORS:  \n",
    "            output+= ch\n",
    "        elif ch=='(': \n",
    "            stack.append('(')\n",
    "        elif ch==')':\n",
    "            while stack and stack[-1]!= '(':\n",
    "                output += stack.pop()\n",
    "                # print(output)\n",
    "            stack.pop()\n",
    "        else:\n",
    "            while stack and stack[-1]!='(' and PRIORITY[ch]<=PRIORITY[stack[-1]]:\n",
    "                output+=stack.pop()\n",
    "            stack.append(ch)\n",
    "        print(stack)\n",
    "    while stack:\n",
    "        output+=stack.pop()\n",
    "\n",
    "    return output"
   ]
  },
  {
   "cell_type": "code",
   "execution_count": 10,
   "id": "32508cab",
   "metadata": {},
   "outputs": [
    {
     "name": "stdout",
     "output_type": "stream",
     "text": [
      "5\n",
      "[]\n",
      "*\n",
      "['*']\n",
      "3\n",
      "['*']\n",
      "+\n",
      "['+']\n",
      "12\n",
      "['+']\n",
      "/\n",
      "['+', '/']\n",
      "(\n",
      "['+', '/', '(']\n",
      "4\n",
      "['+', '/', '(']\n",
      "*\n",
      "['+', '/', '(', '*']\n",
      "3\n",
      "['+', '/', '(', '*']\n",
      "+\n",
      "['+', '/', '(', '+']\n",
      "7\n",
      "['+', '/', '(', '+']\n",
      ")\n",
      "['+', '/']\n"
     ]
    },
    {
     "data": {
      "text/plain": [
       "'53*1243*7+/+'"
      ]
     },
     "execution_count": 10,
     "metadata": {},
     "output_type": "execute_result"
    }
   ],
   "source": [
    "exp = \"5 * 3 + 12 / ( 4 * 3 + 7 )\"\n",
    "exp_list = exp.split()\n",
    "infix_to_postfix(exp_list)"
   ]
  },
  {
   "cell_type": "code",
   "execution_count": 5,
   "id": "200202c4",
   "metadata": {},
   "outputs": [
    {
     "name": "stdout",
     "output_type": "stream",
     "text": [
      "(\n",
      "['(']\n",
      "A\n",
      "['(']\n",
      "+\n",
      "['(', '+']\n",
      "B\n",
      "['(', '+']\n",
      ")\n",
      "[]\n",
      "*\n",
      "['*']\n",
      "(\n",
      "['*', '(']\n",
      "C\n",
      "['*', '(']\n",
      "+\n",
      "['*', '(', '+']\n",
      "D\n",
      "['*', '(', '+']\n",
      ")\n",
      "['*']\n"
     ]
    },
    {
     "data": {
      "text/plain": [
       "'AB+CD+*'"
      ]
     },
     "execution_count": 5,
     "metadata": {},
     "output_type": "execute_result"
    }
   ],
   "source": [
    "exp = \"( A + B ) * ( C + D )\"\n",
    "exp_list = exp.split()\n",
    "infix_to_postfix(exp_list)"
   ]
  },
  {
   "cell_type": "code",
   "execution_count": 11,
   "id": "70ead484",
   "metadata": {},
   "outputs": [
    {
     "name": "stdout",
     "output_type": "stream",
     "text": [
      "(17.5\n",
      "[]\n",
      "-\n",
      "['-']\n",
      "5.3*(-2.7\n",
      "['-']\n",
      "+\n",
      "['+']\n",
      "2.)/\n",
      "['+']\n",
      "-\n",
      "['-']\n",
      "3)\n",
      "['-']\n",
      "-\n",
      "['-']\n",
      "(2\n",
      "['-']\n",
      "+\n",
      "['+']\n",
      "3\n",
      "['+']\n",
      ")*2\n",
      "['+']\n",
      ")\n"
     ]
    },
    {
     "ename": "IndexError",
     "evalue": "pop from empty list",
     "output_type": "error",
     "traceback": [
      "\u001b[1;31m---------------------------------------------------------------------------\u001b[0m",
      "\u001b[1;31mIndexError\u001b[0m                                Traceback (most recent call last)",
      "Cell \u001b[1;32mIn [11], line 3\u001b[0m\n\u001b[0;32m      1\u001b[0m exp \u001b[39m=\u001b[39m \u001b[39m\"\u001b[39m\u001b[39m(17.5 - 5.3*(-2.7 + 2.)/ - 3) - (2 + 3 )*2 )\u001b[39m\u001b[39m\"\u001b[39m\n\u001b[0;32m      2\u001b[0m exp_list \u001b[39m=\u001b[39m exp\u001b[39m.\u001b[39msplit()\n\u001b[1;32m----> 3\u001b[0m infix_to_postfix(exp_list)\n",
      "Cell \u001b[1;32mIn [9], line 23\u001b[0m, in \u001b[0;36minfix_to_postfix\u001b[1;34m(expression)\u001b[0m\n\u001b[0;32m     21\u001b[0m         output \u001b[39m+\u001b[39m\u001b[39m=\u001b[39m stack\u001b[39m.\u001b[39mpop()\n\u001b[0;32m     22\u001b[0m         \u001b[39m# print(output)\u001b[39;00m\n\u001b[1;32m---> 23\u001b[0m     stack\u001b[39m.\u001b[39;49mpop()\n\u001b[0;32m     24\u001b[0m \u001b[39melse\u001b[39;00m:\n\u001b[0;32m     25\u001b[0m     \u001b[39mwhile\u001b[39;00m stack \u001b[39mand\u001b[39;00m stack[\u001b[39m-\u001b[39m\u001b[39m1\u001b[39m]\u001b[39m!=\u001b[39m\u001b[39m'\u001b[39m\u001b[39m(\u001b[39m\u001b[39m'\u001b[39m \u001b[39mand\u001b[39;00m PRIORITY[ch]\u001b[39m<\u001b[39m\u001b[39m=\u001b[39mPRIORITY[stack[\u001b[39m-\u001b[39m\u001b[39m1\u001b[39m]]:\n",
      "\u001b[1;31mIndexError\u001b[0m: pop from empty list"
     ]
    }
   ],
   "source": [
    "exp = \"(17.5 - 5.3*(-2.7 + 2.)/ - 3) - (2 + 3 )*2 )\"\n",
    "exp_list = exp.split()\n",
    "infix_to_postfix(exp_list)"
   ]
  },
  {
   "cell_type": "code",
   "execution_count": 7,
   "id": "0f39438f",
   "metadata": {},
   "outputs": [
    {
     "ename": "SyntaxError",
     "evalue": "'return' outside function (<ipython-input-7-1e5612a30b04>, line 21)",
     "output_type": "error",
     "traceback": [
      "\u001b[1;36m  File \u001b[1;32m\"<ipython-input-7-1e5612a30b04>\"\u001b[1;36m, line \u001b[1;32m21\u001b[0m\n\u001b[1;33m    return -1\u001b[0m\n\u001b[1;37m    ^\u001b[0m\n\u001b[1;31mSyntaxError\u001b[0m\u001b[1;31m:\u001b[0m 'return' outside function\n"
     ]
    }
   ],
   "source": [
    "    output = \"\"\n",
    "    \n",
    "    for i in exp:\n",
    "        \n",
    "        if self.isOperand(i) == True: # check if operand add to output\n",
    "            print(i,\"~ Operand push to stack\")\n",
    "            output = output + i\n",
    "\n",
    "        # If the character is an '(', push it to stack \n",
    "        elif i  == '(':\n",
    "            self.push(i)\n",
    "            print(i,\" ~ Found ( push into stack\")\n",
    "\n",
    "        elif i == ')':  # if ')' pop till '('\n",
    "            while( self.isempty() != True and self.peek() != '('):\n",
    "                n = self.pop() \n",
    "                output = output + n\n",
    "                print(n, \"~ Operator popped from stack\")\n",
    "            if (self.isempty() != True and self.peek() != '('):\n",
    "                print(\"_________\")\n",
    "                return -1\n",
    "            else:\n",
    "                x = self.pop()\n",
    "                print(x, \"Popping and deleting (\")\n",
    "        else: \n",
    "            while(self.isempty() != True and self.notGreater(i)):\n",
    "                c = self.pop()\n",
    "                output = output + c\n",
    "                print(c,\"Operator popped after checking precedence from stack\")\n",
    "            self.push(i)\n",
    "            print(i,\"Operator pushed to stack\")"
   ]
  },
  {
   "cell_type": "code",
   "execution_count": null,
   "id": "93c15e52",
   "metadata": {},
   "outputs": [],
   "source": []
  }
 ],
 "metadata": {
  "kernelspec": {
   "display_name": "Python 3.10.5 64-bit",
   "language": "python",
   "name": "python3"
  },
  "language_info": {
   "codemirror_mode": {
    "name": "ipython",
    "version": 3
   },
   "file_extension": ".py",
   "mimetype": "text/x-python",
   "name": "python",
   "nbconvert_exporter": "python",
   "pygments_lexer": "ipython3",
   "version": "3.10.5"
  },
  "vscode": {
   "interpreter": {
    "hash": "369f2c481f4da34e4445cda3fffd2e751bd1c4d706f27375911949ba6bb62e1c"
   }
  }
 },
 "nbformat": 4,
 "nbformat_minor": 5
}
