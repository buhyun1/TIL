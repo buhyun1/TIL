{
 "cells": [
  {
   "cell_type": "code",
   "execution_count": 62,
   "id": "9cec389c",
   "metadata": {},
   "outputs": [],
   "source": [
    "class Node(object):\n",
    "    def __init__(self,data):\n",
    "        self.data = data\n",
    "        self.next = None\n",
    "        \n",
    "    def __repr__(self):\n",
    "        return str(self.data)\n",
    "\n",
    "class Stack():\n",
    "    def __init__(self, firstnode : Node = None):\n",
    "        self.size = 0\n",
    "        self.top = None\n",
    "        \n",
    "        if firstnode is not None:\n",
    "            self.top = firstnode\n",
    "            self.size += 1\n",
    "        else:\n",
    "            self.top = None\n",
    "            self.size = 0\n",
    "        \n",
    "    def push(self, newnode : Node):\n",
    "        newnode.next = self.top\n",
    "        self.top = newnode\n",
    "        self.size += 1\n",
    "        \n",
    "#         if self.size == 0:\n",
    "#             pass   신경안써도 됨\n",
    "#         else:\n",
    "#             pass\n",
    "        \n",
    "        \n",
    "        \n",
    "    def peek(self):\n",
    "        return self.top\n",
    "        \n",
    "    def pop(self):\n",
    "        if self.empty():\n",
    "            raise Exception(\"Popping from an empty stack\")\n",
    "            \n",
    "        returnvalue = self.top\n",
    "        self.top = self.top.next\n",
    "        self.size -= 1\n",
    "\n",
    "    \n",
    "    def empty(self) -> bool: \n",
    "        return True if self.size == 0 else False\n",
    "    \n",
    "    def getsize(self) -> int: \n",
    "        return self.size\n",
    "    \n",
    "    def __repr__(self):\n",
    "        curnode = self.top\n",
    "        outlist = []\n",
    "        while curnode is not None: # 빅오  n\n",
    "            outlist.append(str(curnode.data))\n",
    "            curnode = curnode.next\n",
    "        outlist = reversed(outlist) # 빅오 n 거꾸로 오는것 일 뿐 traverse\n",
    "        return \"-->\".join(outlist) # 빅오 n 한번 씩 가면서 값주고 붙이고 traverse\n",
    "    "
   ]
  },
  {
   "cell_type": "code",
   "execution_count": 33,
   "id": "25f0bdfe",
   "metadata": {},
   "outputs": [
    {
     "data": {
      "text/plain": [
       "[5, 4, 3, 2, 1]"
      ]
     },
     "execution_count": 33,
     "metadata": {},
     "output_type": "execute_result"
    }
   ],
   "source": [
    "s = [1,2,3,4,5]\n",
    "list(reversed(s))"
   ]
  },
  {
   "cell_type": "code",
   "execution_count": 9,
   "id": "97458c06",
   "metadata": {},
   "outputs": [],
   "source": [
    "mystack = Stack()\n",
    "\n",
    "mynode = Node(10)\n",
    "mystack.push(mynode)\n",
    "mynode = Node(20)\n",
    "mystack.push(mynode)\n",
    "mynode = Node(30)\n",
    "mystack.push(mynode)"
   ]
  },
  {
   "cell_type": "code",
   "execution_count": 37,
   "id": "164c522c",
   "metadata": {},
   "outputs": [],
   "source": [
    "from random import randint"
   ]
  },
  {
   "cell_type": "code",
   "execution_count": 56,
   "id": "e088af44",
   "metadata": {},
   "outputs": [],
   "source": [
    "mystack = Stack()\n",
    "for i in range(5):\n",
    "    mystack.push(Node((randint(1,1000))))\n"
   ]
  },
  {
   "cell_type": "code",
   "execution_count": 39,
   "id": "8287d889",
   "metadata": {},
   "outputs": [
    {
     "data": {
      "text/plain": [
       "273-->643-->817-->732-->86"
      ]
     },
     "execution_count": 39,
     "metadata": {},
     "output_type": "execute_result"
    }
   ],
   "source": [
    "mystack"
   ]
  },
  {
   "cell_type": "code",
   "execution_count": 54,
   "id": "cc358b1e",
   "metadata": {},
   "outputs": [
    {
     "ename": "AttributeError",
     "evalue": "'NoneType' object has no attribute 'next'",
     "output_type": "error",
     "traceback": [
      "\u001b[1;31m---------------------------------------------------------------------------\u001b[0m",
      "\u001b[1;31mAttributeError\u001b[0m                            Traceback (most recent call last)",
      "\u001b[1;32m<ipython-input-54-d8bc2f593773>\u001b[0m in \u001b[0;36m<module>\u001b[1;34m\u001b[0m\n\u001b[1;32m----> 1\u001b[1;33m \u001b[0mmystack\u001b[0m\u001b[1;33m.\u001b[0m\u001b[0mpop\u001b[0m\u001b[1;33m(\u001b[0m\u001b[1;33m)\u001b[0m\u001b[1;33m\u001b[0m\u001b[1;33m\u001b[0m\u001b[0m\n\u001b[0m",
      "\u001b[1;32m<ipython-input-32-b7926bd086c7>\u001b[0m in \u001b[0;36mpop\u001b[1;34m(self)\u001b[0m\n\u001b[0;32m     38\u001b[0m             \u001b[1;32mraise\u001b[0m \u001b[0mException\u001b[0m\u001b[1;33m(\u001b[0m\u001b[1;34m\"Popping from an empty stack\"\u001b[0m\u001b[1;33m)\u001b[0m\u001b[1;33m\u001b[0m\u001b[1;33m\u001b[0m\u001b[0m\n\u001b[0;32m     39\u001b[0m         \u001b[0mreturnvalue\u001b[0m \u001b[1;33m=\u001b[0m \u001b[0mself\u001b[0m\u001b[1;33m.\u001b[0m\u001b[0mtop\u001b[0m\u001b[1;33m\u001b[0m\u001b[1;33m\u001b[0m\u001b[0m\n\u001b[1;32m---> 40\u001b[1;33m         \u001b[0mself\u001b[0m\u001b[1;33m.\u001b[0m\u001b[0mtop\u001b[0m \u001b[1;33m=\u001b[0m \u001b[0mself\u001b[0m\u001b[1;33m.\u001b[0m\u001b[0mtop\u001b[0m\u001b[1;33m.\u001b[0m\u001b[0mnext\u001b[0m\u001b[1;33m\u001b[0m\u001b[1;33m\u001b[0m\u001b[0m\n\u001b[0m\u001b[0;32m     41\u001b[0m         \u001b[0mself\u001b[0m\u001b[1;33m.\u001b[0m\u001b[0msize\u001b[0m \u001b[1;33m+=\u001b[0m \u001b[1;36m1\u001b[0m\u001b[1;33m\u001b[0m\u001b[1;33m\u001b[0m\u001b[0m\n\u001b[0;32m     42\u001b[0m \u001b[1;33m\u001b[0m\u001b[0m\n",
      "\u001b[1;31mAttributeError\u001b[0m: 'NoneType' object has no attribute 'next'"
     ]
    }
   ],
   "source": [
    "mystack.pop()"
   ]
  },
  {
   "cell_type": "code",
   "execution_count": 58,
   "id": "1ea72af7",
   "metadata": {},
   "outputs": [
    {
     "data": {
      "text/plain": [
       "96-->161-->533-->183-->374"
      ]
     },
     "execution_count": 58,
     "metadata": {},
     "output_type": "execute_result"
    }
   ],
   "source": [
    "mystack"
   ]
  },
  {
   "cell_type": "code",
   "execution_count": 57,
   "id": "a3d4eca0",
   "metadata": {},
   "outputs": [
    {
     "data": {
      "text/plain": [
       "374"
      ]
     },
     "execution_count": 57,
     "metadata": {},
     "output_type": "execute_result"
    }
   ],
   "source": [
    "mystack.peek()"
   ]
  },
  {
   "cell_type": "code",
   "execution_count": 61,
   "id": "b84ec356",
   "metadata": {},
   "outputs": [
    {
     "data": {
      "text/plain": [
       "__main__.Node"
      ]
     },
     "execution_count": 61,
     "metadata": {},
     "output_type": "execute_result"
    }
   ],
   "source": [
    "type(mystack.peek()) # 시험나옴"
   ]
  },
  {
   "cell_type": "code",
   "execution_count": null,
   "id": "a3f51692",
   "metadata": {},
   "outputs": [],
   "source": [
    "mystack = Stack()\n",
    "mystack.push(mynode)\n",
    "mystack.push(mynode)\n",
    "mystack.push(mynode)"
   ]
  },
  {
   "cell_type": "code",
   "execution_count": null,
   "id": "d1229743",
   "metadata": {},
   "outputs": [],
   "source": [
    "mystack"
   ]
  },
  {
   "cell_type": "code",
   "execution_count": null,
   "id": "bdabd41f",
   "metadata": {},
   "outputs": [],
   "source": []
  }
 ],
 "metadata": {
  "kernelspec": {
   "display_name": "Python 3.10.5 64-bit",
   "language": "python",
   "name": "python3"
  },
  "language_info": {
   "codemirror_mode": {
    "name": "ipython",
    "version": 3
   },
   "file_extension": ".py",
   "mimetype": "text/x-python",
   "name": "python",
   "nbconvert_exporter": "python",
   "pygments_lexer": "ipython3",
   "version": "3.10.5"
  },
  "vscode": {
   "interpreter": {
    "hash": "369f2c481f4da34e4445cda3fffd2e751bd1c4d706f27375911949ba6bb62e1c"
   }
  }
 },
 "nbformat": 4,
 "nbformat_minor": 5
}
