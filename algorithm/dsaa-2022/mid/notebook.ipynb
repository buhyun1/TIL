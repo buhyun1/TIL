{
 "cells": [
  {
   "cell_type": "code",
   "execution_count": 47,
   "id": "70c82545",
   "metadata": {},
   "outputs": [],
   "source": [
    "class Note(object):\n",
    "  def __init__(self, content = None):\n",
    "    self.content = content\n",
    "  \n",
    "  def write_content(self, content):\n",
    "    self.content = content\n",
    "\n",
    "  def remove_all(self):\n",
    "    self.content = \"\"\n",
    "\n",
    "  def __add__(self, other):\n",
    "    return self.content + other.content\n",
    "\n",
    "  def __str__(self):\n",
    "    return \"뭐라적었지 :\"+ self.content"
   ]
  },
  {
   "cell_type": "code",
   "execution_count": 48,
   "id": "88ae12c3",
   "metadata": {},
   "outputs": [],
   "source": [
    "class NoteBook(object):\n",
    "  def __init__(self, title):\n",
    "    self.title = title\n",
    "    self.page_number = 1\n",
    "    self.notes = {}\n",
    "\n",
    "  def add_note(self, note, page = 0):\n",
    "    if self.page_number < 300:\n",
    "      if page == 0:\n",
    "        self.notes[self.page_number] = note\n",
    "        self.page_number += 1\n",
    "      else:\n",
    "        self.notes = {page : note}\n",
    "        self.page_number += 1\n",
    "    else:\n",
    "      print(\"페이지가 모두 채워짐\")\n",
    "\n",
    "  def remove_note(self, page_number):\n",
    "    if page_number in self.notes.keys():\n",
    "      return self.notes.pop(page_number)\n",
    "\n",
    "    else:\n",
    "      print(\"페이지x\")\n",
    "\n",
    "    def get_number_of_pages(self):\n",
    "      return len(self.notes.keys())"
   ]
  },
  {
   "cell_type": "code",
   "execution_count": 49,
   "id": "f4e5c027",
   "metadata": {},
   "outputs": [],
   "source": [
    "my_notebook = NoteBook(\"팁램 강의노트\")"
   ]
  },
  {
   "cell_type": "code",
   "execution_count": 50,
   "id": "c9a4e39d",
   "metadata": {},
   "outputs": [
    {
     "data": {
      "text/plain": [
       "'팁램 강의노트'"
      ]
     },
     "execution_count": 50,
     "metadata": {},
     "output_type": "execute_result"
    }
   ],
   "source": [
    "my_notebook.title"
   ]
  },
  {
   "cell_type": "code",
   "execution_count": 80,
   "id": "933b50a3",
   "metadata": {},
   "outputs": [],
   "source": [
    "new_note1 =Note(\"싫어\")"
   ]
  },
  {
   "cell_type": "code",
   "execution_count": 81,
   "id": "8fa37ec1",
   "metadata": {},
   "outputs": [],
   "source": [
    "new_note2 =Note(\"좋아\")"
   ]
  },
  {
   "cell_type": "code",
   "execution_count": 91,
   "id": "a51aac27",
   "metadata": {},
   "outputs": [],
   "source": [
    "new_note3 =Note(\"좋아\")"
   ]
  },
  {
   "cell_type": "code",
   "execution_count": 92,
   "id": "81c5183d",
   "metadata": {},
   "outputs": [
    {
     "name": "stdout",
     "output_type": "stream",
     "text": [
      "뭐라적었지 :싫어\n"
     ]
    }
   ],
   "source": [
    "print(new_note)"
   ]
  },
  {
   "cell_type": "code",
   "execution_count": 93,
   "id": "1a12c3fb",
   "metadata": {},
   "outputs": [
    {
     "data": {
      "text/plain": [
       "'싫어'"
      ]
     },
     "execution_count": 93,
     "metadata": {},
     "output_type": "execute_result"
    }
   ],
   "source": [
    "new_note.content"
   ]
  },
  {
   "cell_type": "code",
   "execution_count": 94,
   "id": "c4872cc2",
   "metadata": {},
   "outputs": [],
   "source": [
    "my_notebook.add_note(new_note1) #둘다 사용가능"
   ]
  },
  {
   "cell_type": "code",
   "execution_count": 95,
   "id": "03413e40",
   "metadata": {},
   "outputs": [],
   "source": [
    "my_notebook.add_note(new_note2,100)"
   ]
  },
  {
   "cell_type": "code",
   "execution_count": 96,
   "id": "87f084f9",
   "metadata": {},
   "outputs": [],
   "source": [
    "my_notebook.add_note(new_note3,200)"
   ]
  },
  {
   "cell_type": "code",
   "execution_count": 97,
   "id": "661fa2b9",
   "metadata": {},
   "outputs": [
    {
     "name": "stdout",
     "output_type": "stream",
     "text": [
      "{200: <__main__.Note object at 0x000001ED16195F40>}\n"
     ]
    }
   ],
   "source": [
    "print(my_notebook.notes)"
   ]
  },
  {
   "cell_type": "code",
   "execution_count": 87,
   "id": "03c8a9b7",
   "metadata": {},
   "outputs": [
    {
     "ename": "AttributeError",
     "evalue": "'NoteBook' object has no attribute 'get_number_of_pages'",
     "output_type": "error",
     "traceback": [
      "\u001b[1;31m---------------------------------------------------------------------------\u001b[0m",
      "\u001b[1;31mAttributeError\u001b[0m                            Traceback (most recent call last)",
      "\u001b[1;32m<ipython-input-87-321e21465f48>\u001b[0m in \u001b[0;36m<module>\u001b[1;34m\u001b[0m\n\u001b[1;32m----> 1\u001b[1;33m \u001b[0mmy_notebook\u001b[0m\u001b[1;33m.\u001b[0m\u001b[0mget_number_of_pages\u001b[0m\u001b[1;33m(\u001b[0m\u001b[1;33m)\u001b[0m\u001b[1;33m\u001b[0m\u001b[1;33m\u001b[0m\u001b[0m\n\u001b[0m",
      "\u001b[1;31mAttributeError\u001b[0m: 'NoteBook' object has no attribute 'get_number_of_pages'"
     ]
    }
   ],
   "source": [
    "my_notebook.get_number_of_pages()"
   ]
  },
  {
   "cell_type": "code",
   "execution_count": null,
   "id": "13da461c",
   "metadata": {},
   "outputs": [],
   "source": []
  }
 ],
 "metadata": {
  "kernelspec": {
   "display_name": "Python 3.10.5 64-bit",
   "language": "python",
   "name": "python3"
  },
  "language_info": {
   "codemirror_mode": {
    "name": "ipython",
    "version": 3
   },
   "file_extension": ".py",
   "mimetype": "text/x-python",
   "name": "python",
   "nbconvert_exporter": "python",
   "pygments_lexer": "ipython3",
   "version": "3.10.5"
  },
  "vscode": {
   "interpreter": {
    "hash": "369f2c481f4da34e4445cda3fffd2e751bd1c4d706f27375911949ba6bb62e1c"
   }
  }
 },
 "nbformat": 4,
 "nbformat_minor": 5
}
