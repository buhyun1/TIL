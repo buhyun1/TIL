{
 "cells": [
  {
   "cell_type": "code",
   "execution_count": 1,
   "id": "ae7ecb48",
   "metadata": {},
   "outputs": [],
   "source": [
    "post_fix_data = \"3 5 * 4 +\"\n",
    "elelement_list = post_fix_data.split()"
   ]
  },
  {
   "cell_type": "code",
   "execution_count": 2,
   "id": "fee0871c",
   "metadata": {},
   "outputs": [
    {
     "data": {
      "text/plain": [
       "['3', '5', '*', '4', '+']"
      ]
     },
     "execution_count": 2,
     "metadata": {},
     "output_type": "execute_result"
    }
   ],
   "source": [
    "elelement_list "
   ]
  },
  {
   "cell_type": "code",
   "execution_count": 5,
   "id": "7b867f3e",
   "metadata": {},
   "outputs": [
    {
     "data": {
      "text/plain": [
       "15"
      ]
     },
     "execution_count": 5,
     "metadata": {},
     "output_type": "execute_result"
    }
   ],
   "source": [
    "eval(\"10 + 5\") # 파이썬에서 스트링을 코드로 연산 -> eval"
   ]
  },
  {
   "cell_type": "code",
   "execution_count": 6,
   "id": "b1f03d19",
   "metadata": {},
   "outputs": [],
   "source": [
    "postfix_stack = []\n",
    "for element in elelement_list:\n",
    "    if element.isdigit(): #숫자인지 확인\n",
    "        postfix_stack.append(element)\n",
    "    else:\n",
    "        val_1 = int(postfix_stack.pop()) #1,2바뀜\n",
    "        val_2 = int(postfix_stack.pop())\n",
    "        result = eval(f\"{val_1} {element} {val_2}\")\n",
    "        postfix_stack.append(result)"
   ]
  },
  {
   "cell_type": "code",
   "execution_count": 7,
   "id": "19fb2861",
   "metadata": {},
   "outputs": [
    {
     "data": {
      "text/plain": [
       "[19]"
      ]
     },
     "execution_count": 7,
     "metadata": {},
     "output_type": "execute_result"
    }
   ],
   "source": [
    "postfix_stack"
   ]
  },
  {
   "cell_type": "code",
   "execution_count": 13,
   "id": "e11031f2",
   "metadata": {},
   "outputs": [],
   "source": [
    "def postfix_calculator(postfix_exp : list):\n",
    "    postfix_stack = []\n",
    "    for element in elelement_list:\n",
    "        print(element)\n",
    "        if element.isdigit():\n",
    "            postfix_stack.append(element)\n",
    "        else:\n",
    "            val_2 = int(postfix_stack.pop())\n",
    "            val_1 = int(postfix_stack.pop())\n",
    "            result = eval(f\"{val_1} {element} {val_2}\")\n",
    "            \n",
    "            postfix_stack.append(result)\n",
    "        print(postfix_stack)\n",
    "    return postfix_stack[0]"
   ]
  },
  {
   "cell_type": "code",
   "execution_count": 14,
   "id": "bf38440a",
   "metadata": {},
   "outputs": [
    {
     "name": "stdout",
     "output_type": "stream",
     "text": [
      "5\n",
      "['5']\n",
      "3\n",
      "['5', '3']\n",
      "+\n",
      "[8]\n",
      "8\n",
      "[8, '8']\n",
      "2\n",
      "[8, '8', '2']\n",
      "-\n",
      "[8, 6]\n",
      "*\n",
      "[48]\n"
     ]
    },
    {
     "data": {
      "text/plain": [
       "48"
      ]
     },
     "execution_count": 14,
     "metadata": {},
     "output_type": "execute_result"
    }
   ],
   "source": [
    "post_fix_data = \"5 3 + 8 2 - *\"\n",
    "elelement_list = post_fix_data.split()\n",
    "postfix_calculator(elelement_list)"
   ]
  },
  {
   "cell_type": "code",
   "execution_count": 15,
   "id": "6980b5a2",
   "metadata": {},
   "outputs": [
    {
     "name": "stdout",
     "output_type": "stream",
     "text": [
      "3\n",
      "['3']\n",
      "5\n",
      "['3', '5']\n",
      "*\n",
      "[15]\n",
      "4\n",
      "[15, '4']\n",
      "+\n",
      "[19]\n"
     ]
    },
    {
     "data": {
      "text/plain": [
       "19"
      ]
     },
     "execution_count": 15,
     "metadata": {},
     "output_type": "execute_result"
    }
   ],
   "source": [
    "post_fix_data = \"3 5 * 4 +\"\n",
    "elelement_list = post_fix_data.split()\n",
    "postfix_calculator(elelement_list)"
   ]
  },
  {
   "cell_type": "code",
   "execution_count": 16,
   "id": "bdc25541",
   "metadata": {},
   "outputs": [
    {
     "name": "stdout",
     "output_type": "stream",
     "text": [
      "10\n",
      "['10']\n",
      "2\n",
      "['10', '2']\n",
      "8\n",
      "['10', '2', '8']\n",
      "*\n",
      "['10', 16]\n",
      "+\n",
      "[26]\n",
      "3\n",
      "[26, '3']\n",
      "-\n",
      "[23]\n"
     ]
    },
    {
     "data": {
      "text/plain": [
       "23"
      ]
     },
     "execution_count": 16,
     "metadata": {},
     "output_type": "execute_result"
    }
   ],
   "source": [
    "post_fix_data = \"10 2 8 * + 3 -\"\n",
    "elelement_list = post_fix_data.split()\n",
    "postfix_calculator(elelement_list)"
   ]
  },
  {
   "cell_type": "code",
   "execution_count": null,
   "id": "380e6190",
   "metadata": {},
   "outputs": [],
   "source": []
  }
 ],
 "metadata": {
  "kernelspec": {
   "display_name": "Python 3.10.5 64-bit",
   "language": "python",
   "name": "python3"
  },
  "language_info": {
   "codemirror_mode": {
    "name": "ipython",
    "version": 3
   },
   "file_extension": ".py",
   "mimetype": "text/x-python",
   "name": "python",
   "nbconvert_exporter": "python",
   "pygments_lexer": "ipython3",
   "version": "3.10.5"
  },
  "vscode": {
   "interpreter": {
    "hash": "369f2c481f4da34e4445cda3fffd2e751bd1c4d706f27375911949ba6bb62e1c"
   }
  }
 },
 "nbformat": 4,
 "nbformat_minor": 5
}
