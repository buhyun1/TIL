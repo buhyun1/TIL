{
 "cells": [
  {
   "cell_type": "code",
   "execution_count": 3,
   "id": "4aa48044",
   "metadata": {},
   "outputs": [],
   "source": [
    "\n",
    "# 각 코스별, 숙제별로 숙제를 가장 빨리 제출한 학생의 아이디와 제출한 시간을 출력하시오\n",
    "# 각 코스별, 숙제별로 학생들이 숙제를 제출한 회수를 출력하시오\n",
    "# 각 코스별, 숙제별, 학생별로 처음 만점이 될 때까지의 제출 횟수를 출력하시오, 단 만점이 아닌 경우에는 출력하지 않습니다."
   ]
  },
  {
   "cell_type": "code",
   "execution_count": 5,
   "id": "bf8a49dd",
   "metadata": {},
   "outputs": [],
   "source": [
    "import pandas as pd\n",
    "import numpy as np\n",
    "import pymysql"
   ]
  },
  {
   "cell_type": "code",
   "execution_count": 6,
   "id": "5717b0c9",
   "metadata": {},
   "outputs": [],
   "source": [
    "db = pymysql.connect(host = 'codeborn-bi-db.cvv1o1yrngie.ap-northeast-2.rds.amazonaws.com',\n",
    "                       port = 3306,\n",
    "                       user = 'weezing',\n",
    "                       password = '5yYX72QNiemc',\n",
    "                       db = 'codeborn')\n",
    "cursor = db.cursor()"
   ]
  },
  {
   "cell_type": "code",
   "execution_count": 7,
   "id": "fdd464c8",
   "metadata": {
    "scrolled": true
   },
   "outputs": [
    {
     "name": "stderr",
     "output_type": "stream",
     "text": [
      "C:\\Users\\hwang\\AppData\\Local\\Temp\\ipykernel_9712\\51494210.py:1: UserWarning: pandas only supports SQLAlchemy connectable (engine/connection) or database string URI or sqlite3 DBAPI2 connection. Other DBAPI2 objects are not tested. Please consider using SQLAlchemy.\n",
      "  df_courses = pd.read_sql_query('SELECT * FROM courses',db)\n",
      "C:\\Users\\hwang\\AppData\\Local\\Temp\\ipykernel_9712\\51494210.py:2: UserWarning: pandas only supports SQLAlchemy connectable (engine/connection) or database string URI or sqlite3 DBAPI2 connection. Other DBAPI2 objects are not tested. Please consider using SQLAlchemy.\n",
      "  df_professors = pd.read_sql_query('SELECT * FROM professors',db)\n",
      "C:\\Users\\hwang\\AppData\\Local\\Temp\\ipykernel_9712\\51494210.py:3: UserWarning: pandas only supports SQLAlchemy connectable (engine/connection) or database string URI or sqlite3 DBAPI2 connection. Other DBAPI2 objects are not tested. Please consider using SQLAlchemy.\n",
      "  df_problems = pd.read_sql_query('SELECT * FROM problems',db)\n",
      "C:\\Users\\hwang\\AppData\\Local\\Temp\\ipykernel_9712\\51494210.py:4: UserWarning: pandas only supports SQLAlchemy connectable (engine/connection) or database string URI or sqlite3 DBAPI2 connection. Other DBAPI2 objects are not tested. Please consider using SQLAlchemy.\n",
      "  df_tags = pd.read_sql_query('SELECT * FROM tags',db)\n",
      "C:\\Users\\hwang\\AppData\\Local\\Temp\\ipykernel_9712\\51494210.py:5: UserWarning: pandas only supports SQLAlchemy connectable (engine/connection) or database string URI or sqlite3 DBAPI2 connection. Other DBAPI2 objects are not tested. Please consider using SQLAlchemy.\n",
      "  df_problem_detail = pd.read_sql_query('SELECT * FROM problem_detail',db)\n",
      "C:\\Users\\hwang\\AppData\\Local\\Temp\\ipykernel_9712\\51494210.py:6: UserWarning: pandas only supports SQLAlchemy connectable (engine/connection) or database string URI or sqlite3 DBAPI2 connection. Other DBAPI2 objects are not tested. Please consider using SQLAlchemy.\n",
      "  df_assignments = pd.read_sql_query('SELECT * FROM assignments',db)\n",
      "C:\\Users\\hwang\\AppData\\Local\\Temp\\ipykernel_9712\\51494210.py:7: UserWarning: pandas only supports SQLAlchemy connectable (engine/connection) or database string URI or sqlite3 DBAPI2 connection. Other DBAPI2 objects are not tested. Please consider using SQLAlchemy.\n",
      "  df_submissions = pd.read_sql_query('SELECT * FROM submissions',db)\n",
      "C:\\Users\\hwang\\AppData\\Local\\Temp\\ipykernel_9712\\51494210.py:8: UserWarning: pandas only supports SQLAlchemy connectable (engine/connection) or database string URI or sqlite3 DBAPI2 connection. Other DBAPI2 objects are not tested. Please consider using SQLAlchemy.\n",
      "  df_students = pd.read_sql_query('SELECT * FROM students',db)\n",
      "C:\\Users\\hwang\\AppData\\Local\\Temp\\ipykernel_9712\\51494210.py:9: UserWarning: pandas only supports SQLAlchemy connectable (engine/connection) or database string URI or sqlite3 DBAPI2 connection. Other DBAPI2 objects are not tested. Please consider using SQLAlchemy.\n",
      "  df_submission_problem_detail = pd.read_sql_query('SELECT * FROM submission_problem_detail',db)\n",
      "C:\\Users\\hwang\\AppData\\Local\\Temp\\ipykernel_9712\\51494210.py:10: UserWarning: pandas only supports SQLAlchemy connectable (engine/connection) or database string URI or sqlite3 DBAPI2 connection. Other DBAPI2 objects are not tested. Please consider using SQLAlchemy.\n",
      "  df_submission_detail = pd.read_sql_query('SELECT * FROM submission_detail',db)\n",
      "C:\\Users\\hwang\\AppData\\Local\\Temp\\ipykernel_9712\\51494210.py:11: UserWarning: pandas only supports SQLAlchemy connectable (engine/connection) or database string URI or sqlite3 DBAPI2 connection. Other DBAPI2 objects are not tested. Please consider using SQLAlchemy.\n",
      "  df_student_course_relation = pd.read_sql_query('SELECT * FROM student_course_relation',db)\n"
     ]
    }
   ],
   "source": [
    "df_courses = pd.read_sql_query('SELECT * FROM courses',db)\n",
    "df_professors = pd.read_sql_query('SELECT * FROM professors',db)\n",
    "df_problems = pd.read_sql_query('SELECT * FROM problems',db)\n",
    "df_tags = pd.read_sql_query('SELECT * FROM tags',db)\n",
    "df_problem_detail = pd.read_sql_query('SELECT * FROM problem_detail',db)\n",
    "df_assignments = pd.read_sql_query('SELECT * FROM assignments',db)\n",
    "df_submissions = pd.read_sql_query('SELECT * FROM submissions',db)\n",
    "df_students = pd.read_sql_query('SELECT * FROM students',db)\n",
    "df_submission_problem_detail = pd.read_sql_query('SELECT * FROM submission_problem_detail',db)\n",
    "df_submission_detail = pd.read_sql_query('SELECT * FROM submission_detail',db)\n",
    "df_student_course_relation = pd.read_sql_query('SELECT * FROM student_course_relation',db)"
   ]
  },
  {
   "cell_type": "code",
   "execution_count": 10,
   "id": "7b33b841",
   "metadata": {},
   "outputs": [],
   "source": [
    "# 각 코스별로 제출 학생의 숫자와 숙제 평균 맞는 개수를 출력하시오"
   ]
  },
  {
   "cell_type": "code",
   "execution_count": 100,
   "id": "fce2ef05",
   "metadata": {
    "scrolled": true
   },
   "outputs": [
    {
     "name": "stderr",
     "output_type": "stream",
     "text": [
      "C:\\Users\\hwang\\AppData\\Local\\Temp\\ipykernel_9712\\712260685.py:16: FutureWarning: Indexing with multiple keys (implicitly converted to a tuple of keys) will be deprecated, use a list instead.\n",
      "  df_INNER_JOIN2.groupby('course_id')['student_id','submission_id'].nunique()\n"
     ]
    },
    {
     "data": {
      "text/html": [
       "<div>\n",
       "<style scoped>\n",
       "    .dataframe tbody tr th:only-of-type {\n",
       "        vertical-align: middle;\n",
       "    }\n",
       "\n",
       "    .dataframe tbody tr th {\n",
       "        vertical-align: top;\n",
       "    }\n",
       "\n",
       "    .dataframe thead th {\n",
       "        text-align: right;\n",
       "    }\n",
       "</style>\n",
       "<table border=\"1\" class=\"dataframe\">\n",
       "  <thead>\n",
       "    <tr style=\"text-align: right;\">\n",
       "      <th></th>\n",
       "      <th>student_id</th>\n",
       "      <th>submission_id</th>\n",
       "    </tr>\n",
       "    <tr>\n",
       "      <th>course_id</th>\n",
       "      <th></th>\n",
       "      <th></th>\n",
       "    </tr>\n",
       "  </thead>\n",
       "  <tbody>\n",
       "    <tr>\n",
       "      <th>123456</th>\n",
       "      <td>1</td>\n",
       "      <td>1</td>\n",
       "    </tr>\n",
       "    <tr>\n",
       "      <th>DSAA-2021</th>\n",
       "      <td>39</td>\n",
       "      <td>2855</td>\n",
       "    </tr>\n",
       "    <tr>\n",
       "      <th>DSAA-2022</th>\n",
       "      <td>31</td>\n",
       "      <td>3349</td>\n",
       "    </tr>\n",
       "    <tr>\n",
       "      <th>PY-2022S</th>\n",
       "      <td>94</td>\n",
       "      <td>14027</td>\n",
       "    </tr>\n",
       "  </tbody>\n",
       "</table>\n",
       "</div>"
      ],
      "text/plain": [
       "           student_id  submission_id\n",
       "course_id                           \n",
       "123456              1              1\n",
       "DSAA-2021          39           2855\n",
       "DSAA-2022          31           3349\n",
       "PY-2022S           94          14027"
      ]
     },
     "execution_count": 100,
     "metadata": {},
     "output_type": "execute_result"
    }
   ],
   "source": [
    "df_a = pd.DataFrame(df_student_course_relation.to_dict(), columns = ['course_id','student_id','teaching_assistant'])\n",
    "df_aa = df_a.where(df_a.teaching_assistant == 0)\n",
    "df_aa.drop(labels='teaching_assistant', axis=1, inplace=False)\n",
    "df_aa\n",
    "\n",
    "df_b = pd.DataFrame(df_assignments.to_dict(), columns = ['course_id','assignment_id','started_date','ended_date'])\n",
    "\n",
    "df_INNER_JOIN = pd.merge(df_aa, df_b,left_on = 'course_id', right_on = 'course_id', how ='inner').drop(columns='teaching_assistant')\n",
    "df_INNER_JOIN\n",
    "\n",
    "df_c = pd.DataFrame(df_submissions.to_dict(), columns = ['student_id','submission_id','submit_date','assignment_id'])\n",
    "\n",
    "df_INNER_JOIN2 = pd.merge(df_c, df_INNER_JOIN, on =['assignment_id','student_id'], how ='inner')\n",
    "df_INNER_JOIN2\n",
    "#df_INNER_JOIN2.drop_duplicates(['student_id'])\n",
    "df_INNER_JOIN2.groupby('course_id')['student_id','submission_id'].nunique()\n"
   ]
  },
  {
   "cell_type": "code",
   "execution_count": 76,
   "id": "f5b79881",
   "metadata": {},
   "outputs": [],
   "source": [
    "#df_INNER_JOIN2['submit_date'] = pd.to_datetime(df_INNER_JOIN2['submit_date'])\n",
    "#df_INNER_JOIN2['started_date'] = pd.to_datetime(df_INNER_JOIN2['started_date'])\n",
    "#df_INNER_JOIN2['ended_date'] = pd.to_datetime(df_INNER_JOIN2['ended_date'])\n",
    "\n",
    "#df_Final = df_INNER_JOIN2.where(df_INNER_JOIN2.submit_date > df_INNER_JOIN2.started_date) & df_INNER_JOIN2.where(df_INNER_JOIN2.submit_date < df_INNER_JOIN2.ended_date)\n",
    "#df_Final\n",
    "\n",
    "# 제출 조건 미적용, 중복제거 \n",
    "\n"
   ]
  },
  {
   "cell_type": "code",
   "execution_count": 101,
   "id": "5275408e",
   "metadata": {},
   "outputs": [],
   "source": [
    "# 각 코스별, 숙제별 숙제를 가장 빨리 제출한 학생의 아이디와 제출한 시간"
   ]
  },
  {
   "cell_type": "code",
   "execution_count": null,
   "id": "24933e85",
   "metadata": {},
   "outputs": [],
   "source": [
    "WITH test AS (SELECT submissions.assignment_id,\n",
    "       submissions.student_id,\n",
    "       MIN(submit_date),\n",
    "       ROW_NUMBER() over (PARTITION BY assignment_id ORDER BY MIN(submit_date)) AS \"rn\"\n",
    "FROM submissions\n",
    "INNER JOIN assignments a\n",
    "    on submissions.assignment_id = a.assignment_id\n",
    "WHERE submissions.assignment_id <> 1\n",
    "    AND submissions.student_id <> 11\n",
    "    AND submissions.student_id <> 1\n",
    "    AND a.started_date <= submissions.submit_date\n",
    "    AND a.ended_date >= submissions.submit_date\n",
    "GROUP BY assignment_id, student_id\n",
    "ORDER BY assignment_id, MIN(submit_date))\n",
    "\n",
    "SELECT *\n",
    "FROM test\n",
    "WHERE rn = 1"
   ]
  },
  {
   "cell_type": "code",
   "execution_count": 147,
   "id": "dc6fcba7",
   "metadata": {},
   "outputs": [
    {
     "data": {
      "text/plain": [
       "assignment_id\n",
       "2.0    2021-09-18 16:56:20\n",
       "3.0    2021-09-18 14:30:01\n",
       "6.0    2021-09-23 10:35:09\n",
       "8.0    2021-09-23 16:06:08\n",
       "10.0   2021-09-26 21:35:40\n",
       "11.0   2021-09-27 03:01:48\n",
       "13.0   2021-09-28 10:22:41\n",
       "14.0   2021-10-07 10:06:31\n",
       "16.0   2021-10-31 19:17:00\n",
       "18.0   2021-11-16 10:15:11\n",
       "21.0   2022-04-08 20:01:05\n",
       "22.0   2022-04-08 20:01:30\n",
       "23.0   2022-04-06 11:11:21\n",
       "24.0   2022-04-06 09:55:13\n",
       "25.0   2022-04-06 09:54:52\n",
       "26.0   2022-04-08 17:32:19\n",
       "27.0   2022-04-08 19:56:55\n",
       "28.0   2022-04-08 20:01:15\n",
       "29.0   2022-04-08 20:44:27\n",
       "30.0   2022-04-27 11:31:46\n",
       "33.0   2022-05-04 11:03:22\n",
       "34.0   2022-05-29 17:27:49\n",
       "35.0   2022-09-16 09:51:19\n",
       "36.0   2022-09-16 09:50:32\n",
       "37.0   2022-09-16 13:04:01\n",
       "38.0   2022-09-20 16:57:08\n",
       "39.0   2022-10-05 15:19:33\n",
       "40.0   2022-10-12 13:48:40\n",
       "41.0   2022-12-06 19:31:49\n",
       "Name: submit_date, dtype: datetime64[ns]"
      ]
     },
     "execution_count": 147,
     "metadata": {},
     "output_type": "execute_result"
    }
   ],
   "source": [
    "df_1 = pd.DataFrame(df_submissions.to_dict(), columns = ['assignment_id','student_id','submit_date'])\n",
    "\n",
    "df_11 = df_1.where(df_1.assignment_id != 1).where(df_1.student_id != 11).where(df_1.student_id != 1)\n",
    "\n",
    "df_2 = pd.DataFrame(df_assignments.to_dict(), columns = ['assignment_id', 'course_id', 'started_date', 'ended_date'])\n",
    "df_JOIN = pd.merge(df_11, df_2,left_on = 'assignment_id', right_on = 'assignment_id', how ='inner')\n",
    "#df_JOIN['submit_date'].min()\n",
    "\n",
    "\n",
    "df_JOIN.groupby('assignment_id')['submit_date'].min()\n",
    "#df_JOIN.groupby('assignment_id','student_id')['submit_date'].min()\n",
    "\n"
   ]
  },
  {
   "cell_type": "code",
   "execution_count": null,
   "id": "eaf591f6",
   "metadata": {},
   "outputs": [],
   "source": [
    "# row number, min 하는법"
   ]
  }
 ],
 "metadata": {
  "kernelspec": {
   "display_name": "Python 3 (ipykernel)",
   "language": "python",
   "name": "python3"
  },
  "language_info": {
   "codemirror_mode": {
    "name": "ipython",
    "version": 3
   },
   "file_extension": ".py",
   "mimetype": "text/x-python",
   "name": "python",
   "nbconvert_exporter": "python",
   "pygments_lexer": "ipython3",
   "version": "3.11.0"
  }
 },
 "nbformat": 4,
 "nbformat_minor": 5
}
