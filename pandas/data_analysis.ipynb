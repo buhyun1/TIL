{
 "cells": [
  {
   "cell_type": "code",
   "execution_count": null,
   "id": "2ccbd660",
   "metadata": {},
   "outputs": [],
   "source": [
    "import pandas as pd\n",
    "csv_test = pd.read_csv('C:/Users/Administrator/Documents/Python/test_csv_file.csv')\n"
   ]
  }
 ],
 "metadata": {
  "kernelspec": {
   "display_name": "Python 3",
   "language": "python",
   "name": "python3"
  },
  "language_info": {
   "codemirror_mode": {
    "name": "ipython",
    "version": 3
   },
   "file_extension": ".py",
   "mimetype": "text/x-python",
   "name": "python",
   "nbconvert_exporter": "python",
   "pygments_lexer": "ipython3",
   "version": "3.11.0"
  },
  "vscode": {
   "interpreter": {
    "hash": "525549e79b56dede3e431bcb662762b2544f2c2e901ae26de669d453a4e38a84"
   }
  }
 },
 "nbformat": 4,
 "nbformat_minor": 5
}
